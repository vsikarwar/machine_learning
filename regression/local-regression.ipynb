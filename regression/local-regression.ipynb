{
 "cells": [
  {
   "cell_type": "markdown",
   "metadata": {},
   "source": [
    "# Predicting house prices using k-nearest neighbors regression\n",
    "In this notebook, you will implement k-nearest neighbors regression. You will:\n",
    "  * Find the k-nearest neighbors of a given query input\n",
    "  * Predict the output for the query input using the k-nearest neighbors\n",
    "  * Choose the best value of k using a validation set"
   ]
  },
  {
   "cell_type": "markdown",
   "metadata": {},
   "source": [
    "# Fire up GraphLab Create"
   ]
  },
  {
   "cell_type": "code",
   "execution_count": 1,
   "metadata": {
    "collapsed": true
   },
   "outputs": [],
   "source": [
    "import graphlab"
   ]
  },
  {
   "cell_type": "markdown",
   "metadata": {},
   "source": [
    "# Load in house sales data"
   ]
  },
  {
   "cell_type": "markdown",
   "metadata": {},
   "source": [
    "For this notebook, we use a subset of the King County housing dataset created by randomly selecting 40% of the houses in the full dataset."
   ]
  },
  {
   "cell_type": "code",
   "execution_count": 2,
   "metadata": {
    "collapsed": false
   },
   "outputs": [
    {
     "name": "stderr",
     "output_type": "stream",
     "text": [
      "[INFO] \u001b[1;32m1452233069 : INFO:     (initialize_globals_from_environment:282): Setting configuration variable GRAPHLAB_FILEIO_ALTERNATIVE_SSL_CERT_FILE to C:\\Users\\sikarwar\\AppData\\Local\\Dato\\Dato Launcher\\lib\\site-packages\\certifi\\cacert.pem\n",
      "\u001b[0m\u001b[1;32m1452233069 : INFO:     (initialize_globals_from_environment:282): Setting configuration variable GRAPHLAB_FILEIO_ALTERNATIVE_SSL_CERT_DIR to \n",
      "\u001b[0mThis non-commercial license of GraphLab Create is assigned to vss1987@gmail.com and will expire on November 05, 2016. For commercial licensing options, visit https://dato.com/buy/.\n",
      "\n",
      "[INFO] Start server at: ipc:///tmp/graphlab_server-9524 - Server binary: C:\\Users\\sikarwar\\AppData\\Local\\Dato\\Dato Launcher\\lib\\site-packages\\graphlab\\unity_server.exe - Server log: C:\\Users\\sikarwar\\AppData\\Local\\Temp\\graphlab_server_1452233069.log.0\n",
      "[INFO] GraphLab Server Version: 1.7.1\n"
     ]
    }
   ],
   "source": [
    "sales = graphlab.SFrame('kc_house_data_small.gl/')"
   ]
  },
  {
   "cell_type": "markdown",
   "metadata": {},
   "source": [
    "# Import useful functions from previous notebooks"
   ]
  },
  {
   "cell_type": "markdown",
   "metadata": {},
   "source": [
    "To efficiently compute pairwise distances among data points, we will convert the SFrame into a 2D Numpy array. First import the numpy library and then copy and paste `get_numpy_data()` from the second notebook of Week 2."
   ]
  },
  {
   "cell_type": "code",
   "execution_count": 3,
   "metadata": {
    "collapsed": true
   },
   "outputs": [],
   "source": [
    "import numpy as np # note this allows us to refer to numpy as np instead"
   ]
  },
  {
   "cell_type": "code",
   "execution_count": 13,
   "metadata": {
    "collapsed": true
   },
   "outputs": [],
   "source": [
    "def get_numpy_data(data_sframe, features, output):\n",
    "    data_sframe['constant'] = 1 # this is how you add a constant column to an SFrame\n",
    "    # add the column 'constant' to the front of the features list so that we can extract it along with the others:\n",
    "    features = ['constant'] + features # this is how you combine two lists\n",
    "    # select the columns of data_SFrame given by the features list into the SFrame features_sframe (now including constant):\n",
    "    features_sframe = data_sframe[features]\n",
    "    # the following line will convert the features_SFrame into a numpy matrix:\n",
    "    feature_matrix = features_sframe.to_numpy()\n",
    "    # assign the column of data_sframe associated with the output to the SArray output_sarray\n",
    "    output_sarray = data_sframe[output]\n",
    "    # the following will convert the SArray into a numpy array by first converting it to a list\n",
    "    output_array = output_sarray.to_numpy()\n",
    "    return(feature_matrix, output_array)"
   ]
  },
  {
   "cell_type": "markdown",
   "metadata": {},
   "source": [
    "We will also need the `normalize_features()` function from Week 5 that normalizes all feature columns to unit norm. Paste this function below."
   ]
  },
  {
   "cell_type": "code",
   "execution_count": 14,
   "metadata": {
    "collapsed": true
   },
   "outputs": [],
   "source": [
    "def normalize_features(feature_matrix):\n",
    "    norms = np.linalg.norm(feature_matrix, axis=0)\n",
    "    normalized_features = feature_matrix/norms\n",
    "    return normalized_features, norms"
   ]
  },
  {
   "cell_type": "markdown",
   "metadata": {},
   "source": [
    "# Split data into training, test, and validation sets"
   ]
  },
  {
   "cell_type": "code",
   "execution_count": 15,
   "metadata": {
    "collapsed": false
   },
   "outputs": [],
   "source": [
    "(train_and_validation, test) = sales.random_split(.8, seed=1) # initial train/test split\n",
    "(train, validation) = train_and_validation.random_split(.8, seed=1) # split training set into training and validation sets"
   ]
  },
  {
   "cell_type": "markdown",
   "metadata": {},
   "source": [
    "# Extract features and normalize"
   ]
  },
  {
   "cell_type": "markdown",
   "metadata": {},
   "source": [
    "Using all of the numerical inputs listed in `feature_list`, transform the training, test, and validation SFrames into Numpy arrays:"
   ]
  },
  {
   "cell_type": "code",
   "execution_count": 16,
   "metadata": {
    "collapsed": false
   },
   "outputs": [],
   "source": [
    "feature_list = ['bedrooms',  \n",
    "                'bathrooms',  \n",
    "                'sqft_living',  \n",
    "                'sqft_lot',  \n",
    "                'floors',\n",
    "                'waterfront',  \n",
    "                'view',  \n",
    "                'condition',  \n",
    "                'grade',  \n",
    "                'sqft_above',  \n",
    "                'sqft_basement',\n",
    "                'yr_built',  \n",
    "                'yr_renovated',  \n",
    "                'lat',  \n",
    "                'long',  \n",
    "                'sqft_living15',  \n",
    "                'sqft_lot15']\n",
    "features_train, output_train = get_numpy_data(train, feature_list, 'price')\n",
    "features_test, output_test = get_numpy_data(test, feature_list, 'price')\n",
    "features_valid, output_valid = get_numpy_data(validation, feature_list, 'price')"
   ]
  },
  {
   "cell_type": "code",
   "execution_count": null,
   "metadata": {
    "collapsed": true
   },
   "outputs": [],
   "source": []
  },
  {
   "cell_type": "code",
   "execution_count": 17,
   "metadata": {
    "collapsed": false
   },
   "outputs": [
    {
     "name": "stdout",
     "output_type": "stream",
     "text": [
      "[[ 0.6  0.6  0.6]\n",
      " [ 0.8  0.8  0.8]]\n"
     ]
    }
   ],
   "source": [
    "features, norms = normalize_features(np.array([[3.,6.,9.],[4.,8.,12.]]))\n",
    "print features"
   ]
  },
  {
   "cell_type": "markdown",
   "metadata": {},
   "source": [
    "In computing distances, it is crucial to normalize features. Otherwise, for example, the `sqft_living` feature (typically on the order of thousands) would exert a much larger influence on distance than the `bedrooms` feature (typically on the order of ones). We divide each column of the training feature matrix by its 2-norm, so that the transformed column has unit norm.\n",
    "\n",
    "IMPORTANT: Make sure to store the norms of the features in the training set. The features in the test and validation sets must be divided by these same norms, so that the training, test, and validation sets are normalized consistently."
   ]
  },
  {
   "cell_type": "code",
   "execution_count": 18,
   "metadata": {
    "collapsed": false
   },
   "outputs": [],
   "source": [
    "features_train, norms = normalize_features(features_train) # normalize training set features (columns)\n",
    "features_test = features_test / norms # normalize test set by training set norms\n",
    "features_valid = features_valid / norms # normalize validation set by training set norms"
   ]
  },
  {
   "cell_type": "markdown",
   "metadata": {},
   "source": [
    "# Compute a single distance"
   ]
  },
  {
   "cell_type": "markdown",
   "metadata": {},
   "source": [
    "To start, let's just explore computing the \"distance\" between two given houses.  We will take our **query house** to be the first house of the test set and look at the distance between this house and the 10th house of the training set.\n",
    "\n",
    "To see the features associated with the query house, print the first row (index 0) of the test feature matrix. You should get an 18-dimensional vector whose components are between 0 and 1."
   ]
  },
  {
   "cell_type": "code",
   "execution_count": 19,
   "metadata": {
    "collapsed": false
   },
   "outputs": [
    {
     "name": "stdout",
     "output_type": "stream",
     "text": [
      "[ 0.01345102  0.01551285  0.01807473  0.01759212  0.00160518  0.017059    0.\n",
      "  0.05102365  0.0116321   0.01564352  0.01362084  0.02481682  0.01350306\n",
      "  0.          0.01345386 -0.01346927  0.01375926  0.0016225 ]\n"
     ]
    }
   ],
   "source": [
    "print features_test[0]"
   ]
  },
  {
   "cell_type": "markdown",
   "metadata": {},
   "source": [
    "Now print the 10th row (index 9) of the training feature matrix. Again, you get an 18-dimensional vector with components between 0 and 1."
   ]
  },
  {
   "cell_type": "code",
   "execution_count": 20,
   "metadata": {
    "collapsed": false
   },
   "outputs": [
    {
     "name": "stdout",
     "output_type": "stream",
     "text": [
      "[ 0.01345102  0.01163464  0.00602491  0.0083488   0.00050756  0.01279425\n",
      "  0.          0.          0.01938684  0.01390535  0.0096309   0.\n",
      "  0.01302544  0.          0.01346821 -0.01346254  0.01195898  0.00156612]\n"
     ]
    }
   ],
   "source": [
    "print features_train[9]"
   ]
  },
  {
   "cell_type": "markdown",
   "metadata": {},
   "source": [
    "***QUIZ QUESTION ***\n",
    "\n",
    "What is the Euclidean distance between the query house and the 10th house of the training set? \n",
    "\n",
    "Note: Do not use the `np.linalg.norm` function; use `np.sqrt`, `np.sum`, and the power operator (`**`) instead. The latter approach is more easily adapted to computing multiple distances at once."
   ]
  },
  {
   "cell_type": "code",
   "execution_count": 27,
   "metadata": {
    "collapsed": false
   },
   "outputs": [],
   "source": [
    "def cal_distance(query_house, feature_house):\n",
    "    result = np.sqrt(np.sum((query_house - feature_house)**2))\n",
    "    return result"
   ]
  },
  {
   "cell_type": "code",
   "execution_count": 28,
   "metadata": {
    "collapsed": false
   },
   "outputs": [
    {
     "name": "stdout",
     "output_type": "stream",
     "text": [
      "0.0597235937167\n"
     ]
    }
   ],
   "source": [
    "print cal_distance(features_test[0], features_train[9])"
   ]
  },
  {
   "cell_type": "markdown",
   "metadata": {},
   "source": [
    "# Compute multiple distances"
   ]
  },
  {
   "cell_type": "markdown",
   "metadata": {},
   "source": [
    "Of course, to do nearest neighbor regression, we need to compute the distance between our query house and *all* houses in the training set.  \n",
    "\n",
    "To visualize this nearest-neighbor search, let's first compute the distance from our query house (`features_test[0]`) to the first 10 houses of the training set (`features_train[0:10]`) and then search for the nearest neighbor within this small set of houses.  Through restricting ourselves to a small set of houses to begin with, we can visually scan the list of 10 distances to verify that our code for finding the nearest neighbor is working.\n",
    "\n",
    "Write a loop to compute the Euclidean distance from the query house to each of the first 10 houses in the training set."
   ]
  },
  {
   "cell_type": "code",
   "execution_count": 34,
   "metadata": {
    "collapsed": false
   },
   "outputs": [
    {
     "name": "stdout",
     "output_type": "stream",
     "text": [
      "[(0.0602747091729555, 1), (0.085468811488270832, 2), (0.061499464371202843, 3), (0.053402739788200579, 4), (0.058444840639381393, 5), (0.059879215101840008, 6), (0.054631404972615261, 7), (0.055431083241597921, 8), (0.052383627840972731, 9), (0.059723593716661257, 10)]\n",
      "[(0.052383627840972731, 9), (0.053402739788200579, 4), (0.054631404972615261, 7), (0.055431083241597921, 8), (0.058444840639381393, 5), (0.059723593716661257, 10), (0.059879215101840008, 6), (0.0602747091729555, 1), (0.061499464371202843, 3), (0.085468811488270832, 2)]\n"
     ]
    }
   ],
   "source": [
    "distance_list = []\n",
    "count = 0\n",
    "for i in features_train[0:10]:\n",
    "    count += 1\n",
    "    distance_list.append((cal_distance(features_test[0], i),count))\n",
    "print distance_list\n",
    "distance_list.sort()\n",
    "print distance_list"
   ]
  },
  {
   "cell_type": "markdown",
   "metadata": {},
   "source": [
    "*** QUIZ QUESTION ***\n",
    "\n",
    "Among the first 10 training houses, which house is the closest to the query house?"
   ]
  },
  {
   "cell_type": "code",
   "execution_count": null,
   "metadata": {
    "collapsed": false
   },
   "outputs": [],
   "source": []
  },
  {
   "cell_type": "markdown",
   "metadata": {},
   "source": [
    "It is computationally inefficient to loop over computing distances to all houses in our training dataset. Fortunately, many of the Numpy functions can be **vectorized**, applying the same operation over multiple values or vectors.  We now walk through this process."
   ]
  },
  {
   "cell_type": "markdown",
   "metadata": {},
   "source": [
    "Consider the following loop that computes the element-wise difference between the features of the query house (`features_test[0]`) and the first 3 training houses (`features_train[0:3]`):"
   ]
  },
  {
   "cell_type": "code",
   "execution_count": 35,
   "metadata": {
    "collapsed": false,
    "scrolled": false
   },
   "outputs": [
    {
     "name": "stdout",
     "output_type": "stream",
     "text": [
      "[  0.00000000e+00  -3.87821276e-03  -1.20498190e-02  -1.05552733e-02\n",
      "   2.08673616e-04  -8.52950206e-03   0.00000000e+00  -5.10236549e-02\n",
      "   0.00000000e+00  -3.47633726e-03  -5.50336860e-03  -2.48168183e-02\n",
      "  -1.63756198e-04   0.00000000e+00  -1.70072004e-05   1.30577772e-05\n",
      "  -5.14364795e-03   6.69281453e-04]\n",
      "[  0.00000000e+00  -3.87821276e-03  -4.51868214e-03  -2.26610387e-03\n",
      "   7.19763456e-04   0.00000000e+00   0.00000000e+00  -5.10236549e-02\n",
      "   0.00000000e+00  -3.47633726e-03   1.30705004e-03  -1.45830788e-02\n",
      "  -1.91048898e-04   6.65082271e-02   4.23240653e-05   6.22415897e-06\n",
      "  -2.89330197e-03   1.47606982e-03]\n",
      "[  0.00000000e+00  -7.75642553e-03  -1.20498190e-02  -1.30002801e-02\n",
      "   1.60518166e-03  -8.52950206e-03   0.00000000e+00  -5.10236549e-02\n",
      "   0.00000000e+00  -5.21450589e-03  -8.32384500e-03  -2.48168183e-02\n",
      "  -3.13866046e-04   0.00000000e+00   4.71047219e-05   1.56530415e-05\n",
      "   3.72914476e-03   1.64764925e-03]\n"
     ]
    }
   ],
   "source": [
    "for i in xrange(3):\n",
    "    print features_train[i]-features_test[0]\n",
    "    # should print 3 vectors of length 18"
   ]
  },
  {
   "cell_type": "markdown",
   "metadata": {},
   "source": [
    "The subtraction operator (`-`) in Numpy is vectorized as follows:"
   ]
  },
  {
   "cell_type": "code",
   "execution_count": 36,
   "metadata": {
    "collapsed": false
   },
   "outputs": [
    {
     "name": "stdout",
     "output_type": "stream",
     "text": [
      "[[  0.00000000e+00  -3.87821276e-03  -1.20498190e-02  -1.05552733e-02\n",
      "    2.08673616e-04  -8.52950206e-03   0.00000000e+00  -5.10236549e-02\n",
      "    0.00000000e+00  -3.47633726e-03  -5.50336860e-03  -2.48168183e-02\n",
      "   -1.63756198e-04   0.00000000e+00  -1.70072004e-05   1.30577772e-05\n",
      "   -5.14364795e-03   6.69281453e-04]\n",
      " [  0.00000000e+00  -3.87821276e-03  -4.51868214e-03  -2.26610387e-03\n",
      "    7.19763456e-04   0.00000000e+00   0.00000000e+00  -5.10236549e-02\n",
      "    0.00000000e+00  -3.47633726e-03   1.30705004e-03  -1.45830788e-02\n",
      "   -1.91048898e-04   6.65082271e-02   4.23240653e-05   6.22415897e-06\n",
      "   -2.89330197e-03   1.47606982e-03]\n",
      " [  0.00000000e+00  -7.75642553e-03  -1.20498190e-02  -1.30002801e-02\n",
      "    1.60518166e-03  -8.52950206e-03   0.00000000e+00  -5.10236549e-02\n",
      "    0.00000000e+00  -5.21450589e-03  -8.32384500e-03  -2.48168183e-02\n",
      "   -3.13866046e-04   0.00000000e+00   4.71047219e-05   1.56530415e-05\n",
      "    3.72914476e-03   1.64764925e-03]]\n"
     ]
    }
   ],
   "source": [
    "print features_train[0:3] - features_test[0]"
   ]
  },
  {
   "cell_type": "markdown",
   "metadata": {},
   "source": [
    "Note that the output of this vectorized operation is identical to that of the loop above, which can be verified below:"
   ]
  },
  {
   "cell_type": "code",
   "execution_count": 37,
   "metadata": {
    "collapsed": false
   },
   "outputs": [
    {
     "name": "stdout",
     "output_type": "stream",
     "text": [
      "[ 0.  0.  0.  0.  0.  0.  0.  0.  0.  0.  0.  0.  0.  0.  0.  0.  0.  0.]\n",
      "[ 0.  0.  0.  0.  0.  0.  0.  0.  0.  0.  0.  0.  0.  0.  0.  0.  0.  0.]\n",
      "[ 0.  0.  0.  0.  0.  0.  0.  0.  0.  0.  0.  0.  0.  0.  0.  0.  0.  0.]\n"
     ]
    }
   ],
   "source": [
    "# verify that vectorization works\n",
    "results = features_train[0:3] - features_test[0]\n",
    "print results[0] - (features_train[0]-features_test[0])\n",
    "# should print all 0's if results[0] == (features_train[0]-features_test[0])\n",
    "print results[1] - (features_train[1]-features_test[0])\n",
    "# should print all 0's if results[1] == (features_train[1]-features_test[0])\n",
    "print results[2] - (features_train[2]-features_test[0])\n",
    "# should print all 0's if results[2] == (features_train[2]-features_test[0])"
   ]
  },
  {
   "cell_type": "markdown",
   "metadata": {},
   "source": [
    "Aside: it is a good idea to write tests like this cell whenever you are vectorizing a complicated operation."
   ]
  },
  {
   "cell_type": "markdown",
   "metadata": {},
   "source": [
    "# Perform 1-nearest neighbor regression\n",
    "\n",
    "Now that we have the element-wise differences, it is not too hard to compute the Euclidean distances between our query house and all of the training houses. First, write a single-line expression to define a variable `diff` such that `diff[i]` gives the element-wise difference between the features of the query house and the `i`-th training house."
   ]
  },
  {
   "cell_type": "code",
   "execution_count": 90,
   "metadata": {
    "collapsed": false
   },
   "outputs": [],
   "source": [
    "diff = features_train - features_test[0]"
   ]
  },
  {
   "cell_type": "markdown",
   "metadata": {},
   "source": [
    "To test the code above, run the following cell, which should output a value -0.0934339605842:"
   ]
  },
  {
   "cell_type": "code",
   "execution_count": 91,
   "metadata": {
    "collapsed": false
   },
   "outputs": [
    {
     "name": "stdout",
     "output_type": "stream",
     "text": [
      "-0.0934339605842\n"
     ]
    }
   ],
   "source": [
    "print diff[-1].sum() # sum of the feature differences between the query and last training house\n",
    "# should print -0.0934339605842"
   ]
  },
  {
   "cell_type": "markdown",
   "metadata": {},
   "source": [
    "The next step in computing the Euclidean distances is to take these feature-by-feature differences in `diff`, square each, and take the sum over feature indices.  That is, compute the sum of square feature differences for each training house (row in `diff`).\n",
    "\n",
    "By default, `np.sum` sums up everything in the matrix and returns a single number. To instead sum only over a row or column, we need to specifiy the `axis` parameter described in the `np.sum` [documentation](http://docs.scipy.org/doc/numpy-1.10.1/reference/generated/numpy.sum.html). In particular, `axis=1` computes the sum across each row.\n",
    "\n",
    "Below, we compute this sum of square feature differences for all training houses and verify that the output for the 16th house in the training set is equivalent to having examined only the 16th row of `diff` and computing the sum of squares on that row alone."
   ]
  },
  {
   "cell_type": "code",
   "execution_count": 92,
   "metadata": {
    "collapsed": false
   },
   "outputs": [
    {
     "name": "stdout",
     "output_type": "stream",
     "text": [
      "0.00330705902879\n",
      "0.00330705902879\n"
     ]
    }
   ],
   "source": [
    "print np.sum(diff**2, axis=1)[15] # take sum of squares across each row, and print the 16th sum\n",
    "print np.sum(diff[15]**2) # print the sum of squares for the 16th row -- should be same as above"
   ]
  },
  {
   "cell_type": "markdown",
   "metadata": {},
   "source": [
    "With this result in mind, write a single-line expression to compute the Euclidean distances between the query house and all houses in the training set. Assign the result to a variable `distances`.\n",
    "\n",
    "**Hint**: Do not forget to take the square root of the sum of squares."
   ]
  },
  {
   "cell_type": "code",
   "execution_count": 148,
   "metadata": {
    "collapsed": false
   },
   "outputs": [
    {
     "name": "stdout",
     "output_type": "stream",
     "text": [
      "[(0.0038768105827755497, 3758), (0.0045552517282034834, 3144), (0.0053065224677904385, 4208), (0.005967313292745937, 5038), (0.0078781854696826602, 1495), (0.0079795099348334477, 4614), (0.0094187209105043735, 1389), (0.0096343445772874743, 523), (0.0098596627107690044, 4893), (0.010009082973607723, 1659), (0.010864831772054967, 474), (0.011433833020981615, 4460), (0.011580048390843603, 4695), (0.011689019140706141, 507), (0.01192962990167107, 1644), (0.011957496074032292, 1648), (0.012228279945829321, 2687), (0.012245700460642635, 4039), (0.012401033130362976, 2461), (0.012501644321494384, 2838), (0.012610800769633711, 286), (0.012659554687684484, 3006), (0.012843478156834589, 2050), (0.013116075072243018, 1779), (0.013187308597259311, 1698), (0.013385402662824933, 2458), (0.0137301918178042, 2767), (0.013947155531697345, 2139), (0.014324470515909994, 1426), (0.014348388751958175, 1481), (0.014521070351839247, 4080), (0.014526243826892861, 1996), (0.014565943156781299, 1936), (0.014894932968914953, 5397), (0.014963032350363351, 1654), (0.014997204222063009, 656), (0.015007347401581463, 4659), (0.015007559861876581, 3663), (0.015257086640133496, 1963), (0.01533952499733383, 3171), (0.015787858830336114, 3560), (0.015871169467548549, 2748), (0.015875214516849617, 233), (0.015934567153631573, 1105), (0.016094984900790928, 4814), (0.016125189554347559, 328), (0.016169167136891822, 4149), (0.017230671946767948, 3720), (0.017307965401219687, 2872), (0.017319846653324606, 3333), (0.017876734144793023, 4312), (0.017906341277573894, 1181), (0.018042481699443502, 3519), (0.018047342956669796, 1359), (0.018244432813595154, 740), (0.018586615991874281, 4847), (0.018637378913943695, 2756), (0.018672436466207244, 3082), (0.018825588231290526, 1980), (0.018829770233310623, 5051), (0.018857971329148404, 2085), (0.018933078303915059, 4748), (0.018966086847788305, 201), (0.019033616438785702, 5323), (0.019126804717854443, 5217), (0.019128143657033185, 2765), (0.019381345345084403, 4995), (0.019421733955001207, 3071), (0.019481962225240474, 278), (0.019600335066938281, 3669), (0.01965710730201908, 4160), (0.019676515839344967, 227), (0.020085951822943812, 3689), (0.020145422702220483, 3480), (0.02029739238222155, 2663), (0.020322154096467829, 4435), (0.020326216761584415, 273), (0.020344851133593508, 1422), (0.020376025088144026, 473), (0.020525290604991715, 2396), (0.020711102601234516, 34), (0.020740036494154585, 4096), (0.020771323875032326, 3556), (0.020787615383469571, 436), (0.020870860369278012, 1748), (0.02088085935927643, 4976), (0.020934251995783897, 2231), (0.020990567589026749, 783), (0.021143550504199013, 2013), (0.021239612838308448, 2645), (0.021310402472319218, 5378), (0.021330090348951204, 2094), (0.021462301926291526, 2762), (0.021510340240798849, 2184), (0.021611623635537352, 4038), (0.02162849415303893, 553), (0.021632504858237547, 333), (0.021654626088680261, 2206), (0.021724041800559177, 2590), (0.021743149714636874, 2604), (0.021777516163946888, 3489), (0.021871234447121073, 1621), (0.021928964036809086, 3508), (0.021954014472887744, 3798), (0.022028274711419243, 1067), (0.022162026296131256, 1619), (0.022169213841589402, 5135), (0.022256379487732177, 4573), (0.022284514356075074, 2513), (0.022302424231751806, 4867), (0.022353573412944684, 2880), (0.022476864312186401, 3554), (0.022556414839447418, 4637), (0.022703440127682717, 237), (0.022709589756643615, 2922), (0.022781262949639058, 1841), (0.022837080147440035, 595), (0.022876503189077257, 2086), (0.022954232681008963, 1106), (0.022968865272517756, 424), (0.023002240500886308, 4054), (0.023029863994013761, 1491), (0.023079506664157007, 2036), (0.023133298388220428, 3921), (0.023221724585141823, 1577), (0.023290905467380597, 5165), (0.023447173239861206, 3776), (0.023467594075548045, 3822), (0.023536125774608289, 642), (0.023548381405139818, 5170), (0.02354937957662365, 132), (0.023552446101295137, 3319), (0.023708232449603735, 100), (0.023817732171972691, 3933), (0.023832962761035564, 4616), (0.023986318012204962, 2533), (0.024064178543557867, 515), (0.024101167249986198, 1304), (0.024112965123934276, 2862), (0.024114706448438425, 2455), (0.024199694111067257, 2222), (0.024200202311487704, 2846), (0.024224667199854204, 2660), (0.024273763740731882, 2994), (0.024274676213611943, 2079), (0.024317057340748991, 2338), (0.024338516064085845, 2601), (0.024338713464221912, 1891), (0.024396479154035131, 2337), (0.024414890868859639, 4051), (0.024448080578004606, 3877), (0.024569217216123165, 5298), (0.024775470620829732, 3552), (0.024844482011663498, 2142), (0.024856308811163876, 2287), (0.024976745834375005, 1870), (0.025123205662383886, 900), (0.025137487517855141, 838), (0.025154130247986049, 2979), (0.025320587060927546, 1065), (0.025326815963100879, 397), (0.025457646947269832, 3861), (0.025577058042523089, 4693), (0.025592871516407129, 659), (0.025593451000765953, 2939), (0.025629696963420361, 4962), (0.025705147707678507, 5309), (0.025737734780049471, 4849), (0.025737734780049471, 4850), (0.025766153981308618, 2992), (0.02576955983890335, 4633), (0.02583329963953709, 3236), (0.025919141834594948, 4133), (0.026073657712805214, 3271), (0.026240141255773859, 263), (0.026345978678079855, 3351), (0.026413687335179799, 472), (0.026432877451722035, 3789), (0.02645081001629971, 1799), (0.026532015220160094, 464), (0.026704689346027346, 3695), (0.026767094543450144, 3599), (0.026803897361209066, 4067), (0.026909049189208167, 1603), (0.026936003655753164, 1207), (0.02698399865512548, 4158), (0.027195003140406706, 183), (0.027196350905205429, 1817), (0.027198008186371025, 3138), (0.027241812966859406, 1714), (0.027389160763637978, 267), (0.027484357349109135, 2887), (0.027616637827253831, 1463), (0.027660222143551495, 4457), (0.027737388751765499, 2984), (0.027761597714693501, 3992), (0.027883639974024575, 1085), (0.028034455153595129, 4870), (0.028059560661172184, 4836), (0.028097649310158991, 2928), (0.02816277909554837, 361), (0.028197661421742133, 1132), (0.028236737797289732, 4002), (0.028237802858602567, 4156), (0.028318643707562943, 3572), (0.028362068567967337, 5041), (0.028421451735862826, 1159), (0.028579141389044611, 3464), (0.028583081329543871, 1836), (0.028619386155383973, 884), (0.028773807133523135, 3937), (0.028775877994395738, 579), (0.028778853970958227, 4621), (0.029133190268949387, 3792), (0.029152071725806195, 3671), (0.029255786106382606, 2806), (0.029273825754849464, 2643), (0.029485204878853515, 4448), (0.029566749857143589, 1957), (0.029622013420190288, 3109), (0.02968808289121545, 2981), (0.029703812500425135, 4029), (0.029720157933420473, 4131), (0.029762451721063638, 3358), (0.029773755883304966, 1759), (0.029773850114911477, 2241), (0.029786346913187028, 2249), (0.029788928418251325, 4591), (0.029795367905548875, 4511), (0.029845195793487538, 1465), (0.030203695096707308, 732), (0.030260941987244178, 2291), (0.030302635450982451, 5203), (0.030304181424096362, 2868), (0.030516169259335611, 3196), (0.030741932107045022, 4192), (0.030783782188858758, 3925), (0.030787003799091991, 3650), (0.030925647025721002, 1917), (0.030937625691515987, 5510), (0.031018686670086459, 4844), (0.031076459576532368, 191), (0.031088602534352437, 3120), (0.031117793180990515, 3423), (0.03112929991656261, 2730), (0.031169520115987056, 2398), (0.031324455462269724, 4391), (0.031437610992554689, 1830), (0.031451531989666069, 1021), (0.031464116091246018, 813), (0.031535697367864907, 4168), (0.031562556579074745, 1838), (0.031584590165943428, 1508), (0.03160365267472541, 889), (0.031865837672836093, 2849), (0.032083679550981389, 3790), (0.032092566860956212, 2606), (0.032210391944970031, 486), (0.032276308854219518, 4121), (0.032313754737844237, 2200), (0.032394049962431629, 3799), (0.03240935677620313, 4140), (0.032470253035353051, 1257), (0.032528300695853059, 3523), (0.032574448035423913, 2378), (0.032575516714139316, 899), (0.032697943346628365, 5363), (0.032763560695758531, 4795), (0.03277262216056602, 4563), (0.032815420392606785, 5161), (0.032816554221188662, 5076), (0.032838482367315826, 580), (0.032914820371188876, 2497), (0.033009319631709909, 1725), (0.033046080105632251, 1954), (0.033088369599981633, 5220), (0.033133271622522414, 2376), (0.033136669682945118, 2527), (0.033270796121245685, 3477), (0.033287484835818171, 3598), (0.033334687848966309, 3509), (0.03361289710728272, 4309), (0.033622127031182628, 1371), (0.033622942158767412, 602), (0.033724590575566156, 2945), (0.033729834202702605, 2002), (0.03377156418099897, 4895), (0.033841597166570737, 1517), (0.033858011880492908, 3076), (0.033996535747345409, 54), (0.034003985780257512, 2795), (0.034055341266674762, 1316), (0.034185804111624266, 1434), (0.034314715446927824, 2491), (0.034439163688860054, 336), (0.034490416079445106, 1743), (0.034573920507735605, 413), (0.034585198257558146, 3278), (0.034701558334052786, 788), (0.034775000470677567, 4926), (0.034778996068075836, 2419), (0.034823176661840774, 1031), (0.035163896718486048, 5348), (0.035180745456913812, 2124), (0.035185819308808076, 2646), (0.035190332848717941, 3027), (0.035277538645521585, 4951), (0.035287329425453658, 920), (0.035370834118023921, 1240), (0.035377867810641693, 3979), (0.035388251953188468, 2077), (0.035500113377982284, 561), (0.035566739416453531, 5260), (0.035687683869313203, 1800), (0.035773513531783492, 358), (0.035788337708443016, 3304), (0.035857425420764887, 2453), (0.035860621635118009, 3986), (0.035924915971368487, 625), (0.035931259395106094, 2636), (0.035944938670580989, 2326), (0.035952075422616851, 4701), (0.036001458968213836, 2288), (0.036068135024811356, 1727), (0.036321529721468432, 1962), (0.036328465537039563, 501), (0.036330185558664879, 2802), (0.036373714749386492, 415), (0.036642713797159061, 4028), (0.03669003325514987, 704), (0.036712370571926507, 4835), (0.036729164573536366, 2265), (0.036767935378557694, 1761), (0.036879355326088548, 2834), (0.036937616448555886, 4177), (0.036937784150960315, 1737), (0.036955388118808594, 977), (0.036963477728715992, 5180), (0.036992678080156494, 2494), (0.037018608180058872, 3147), (0.03722731341339422, 1427), (0.037254688200028759, 4727), (0.037259476099082853, 858), (0.037298300933910671, 3812), (0.037439218358995677, 2422), (0.037547180126460494, 4946), (0.037586248461754859, 1357), (0.037684736088830703, 4557), (0.037732641526978659, 2318), (0.037742098253901728, 1089), (0.037749170718072295, 3162), (0.037797418337509006, 1167), (0.037831183679600935, 1605), (0.037834098893685608, 1139), (0.037902815860817014, 422), (0.037922644425441507, 5250), (0.038002063634424564, 2518), (0.038066164420693847, 3416), (0.03813739364982241, 4438), (0.038178008824255587, 3608), (0.038397223260216391, 2388), (0.038620134409456414, 4733), (0.038628538902321798, 532), (0.039040308206315419, 4793), (0.039161572565309298, 2476), (0.039262791346622514, 3764), (0.039414999612915322, 3734), (0.039718454398526004, 4171), (0.039756015714367134, 4857), (0.039892376784377702, 186), (0.040000974001307137, 751), (0.040022007474453156, 1987), (0.0401077097892635, 3767), (0.040132769586723058, 1006), (0.040186387859270881, 4652), (0.04066187577346643, 2790), (0.040690393609558707, 1916), (0.041509383680913253, 3475), (0.041551854753136913, 4555), (0.041679198071635844, 5446), (0.041746247684323397, 859), (0.041825986914793591, 3429), (0.041901015344551505, 4442), (0.042091130892571486, 1638), (0.042470651216620643, 172), (0.042498016874919192, 2514), (0.043096046147650113, 2710), (0.043154467237268387, 1910), (0.043250468372632307, 1877), (0.04336830116851853, 5119), (0.04344192540444148, 5098), (0.043474795783294315, 825), (0.043595083337797477, 2750), (0.043614817547389766, 1265), (0.043727642751425003, 3397), (0.04377307938286646, 3991), (0.043797586959733181, 950), (0.04386816158064203, 877), (0.043876115044723427, 2245), (0.044190538780947322, 4719), (0.04422296502592446, 215), (0.044586014803351899, 3569), (0.044760301126043608, 876), (0.044779536431204137, 2879), (0.044944558164545505, 3977), (0.045010970766252538, 1218), (0.045449245989737791, 3774), (0.045602940333952097, 3831), (0.045791310876861155, 4910), (0.045826185150151896, 1364), (0.046350531494205476, 4945), (0.047304211945227506, 4942), (0.048743703764473928, 3866), (0.050805762627488309, 3035), (0.051206433678151086, 53), (0.051220160930110371, 2837), (0.051231705867706409, 5513), (0.051253466686706196, 5332), (0.051269220098094648, 89), (0.051274679810711148, 4358), (0.051337582411196188, 3258), (0.05140997669109558, 5489), (0.051425114586697657, 3092), (0.051438527332816085, 5488), (0.051441524935919067, 3801), (0.051450887891764475, 5112), (0.051451279306781908, 1405), (0.051461072762596392, 787), (0.05149801669067703, 2941), (0.051499829533515652, 5108), (0.051530879945181386, 4474), (0.051540094145953348, 5299), (0.051556483866719176, 4881), (0.051566709210442228, 5059), (0.051577152800059194, 3910), (0.051591586600904987, 2300), (0.051599320332904416, 867), (0.051604463192527629, 331), (0.051606610326950263, 2528), (0.051609073820034913, 3794), (0.051615663722750685, 1530), (0.051636008028403617, 5152), (0.051636027117561129, 1286), (0.051643054643746092, 3864), (0.051646182055267324, 4944), (0.051667435181228599, 2791), (0.051672637830891904, 3412), (0.051694542641124136, 3446), (0.051701091104410221, 1170), (0.05171319332319408, 5475), (0.051717698398252042, 2342), (0.05171774182698851, 4883), (0.051723625225006065, 2292), (0.051730139956477281, 2850), (0.051731643324035015, 1850), (0.051758696510447788, 5451), (0.0517645374212393, 2000), (0.051765162283359076, 2281), (0.051765187331534124, 1045), (0.05176987652898736, 2977), (0.051770679541610486, 5326), (0.051786559840796949, 2847), (0.051795620345124908, 5456), (0.051796656705592199, 3731), (0.051812913789871115, 1250), (0.051821124627261982, 5026), (0.051840057803229388, 4978), (0.051840843031888677, 470), (0.05186038370672761, 722), (0.051873903943614276, 749), (0.051875462897764936, 4153), (0.051884635584372403, 2534), (0.051898082955544295, 181), (0.051900657982890945, 4581), (0.051935691020493488, 5241), (0.051938083301718348, 488), (0.051944007654102252, 4636), (0.051945849236278686, 5434), (0.05195458258320243, 1049), (0.051975551530882701, 3410), (0.051988481415360652, 4776), (0.051992571233575695, 2309), (0.052010184511957949, 1161), (0.052018511678709398, 4702), (0.0520221457765008, 3705), (0.052040397082208201, 3653), (0.052045263070902764, 638), (0.052050369260805224, 875), (0.052068481372519015, 2760), (0.052068814071506909, 1066), (0.05207119575309159, 5049), (0.052073405396403649, 1062), (0.052075251061931137, 3015), (0.052077895431440868, 5227), (0.052081669139350827, 3628), (0.052081927561047979, 141), (0.052083551430602122, 2325), (0.052089738543550979, 5431), (0.052093677668023926, 3916), (0.052094567869488614, 3517), (0.052096797426010658, 1382), (0.052097332833866625, 3841), (0.052103964154455992, 3513), (0.052108701942699363, 3881), (0.052129068911247779, 2035), (0.052135991024572163, 2053), (0.052137624919812345, 1843), (0.052138581732919541, 4802), (0.052140862320150652, 477), (0.052143625738773472, 2665), (0.052152188950265209, 5012), (0.052154428245827916, 3524), (0.052155962948342724, 198), (0.052157397054267286, 5244), (0.052157529828369291, 4011), (0.052167390995085543, 2874), (0.05216840438508815, 3005), (0.052169145858530427, 5255), (0.052177308710817522, 717), (0.052186534215183301, 3784), (0.052191968822592159, 3227), (0.052192265694979798, 2240), (0.052192893449613351, 2198), (0.052201884236585221, 961), (0.05220705008986426, 1038), (0.05220811851128157, 3622), (0.052221959816334804, 2627), (0.052224631528602558, 478), (0.052225430185245544, 5371), (0.05222889972772992, 2299), (0.052231803123669145, 5143), (0.052232458882816912, 3612), (0.052239348593739889, 2213), (0.052240468743065253, 384), (0.052245802677148699, 2414), (0.052248578139366418, 2030), (0.052249744986468269, 922), (0.052257090264058885, 4539), (0.052264510746002739, 2803), (0.052269244443973129, 2363), (0.05227016082852818, 3544), (0.052271379453117509, 3228), (0.05227142721882902, 327), (0.052271717163986188, 2117), (0.052272114583757398, 1541), (0.052274712462405344, 5469), (0.052274854971705476, 3587), (0.052276206320438251, 5328), (0.052277242621286794, 542), (0.052279171634535805, 963), (0.052285474975166196, 4420), (0.052285908454298223, 3212), (0.052288682251805253, 496), (0.052288767367392741, 3510), (0.052307565315293847, 588), (0.052307753739520464, 898), (0.052308393797511642, 2693), (0.052312056917859624, 251), (0.052312090460173086, 3131), (0.052319364158246097, 158), (0.052322599565735373, 3451), (0.052324948350034421, 3793), (0.052344473498661254, 841), (0.05235674396892602, 253), (0.052358282058380105, 1920), (0.052361058828316931, 767), (0.052362420357404411, 4162), (0.052368592192667172, 4979), (0.052371280544627204, 4596), (0.052373397575223843, 2686), (0.052374577091316904, 3436), (0.052375386660999217, 1693), (0.052376849173835678, 1402), (0.052382681007629467, 3771), (0.052383627840972731, 8), (0.052387249788962156, 2238), (0.052389952371236642, 460), (0.05238995943159433, 3759), (0.052393384302001703, 2166), (0.052393679712496956, 1077), (0.052393992703075778, 5169), (0.052395189830275669, 1553), (0.052398864076105368, 4611), (0.052401218691244179, 962), (0.052407415169061937, 4528), (0.052407623431200236, 3350), (0.052409975967579216, 2365), (0.052411421111407376, 3216), (0.05241805438031058, 3069), (0.052418125946551132, 540), (0.052427961518356152, 3666), (0.052429891202924461, 1934), (0.052430093247067849, 2727), (0.052431371280282302, 2174), (0.052435888674284954, 3950), (0.052438634150576688, 5163), (0.052449176711592903, 3564), (0.052450122826661054, 4798), (0.052453393104718311, 1783), (0.052470424515353657, 2952), (0.052485430360163385, 123), (0.05248699871872748, 3573), (0.052491419271880668, 1306), (0.052492043572198617, 4608), (0.052502999376307119, 4770), (0.052503585058783844, 4538), (0.05251057436021897, 3140), (0.052513437280994689, 3748), (0.052513823442254547, 5078), (0.052514234898824654, 437), (0.052518014989283969, 801), (0.052519709925226914, 5315), (0.052519945052586205, 5243), (0.052520283360109374, 3089), (0.052522550312443468, 687), (0.052523437578705819, 2075), (0.052527704348108453, 3682), (0.052530146720192968, 2114), (0.052538071553950225, 2306), (0.052547026642948906, 3303), (0.052549601893424454, 3602), (0.052560408402683695, 1999), (0.052570894302910891, 38), (0.052572275921661971, 4276), (0.052578144809237858, 4170), (0.052578408002899785, 283), (0.052581229161512762, 2797), (0.052582438455372645, 1231), (0.05258480101294518, 1970), (0.052586582969926965, 1141), (0.052588082973110566, 695), (0.052591459356255102, 4680), (0.052594554012308649, 4143), (0.052602135104645481, 549), (0.052604930800232368, 4640), (0.052610727013886666, 657), (0.0526121077929977, 4513), (0.052613014636669959, 5191), (0.052616637297995622, 1285), (0.052617459628683978, 846), (0.052618606793612528, 40), (0.052619328088153026, 2704), (0.052620841392794632, 176), (0.05262201491563117, 4706), (0.052627128638203693, 5267), (0.052627487814858175, 548), (0.052627772765400503, 1738), (0.052630519524868996, 5406), (0.052635637545743796, 3679), (0.052636747642906941, 4634), (0.05263729558137073, 3651), (0.052637320057077469, 72), (0.052643269710941888, 211), (0.052646243510401682, 960), (0.052650270096728333, 1191), (0.052650786370559824, 2587), (0.052652871449860375, 4959), (0.052655297467968362, 2054), (0.052657119730936564, 3814), (0.052661214655132238, 1210), (0.052665310265220949, 4469), (0.052673081575199232, 5166), (0.052676320033311588, 4606), (0.052677316210608872, 718), (0.052678872263480399, 2549), (0.052680148047944263, 1575), (0.052681687891088902, 3482), (0.052686462012528031, 4909), (0.052687251076069683, 1735), (0.052690050935769041, 1144), (0.052693958246065875, 2963), (0.052694076860054874, 3406), (0.052696413794876648, 2898), (0.05269832747156443, 3225), (0.052698987310402567, 1862), (0.0527020287463369, 4683), (0.052705143933488491, 937), (0.052705548495488287, 596), (0.052707346329355365, 1632), (0.052712042966556232, 5156), (0.05272667865228698, 462), (0.052732321304547192, 4930), (0.052733146750986559, 2881), (0.05273413358746671, 4728), (0.052735066219469058, 4285), (0.052735698131641182, 929), (0.052738482931201536, 2859), (0.052740446742295208, 1955), (0.052741652004250079, 759), (0.052743581538135721, 1298), (0.052743601735975469, 2852), (0.052755839103116584, 1961), (0.05275629212709175, 1252), (0.052756381932185771, 1664), (0.052757641522478319, 1479), (0.052761015920540409, 1222), (0.052764802368917903, 4752), (0.052765214768418028, 2906), (0.05276732795708549, 4902), (0.052767904106738331, 781), (0.052768908797485269, 482), (0.052769932619964259, 1528), (0.052778994328343168, 763), (0.052781411609050796, 392), (0.052781573575094311, 2161), (0.052784687466986571, 2980), (0.052788962538827131, 1981), (0.052788969389748412, 1430), (0.052790007501021807, 2172), (0.05279306171603268, 4744), (0.052799686442864299, 3820), (0.052803938624840251, 1720), (0.052807348237959066, 728), (0.052808469275941954, 689), (0.052811160233701741, 994), (0.052812902086482233, 903), (0.052814480509179543, 4792), (0.052815090657408845, 210), (0.052815562552465743, 4399), (0.052815948642519081, 179), (0.052819728237922366, 3978), (0.052820236037795378, 4833), (0.052820558503428698, 133), (0.052825573408379525, 805), (0.052826576325011518, 2339), (0.052827050609880681, 3399), (0.052827360411066962, 3744), (0.052828952720726602, 3643), (0.05283036188984154, 1238), (0.052835676912955876, 1959), (0.052839246304734688, 1331), (0.052845899772911709, 1815), (0.052850487629565727, 1110), (0.052851038453332187, 4997), (0.052854170235686192, 2186), (0.052855061244324694, 4932), (0.052858440440355363, 648), (0.052858700836926606, 3957), (0.05286102293095777, 503), (0.052866004016280582, 4405), (0.052870799696343694, 1094), (0.052876922209903567, 1482), (0.052881259865078134, 5172), (0.052881573506374187, 1355), (0.052882734627218111, 2431), (0.052888819946086477, 617), (0.052892894052169556, 404), (0.052893097525178207, 4113), (0.052893185365968563, 3685), (0.052895684154626706, 3408), (0.052895959364086073, 517), (0.052896494213259669, 661), (0.052899297001503254, 2324), (0.052901965557642573, 61), (0.052906214941342712, 1176), (0.052907504086645414, 1986), (0.052911114009238848, 2857), (0.052914461809051148, 266), (0.052916778603992722, 1705), (0.05291854468454131, 1001), (0.05291936634578838, 5490), (0.052919497239181101, 4908), (0.052922538275713388, 167), (0.052924092409738166, 3559), (0.052924674746915729, 3655), (0.052926782296600181, 497), (0.052927294772155034, 2628), (0.052927475104256758, 1708), (0.052928377535554606, 2930), (0.052928478732354879, 5327), (0.052931451050879, 761), (0.052932070457108224, 2631), (0.052932173619936435, 2946), (0.052935956853590531, 4063), (0.052936144436426621, 714), (0.052936223789270438, 3893), (0.05293660247570129, 738), (0.052938359297440382, 4219), (0.05294116687226675, 1511), (0.05294191771874885, 3112), (0.052945883017175191, 4019), (0.052950726059406809, 3478), (0.052958300918953295, 4866), (0.052958888393644966, 1600), (0.05296161183242018, 1500), (0.052965084029212156, 1983), (0.052967802691361553, 4325), (0.052976036858755855, 1189), (0.052989867876774566, 2657), (0.052992771003841553, 2150), (0.052998632944542032, 5062), (0.052999520537131542, 785), (0.052999861505977262, 1478), (0.053001453187064736, 2619), (0.053001589381124765, 4986), (0.053004276778967366, 2447), (0.053004950679613409, 631), (0.053005712041734571, 3280), (0.053008938781589826, 1601), (0.053012975573768953, 321), (0.053016958836036729, 2303), (0.053018517804117142, 2068), (0.053025574711493842, 4199), (0.053028871633210621, 1586), (0.053030779423817162, 4316), (0.053032958747696035, 925), (0.053033082113076183, 4348), (0.053034758621686551, 87), (0.053040239449522589, 3159), (0.053041198372519388, 3577), (0.053042582891151581, 2236), (0.053044721825886099, 42), (0.053046499745541507, 3993), (0.053049310835336795, 2909), (0.053050969639633197, 3497), (0.053054152344676211, 1431), (0.053057316412836675, 1887), (0.053057778791820352, 3816), (0.053063138964013594, 2883), (0.053064352558825384, 3231), (0.053064486913346198, 1874), (0.053066496392439266, 4216), (0.053071054188000559, 4066), (0.053073009678428283, 264), (0.053074076397605967, 4057), (0.053074642869412145, 4088), (0.053075246181645677, 3394), (0.053075847259976022, 347), (0.053075996395941002, 557), (0.053082160177733512, 323), (0.053086073589808901, 3048), (0.053092947223628048, 1899), (0.053096321011156043, 155), (0.053097272220560016, 2644), (0.053099481910598996, 1509), (0.053101600076448978, 4730), (0.053102378342314072, 1225), (0.053112787027072582, 3322), (0.053115149363909403, 3185), (0.053116645613692164, 3348), (0.053117921433242239, 4110), (0.05311893372918608, 3001), (0.053119230059120864, 4775), (0.053120826296467513, 3063), (0.053122046345692529, 527), (0.053125111439925175, 1030), (0.053125351364200213, 1937), (0.053133757053845994, 2445), (0.053133960200621819, 4427), (0.053135380380831133, 1425), (0.053142623696064643, 3515), (0.053144633897167677, 1992), (0.053146076703036844, 764), (0.053147112892787125, 3124), (0.053150195632112852, 2844), (0.053155486447971481, 573), (0.053157371294308836, 3668), (0.053159214877055355, 1539), (0.053163858612194463, 4261), (0.053169728867706885, 1308), (0.053169822657426292, 4021), (0.053171513558265882, 3903), (0.053171771757136339, 3384), (0.053171805827870407, 4022), (0.053174128393701586, 4293), (0.053176983656010507, 4972), (0.053177333370002577, 2935), (0.053177643341727372, 59), (0.05317841335934137, 1740), (0.053178972606807567, 4236), (0.053179784821696205, 5116), (0.053179938926948403, 537), (0.053184150038840965, 3624), (0.053184279377313425, 5194), (0.053190995751642579, 213), (0.053191634451296495, 882), (0.053195043975047623, 4114), (0.053199708022847229, 2573), (0.053200498104122723, 1825), (0.053201750007506411, 1950), (0.053202481687705139, 516), (0.053209492157290893, 41), (0.053209624164728894, 2585), (0.053209806483708315, 5167), (0.053209864106392689, 3150), (0.053209948638668743, 126), (0.05321007689012569, 1633), (0.053212076148505871, 660), (0.053215109612469953, 3989), (0.053218366145106742, 2516), (0.053218988045058514, 389), (0.053218993796644937, 270), (0.053220027987387952, 3187), (0.053221685325127971, 1522), (0.053223630295187785, 1749), (0.053233733086902796, 2293), (0.053236011113444386, 1492), (0.053236428612418424, 4690), (0.053240255003740217, 3918), (0.053240255053927002, 5106), (0.05324047737587486, 484), (0.053242940878968949, 1211), (0.053245861587098868, 2215), (0.0532538413251143, 4729), (0.053259858273666048, 78), (0.053262142117767808, 2170), (0.053262967381747121, 2263), (0.053270848425749341, 4352), (0.053271641707495238, 3490), (0.053277637664784709, 2508), (0.053278171560546504, 2442), (0.053281649150892611, 2205), (0.053284523674370511, 301), (0.053287008767491172, 3942), (0.053289358820183527, 1174), (0.053290748097784314, 1724), (0.053293329436899142, 357), (0.053294302120456001, 2900), (0.053297561874784363, 611), (0.053297769960456251, 1113), (0.053298372527616308, 675), (0.053298597030634089, 1569), (0.05330014950425685, 992), (0.053301250728276725, 1551), (0.053301785749188035, 2712), (0.053301816828251115, 1082), (0.053302246751161457, 2816), (0.053303144967776918, 1547), (0.05330528140307713, 3157), (0.053306099029640674, 3786), (0.053308517801753448, 1679), (0.05331271610080645, 260), (0.053315187712607771, 3746), (0.053319421134913926, 1889), (0.053319534833649804, 2926), (0.053320480503424784, 1820), (0.053323034768377998, 1302), (0.05332390156130809, 2772), (0.053323982149054427, 4211), (0.053324754906969911, 1307), (0.053326353871442349, 2840), (0.053327437491730106, 102), (0.053327968847490255, 827), (0.053328868049864253, 4376), (0.053332105962000581, 3031), (0.053332685203086379, 2313), (0.05333762467171934, 1060), (0.053338106233364498, 3601), (0.053339396093591188, 2280), (0.053341500616188427, 418), (0.053343684944544868, 4056), (0.053349001841659034, 605), (0.053352159773133012, 1662), (0.053353856344329056, 3832), (0.053358441688704371, 3923), (0.05336003981651051, 1680), (0.053361031194077334, 2532), (0.05336236230510364, 3894), (0.053363151655693955, 1319), (0.053364803163329678, 3698), (0.053366369852671264, 1855), (0.053369904995039026, 4201), (0.053370981039765904, 703), (0.053374271965378819, 1928), (0.053374887580705993, 5445), (0.05337599182866342, 4806), (0.053376330687460054, 1666), (0.053383556064385294, 2708), (0.053385032008413741, 1860), (0.053385773376148034, 1283), (0.053387165456028014, 1050), (0.053390752176997507, 4832), (0.053392742316264369, 2098), (0.053393178124946435, 2996), (0.053398463372065053, 4302), (0.053398662491000878, 3104), (0.053402739788200579, 3), (0.053403168506410206, 3224), (0.053403520704341394, 2728), (0.053403976936222758, 3852), (0.05340669335694842, 4980), (0.053412645135543967, 1074), (0.053413520474075805, 559), (0.053416758363794205, 2319), (0.053417205082307115, 2987), (0.053418154295443269, 3945), (0.053421514816466585, 2436), (0.053427139982827783, 1123), (0.053427942450694418, 1624), (0.053429178604305232, 652), (0.053429635374335392, 3128), (0.053432710368936737, 3376), (0.053441183641590312, 289), (0.053441183641590312, 290), (0.053441913966298479, 973), (0.053442042164186104, 2283), (0.05344515756216664, 2734), (0.053446922109353909, 1931), (0.053454447578277366, 4784), (0.053456196444533539, 3646), (0.053456409096091756, 2592), (0.053456727660472096, 154), (0.053460580849701865, 1033), (0.053463091452280086, 2115), (0.053470720822426127, 4546), (0.053473451465249032, 1576), (0.053476022003514735, 1322), (0.053476881940068874, 2046), (0.05347968044875881, 2008), (0.053480126163160308, 90), (0.053487637913778523, 3740), (0.053489797627834103, 2836), (0.053490124578307367, 1012), (0.053491585196236174, 1203), (0.053492020765065054, 4354), (0.05349332457909349, 4523), (0.053493600204814765, 1369), (0.053495075251682872, 1131), (0.053497376274314834, 258), (0.053498313280968018, 4214), (0.053498944674002312, 1249), (0.053504527289144267, 2483), (0.053505468062975181, 3889), (0.053505672567508697, 182), (0.053514191833318174, 3633), (0.053515073492730852, 3763), (0.053516098078845782, 4386), (0.053517076852581988, 135), (0.053518712619576907, 2289), (0.053521597086740369, 2001), (0.053526976572569378, 4465), (0.05352853188533703, 2510), (0.053530080525143887, 1262), (0.053530401129624351, 4762), (0.053530977193728929, 2071), (0.053543374809682576, 931), (0.05354361191399979, 1016), (0.053543970310467932, 946), (0.053547394733139159, 3056), (0.053548495591965915, 2312), (0.053549210558315082, 3726), (0.053551290573108985, 4238), (0.05355555604809336, 4735), (0.053556291888896997, 1149), (0.053562409678609077, 1876), (0.053563040210406754, 1604), (0.053566911602101329, 3547), (0.053567237734877253, 4803), (0.053569465133190962, 581), (0.053572732640069579, 4161), (0.053574253668273689, 3407), (0.053574783875658345, 354), (0.053576767296929617, 4660), (0.053576840397280667, 938), (0.053578062820154843, 4275), (0.053580429702810677, 712), (0.05358959614372287, 2352), (0.053590380197739047, 365), (0.053591190165779012, 3757), (0.053591325115292084, 5123), (0.053592514540140433, 1054), (0.053596165361737974, 3161), (0.053601066430870724, 2672), (0.053604129128490191, 3525), (0.053604129561431881, 658), (0.053610633464754906, 3487), (0.053611857424651355, 1467), (0.053616221390340925, 1043), (0.053619622703375634, 3897), (0.053624821314147378, 793), (0.053625667450775037, 1119), (0.053628033879936046, 2563), (0.053629330419075569, 3145), (0.053630690762673586, 1826), (0.053631007069073651, 2463), (0.053632719076199833, 3581), (0.053634211619822909, 5294), (0.053639881173040749, 4552), (0.053643346214021281, 4871), (0.053643962267593687, 3693), (0.053648979355872421, 3706), (0.053650182256200135, 1646), (0.05365036337044031, 1440), (0.053655447643980253, 3214), (0.053655726377738439, 4230), (0.053656406949691413, 1384), (0.053662277740385657, 2394), (0.053666077817846276, 4773), (0.053669575088783658, 546), (0.053670426240237087, 2787), (0.053672795829169222, 606), (0.053673672542388112, 2698), (0.053678442927987902, 3907), (0.053680947912130905, 2936), (0.053681569921012619, 3847), (0.053682488152114627, 2596), (0.053685563012748641, 782), (0.053685702134320439, 4923), (0.053685718280742672, 3901), (0.053693235121440051, 865), (0.053698568620873466, 3704), (0.053699558312518714, 5458), (0.053705646525110548, 2392), (0.0537068129594101, 2381), (0.053715227293110651, 1391), (0.053718310163643979, 700), (0.053721391330325101, 3971), (0.053726358810764263, 4998), (0.053730102628350394, 4116), (0.053733135242897849, 3674), (0.053734394550332416, 641), (0.053734750118109555, 4349), (0.053747162705572595, 3385), (0.053751676696967156, 3815), (0.053752333107164013, 5006), (0.053753959670229536, 4907), (0.053754078642189493, 250), (0.053759176975096828, 3529), (0.053767046866829683, 5184), (0.053770469715013994, 1886), (0.05377146576186035, 919), (0.05377194287274218, 4788), (0.053771951240180797, 3768), (0.053773467127623306, 2895), (0.053774519755904603, 3988), (0.053778603161715621, 582), (0.053781507372323831, 4345), (0.053781726941282491, 3712), (0.053785337147299009, 3860), (0.053785743590222576, 3928), (0.053791965022917936, 272), (0.053793737096730729, 4990), (0.053796327979510845, 315), (0.053797754729445264, 2258), (0.053802702675237256, 4388), (0.053810245389502576, 4783), (0.053814075545093751, 2362), (0.05381446800560731, 2781), (0.053817197563397173, 1051), (0.053818986051548522, 452), (0.053826376010745233, 2019), (0.053831033307116846, 4010), (0.053834587990890914, 2384), (0.053835713517981387, 854), (0.053835968790799493, 3248), (0.053836727096300149, 3259), (0.053836846829687077, 376), (0.053842886719748358, 3372), (0.053847385798662772, 530), (0.053850175883623841, 1175), (0.053850413156348198, 1785), (0.053853560467157793, 2738), (0.053853961950099741, 1490), (0.05385590167423511, 4271), (0.053857472763579578, 3891), (0.053859541905153303, 2076), (0.05385965612706016, 3865), (0.053860462714156371, 4421), (0.053862272079735284, 235), (0.053863511825725602, 4876), (0.053864192590301063, 2598), (0.053867930714566588, 46), (0.053868286881032984, 883), (0.053871439747018579, 3110), (0.053872257999045305, 1034), (0.053873559183470747, 4246), (0.053875410886536204, 2891), (0.053875506808769666, 701), (0.05387558957168688, 3452), (0.053876792300654751, 4830), (0.053878939718877049, 447), (0.053882359137737389, 2383), (0.053883400172424545, 1564), (0.053885577100126508, 1728), (0.053889490108517832, 4250), (0.053891259291754888, 4075), (0.053892951543588655, 4547), (0.053892951543588655, 4548), (0.053893123774641775, 1153), (0.053894495517108079, 1768), (0.05389481754412518, 3782), (0.053897834661310706, 3616), (0.053898582611326455, 3142), (0.053901247890211335, 4043), (0.053905253996306697, 18), (0.053908082995517623, 3107), (0.053911337414702172, 4477), (0.053911933957013637, 5385), (0.053914784338401855, 2043), (0.05391625915504164, 930), (0.053916331509576663, 2562), (0.053920546487299811, 3062), (0.053921124391007415, 3983), (0.053923204842216792, 1264), (0.053927934842123854, 3810), (0.053928908684720674, 4467), (0.053929565703935173, 3314), (0.053933040456484782, 1871), (0.053933980291147994, 591), (0.053934032434106334, 2294), (0.053936428062101006, 4584), (0.053939661620252356, 4346), (0.053941818349768314, 4443), (0.053942273441182374, 817), (0.053944522050574401, 3042), (0.053945169406654954, 3247), (0.053948501483594258, 5499), (0.053954072986474214, 878), (0.053956875095562767, 491), (0.053958329898337112, 713), (0.053961224846174688, 1777), (0.053963108798020638, 2065), (0.053965054323340707, 2938), (0.053967604161019776, 4560), (0.053973376146476612, 3501), (0.053975310596799712, 2044), (0.053984476055154752, 721), (0.053986595969853543, 252), (0.053987489366435049, 1894), (0.05398955752048263, 1822), (0.05398973385059759, 1473), (0.053998012915229307, 4142), (0.054006675865501237, 4605), (0.054016656771420805, 3084), (0.054017358825955472, 3550), (0.054019937640882254, 746), (0.054020249088755794, 3778), (0.054028853481423465, 2953), (0.054029656859931018, 2024), (0.054033399332287298, 4800), (0.054038666055382885, 2420), (0.054043243986731562, 3226), (0.054045168892803433, 1379), (0.054050810748102807, 4006), (0.054053503495005338, 1713), (0.054054564107496345, 2488), (0.054059073103206609, 4843), (0.05406299102602026, 401), (0.054063165360303284, 3099), (0.054066016846277397, 17), (0.05406663524515843, 5291), (0.054073873661832306, 5297), (0.054075258885754048, 419), (0.054079282117356534, 888), (0.054081739027662737, 3123), (0.054081907519418514, 3872), (0.054085200566407574, 2163), (0.05408734882606004, 2432), (0.054091290623276916, 3463), (0.054101480055664355, 4957), (0.054104850542128179, 3023), (0.054114059666129651, 4103), (0.054116285485707044, 1407), (0.054119685378193345, 2751), (0.054122478735890094, 4919), (0.054122697774972806, 1216), (0.054125746052072828, 2766), (0.054128241478360539, 2747), (0.054130100229681538, 2662), (0.054133057470195686, 3974), (0.054135702071915634, 4818), (0.054135878081345415, 1561), (0.054137295932135045, 445), (0.054137503070578408, 3175), (0.054141923110199948, 585), (0.05414285039457746, 304), (0.054146707294391722, 4023), (0.054146915105295922, 2460), (0.054153333998591187, 1516), (0.054178175446895314, 1673), (0.054184751086875912, 607), (0.054189348602655681, 4618), (0.054191663349623873, 1612), (0.054192341802036838, 174), (0.054207550096189938, 4898), (0.054209103309753232, 4217), (0.054217097376434743, 3308), (0.054221527398703444, 77), (0.054224100147257474, 3441), (0.054224468823907038, 3606), (0.054226491914291242, 2503), (0.054229909722079202, 3690), (0.054230086224813734, 2865), (0.054233123723493544, 3717), (0.054233934453159889, 4329), (0.054236215190191825, 3514), (0.054239232313487616, 3202), (0.054243539969570827, 1373), (0.054260307494485044, 3715), (0.054264888051693209, 4377), (0.054265948826511035, 518), (0.05426631137380291, 1832), (0.054270026302459619, 2667), (0.054271114557950285, 3254), (0.054272914486992549, 5083), (0.054273044936201303, 3912), (0.054274814205769496, 2537), (0.054282665422648951, 248), (0.054282916395979347, 988), (0.054287141184448585, 4209), (0.054289220577326172, 1395), (0.054290613427912124, 2572), (0.054292018029893627, 897), (0.054295685016544505, 4725), (0.054295791836525858, 4840), (0.054297642920389452, 598), (0.054300208589960569, 2624), (0.054307672442426187, 1520), (0.05431225587250392, 1549), (0.054312295613502787, 4016), (0.054317815918762571, 752), (0.054324990342251585, 3491), (0.054327123020156069, 1802), (0.054329905480318533, 1398), (0.054330414650067119, 4091), (0.054333382697748997, 2212), (0.054337165706761253, 4112), (0.054337631602547024, 913), (0.05433787389873395, 3615), (0.054344372260787463, 456), (0.054348952766923211, 2298), (0.054352083632158564, 1289), (0.054352327272889626, 2061), (0.054352331122941584, 565), (0.054356829395184353, 3301), (0.05436018814767471, 3694), (0.054362044975051156, 337), (0.054362578467932264, 3003), (0.054362923802452397, 2991), (0.054367784942493592, 4878), (0.054374782625821239, 3353), (0.054376260642362895, 4620), (0.0543771876860695, 3349), (0.054379126655455183, 4966), (0.05438003380986417, 849), (0.054383898163253994, 3518), (0.054384332486915453, 4359), (0.05439102616346761, 2305), (0.054400827264224697, 5344), (0.054405577173428012, 3999), (0.054410877361040111, 4065), (0.054412960246740187, 3415), (0.054413381312308363, 2285), (0.054414244159552101, 382), (0.054426987628199405, 1202), (0.054433223044012942, 3195), (0.054435086690512183, 2056), (0.054438217385816182, 4274), (0.054438325721183359, 547), (0.054438328828917734, 2522), (0.054440379485841642, 558), (0.054449342212291904, 231), (0.05444935626742662, 4578), (0.054460771182161992, 850), (0.05446281007637728, 3761), (0.054474959311391881, 367), (0.054478637576767408, 3868), (0.054488813174229121, 2233), (0.054489123535066498, 487), (0.05449395643237407, 188), (0.054494729139334903, 4675), (0.054499181702356639, 3652), (0.054499907382231781, 1762), (0.054504440086200721, 4120), (0.054509214370338843, 5276), (0.054509608198204856, 4556), (0.054509725906725634, 2736), (0.054513469454602732, 3818), (0.054517418136804607, 4924), (0.054519113836249765, 1424), (0.054519423266016859, 3404), (0.054519867615475073, 1007), (0.054524025086048672, 1629), (0.054524537106449972, 886), (0.054525582034318794, 508), (0.054525813740316516, 809), (0.054526035054504887, 5282), (0.054531807519880765, 5001), (0.054535107041258787, 4755), (0.054539514926032845, 976), (0.054541881523866395, 5356), (0.054543788559435973, 4983), (0.05454645090728439, 463), (0.054569282968286538, 576), (0.054578245924827053, 5134), (0.054579069119736791, 2815), (0.05458125326748367, 1840), (0.054582254691752409, 1795), (0.054585937296914293, 2678), (0.054593328164063377, 735), (0.054601527270598749, 3172), (0.054608470390689633, 3607), (0.05460912544109426, 3642), (0.054610463600137278, 3968), (0.054617505453424663, 1924), (0.054617863635848495, 3207), (0.054619042708019649, 991), (0.054620723743435053, 1448), (0.054631242278107894, 4026), (0.054631404972615261, 6), (0.054636893262034171, 1035), (0.054638775938039431, 5307), (0.054650817384085788, 4579), (0.054653569752364468, 3393), (0.054654253583470327, 3019), (0.054654289570207085, 1187), (0.054655751538286161, 369), (0.054665627663604159, 2962), (0.054666719108969912, 3266), (0.054667016466092261, 2096), (0.054670000432653632, 2684), (0.054671792307264259, 2066), (0.054677340679639322, 2969), (0.054677579380893064, 3364), (0.054677613795581101, 88), (0.054687023632527892, 4087), (0.05468720859194693, 5253), (0.054694611741315007, 4356), (0.054694867067879627, 5094), (0.054699344711113346, 4750), (0.054701556844191646, 2878), (0.054703113664710278, 2642), (0.054705455856875973, 390), (0.054706458178782551, 3318), (0.054713677850069448, 2282), (0.054719848009341605, 2690), (0.054720413602083046, 3401), (0.054720859287975397, 1421), (0.05472756215568305, 5334), (0.054742275873567829, 3002), (0.054743344970692158, 3982), (0.05475067411567492, 4711), (0.05475090348978362, 2676), (0.054752652791630267, 2813), (0.054753062756859108, 1363), (0.054754940019207873, 2314), (0.054756178749896973, 1114), (0.054767373943421405, 5003), (0.054779387555954372, 4417), (0.054792852022558493, 4514), (0.054793371064977982, 1515), (0.054794109870836417, 3442), (0.054798861076996885, 3267), (0.054799549379051488, 1294), (0.05480008211233612, 1493), (0.054802913496024105, 1715), (0.054804949285522778, 1100), (0.054815830437822455, 3121), (0.054816550522233165, 2268), (0.054817488859940984, 3457), (0.054819011437521555, 3803), (0.054823749459235918, 4896), (0.054832172284258483, 4226), (0.054834069090465037, 1235), (0.054834718463669066, 239), (0.054835833542289374, 3367), (0.05483675240613619, 1667), (0.054838419272761632, 3045), (0.054839494387040645, 205), (0.054850587351470949, 4709), (0.05486628041287283, 2302), (0.054872273766001366, 36), (0.054872690881953796, 426), (0.054872782426968879, 5295), (0.054874564173915827, 3156), (0.054876922103272718, 1751), (0.054877162886598413, 2933), (0.054881489758255027, 3357), (0.054882651982557241, 4182), (0.054888091112045623, 2138), (0.054893863811623464, 777), (0.054902295056804509, 3710), (0.054912298046021379, 2014), (0.054915068192890784, 302), (0.054927455529553124, 504), (0.054930162123014728, 3354), (0.054932468639459262, 241), (0.054933929977983471, 5325), (0.054937065443684305, 4975), (0.054937321471486611, 2577), (0.05494133644907756, 4987), (0.05494257961896365, 2505), (0.054944343750554528, 5249), (0.054951521541109827, 2109), (0.054952340143644252, 1641), (0.054954136056228231, 3626), (0.054954553311097672, 5011), (0.054972611934233827, 3788), (0.054972821375426022, 506), (0.054978166990625341, 5457), (0.054979348893832401, 2648), (0.054980488889291211, 3096), (0.054981691912826376, 2841), (0.054982430281687401, 1160), (0.054982444287682515, 3888), (0.054985400381096831, 3282), (0.054987970281601489, 3232), (0.054988704987830622, 5310), (0.054997295003546325, 342), (0.0549978078715994, 395), (0.055002451135211593, 3095), (0.055002683545413801, 451), (0.055005653962393944, 915), (0.055006042584405418, 3862), (0.055008226996074661, 5021), (0.055008611565889737, 2412), (0.055010101842099111, 2670), (0.055011351174172704, 5437), (0.055011790036604766, 2752), (0.055024557464987696, 819), (0.055028366847970502, 3629), (0.055032809028152843, 1532), (0.055041101940149259, 4590), (0.055042175515692758, 709), (0.055042222220769661, 965), (0.055044173012163446, 5007), (0.055047409881462603, 3011), (0.055051355911723686, 614), (0.055054222755423196, 4742), (0.055060363031360693, 3363), (0.055061142142989079, 4159), (0.055068036329096744, 1677), (0.055074007268376343, 68), (0.055074318973001128, 324), (0.055076776127109046, 4532), (0.055079652861451632, 3902), (0.055086279401057481, 4595), (0.055092625698887288, 1183), (0.055107393907984296, 987), (0.05510906509627915, 1570), (0.055112304049707052, 4384), (0.055115154965078524, 1640), (0.05511672439143097, 2702), (0.055117780317923956, 697), (0.055124400267341001, 1718), (0.055128092550914928, 3791), (0.055131921044436802, 5285), (0.055134163174882948, 5358), (0.055134220378568119, 4549), (0.055141819041861613, 2507), (0.055142114106787911, 4297), (0.05514621834210854, 1731), (0.055153540442305346, 3411), (0.055157084015389567, 4328), (0.055162920871718014, 953), (0.055164183332493552, 1267), (0.055173380634411268, 2164), (0.055181770700978357, 4943), (0.055185603303427408, 1922), (0.055190749234366003, 4392), (0.055192647642644248, 3030), (0.055200374662388925, 2650), (0.055204462222942535, 1341), (0.055207227494719818, 748), (0.05520946256987426, 3542), (0.055217428793681092, 1400), (0.055226124586573014, 2012), (0.055227209064612155, 4450), (0.055229125039091845, 5086), (0.055233105578752453, 3773), (0.055233799741852434, 824), (0.055255361089797519, 3659), (0.05525587489482147, 2244), (0.055257728089328426, 4994), (0.055260793732236475, 2141), (0.055266886920731763, 3465), (0.055267846985001506, 1450), (0.055268150547073527, 5121), (0.055268876612035958, 5362), (0.055269888839677372, 5089), (0.0553000195578685, 1036), (0.055300169286795729, 4232), (0.055300728353576467, 4306), (0.055305711342003613, 808), (0.055307757817622316, 4206), (0.05531498550371939, 2457), (0.055315998683270751, 2057), (0.055316137317574399, 1311), (0.055316359253970576, 3579), (0.055317462100746263, 949), (0.055327274216484645, 3530), (0.055329169627858665, 4860), (0.055332390910484065, 2007), (0.055333745396031454, 4562), (0.055340578133536045, 1393), (0.055345336874383158, 681), (0.055350549402692746, 5506), (0.055352619049390962, 4937), (0.055352926598396399, 5133), (0.055356350684959116, 3369), (0.055362141878354879, 5377), (0.055363548352765558, 476), (0.055364820611435939, 1226), (0.055364879399616714, 1688), (0.055369722791631423, 2641), (0.055369860382232711, 3057), (0.055369963482831776, 3541), (0.055370036789682484, 3194), (0.055372454072869455, 730), (0.055372596400949652, 4650), (0.055375497678919521, 967), (0.055385949171031373, 1239), (0.055387124838585974, 3114), (0.055389231088623141, 4326), (0.055389315371687058, 1271), (0.055390422870991482, 3327), (0.055394294741620199, 2786), (0.055394683764567014, 3582), (0.055398015342000777, 4782), (0.055408434370703918, 1059), (0.055416427166533437, 3952), (0.05541659652059374, 1080), (0.055430750312137393, 1429), (0.055431083241597921, 7), (0.055435631746712406, 743), (0.055440141043248445, 5367), (0.055440205489140457, 24), (0.055443575264713836, 1940), (0.055444766206271791, 2311), (0.0554507021674484, 2932), (0.055452560756887412, 3879), (0.055459197809530597, 5289), (0.05546887825004318, 1695), (0.055470024265393304, 3167), (0.055470646776162279, 2361), (0.055473739771504889, 5517), (0.055475329011083256, 1938), (0.055478556685495131, 4027), (0.055479991093228993, 5511), (0.05548143753214993, 2611), (0.055492123690450638, 1909), (0.05550674622347878, 3453), (0.055520042231197934, 47), (0.055523765215934037, 2567), (0.055535857550370334, 4635), (0.05553739932176683, 2063), (0.055537753401378676, 2649), (0.055539390996114164, 5462), (0.055539808185246335, 974), (0.055540211862148837, 5018), (0.055540903927167241, 1099), (0.055542905704709183, 4984), (0.055543605769166247, 199), (0.055551990900013046, 3395), (0.055552382681367952, 3010), (0.055559176054700343, 4332), (0.055564948378135463, 4456), (0.055572072631853264, 5278), (0.055576272867642419, 711), (0.055578181854189786, 203), (0.055582873869304189, 4324), (0.055583901530586594, 1199), (0.055589941920770373, 55), (0.05559298076256225, 2581), (0.055595255430681854, 5271), (0.055597180066965485, 3943), (0.05560265734419749, 4965), (0.055604712256682925, 417), (0.055610647270778066, 2188), (0.055616190061453331, 3680), (0.055634729887807266, 5342), (0.055637331171365129, 4520), (0.055640310521534925, 2610), (0.055645293515242528, 346), (0.055645719179778876, 4567), (0.055645988419046243, 3289), (0.055648130870724358, 3940), (0.055649293674709589, 1711), (0.055654060367480163, 1849), (0.055655254182652714, 5069), (0.055657297144809832, 5501), (0.055660698559468091, 495), (0.055660900873375468, 2373), (0.055669455877340207, 2261), (0.055670064799102636, 1782), (0.055673750577948128, 4189), (0.055676186563068095, 4811), (0.055678819135702044, 2811), (0.055684401651308738, 4288), (0.055685681118599673, 1037), (0.055690636045599887, 5413), (0.05569419117491245, 1655), (0.055701772570507874, 4815), (0.055707629801212931, 677), (0.055711350369379242, 3471), (0.055712068787154498, 175), (0.05572638061743064, 4147), (0.055728152676992437, 3137), (0.055737959675733015, 4515), (0.05573994168330882, 2733), (0.055748576298973805, 3462), (0.055752327778392563, 4052), (0.055755087704615881, 362), (0.055762474708842498, 4267), (0.055765457473812931, 1162), (0.055767249857668302, 1829), (0.055767677771326435, 2919), (0.0557685655060201, 5254), (0.055769544617703892, 5303), (0.055786725454921228, 1142), (0.055797715747760962, 522), (0.055802220876823558, 851), (0.055805368669434231, 870), (0.055807717160994433, 4242), (0.055810817220120434, 4344), (0.055811876430512122, 3285), (0.055815886314174529, 1419), (0.055819331489279582, 3526), (0.055819609300718165, 3262), (0.055827019945003921, 4492), (0.055828898210071594, 3413), (0.055829189348499286, 4284), (0.05583311648617565, 1944), (0.055833162423243099, 5144), (0.05583370174905921, 1614), (0.055839550715528617, 1134), (0.055845081861172201, 1628), (0.055861248257877139, 4999), (0.055861460622679437, 1914), (0.055864456397813594, 2673), (0.055872257978068253, 3500), (0.055875463048565853, 52), (0.055888178439435762, 1676), (0.055891835139866522, 5432), (0.055895984985129911, 3192), (0.05589930628999365, 3688), (0.05589967114628825, 3707), (0.055919131758127155, 5507), (0.055925602277116002, 694), (0.05592567630475135, 609), (0.055928191088593114, 3853), (0.055941296360801467, 3450), (0.055944231339979486, 483), (0.055948952139757119, 4763), (0.055949583840599761, 99), (0.05595398440530687, 2677), (0.055962487425986737, 5213), (0.055963153074790717, 5346), (0.05596400447826895, 4569), (0.055966206392138951, 3287), (0.055966900147718782, 5450), (0.055967207015139374, 3276), (0.055973324459706, 639), (0.055973675619472738, 1821), (0.055978837616669802, 2153), (0.055989376924667413, 2976), (0.055989383434777634, 1172), (0.055991266608904113, 5366), (0.055993804189510422, 480), (0.055998892540553173, 693), (0.055999082606514185, 4592), (0.055999119389025687, 30), (0.05600195837855472, 5199), (0.056003361666659625, 2072), (0.056006411983169663, 2137), (0.056008382627195895, 4426), (0.05601231965654354, 4494), (0.056019139049926829, 3419), (0.056024075527583761, 471), (0.056026662498312924, 3973), (0.056036423624009832, 2556), (0.056036768543147743, 933), (0.056039389949175782, 4916), (0.056039424171266727, 3381), (0.05604648828949628, 2929), (0.056046705026782134, 5232), (0.056047113315128197, 5261), (0.056047595874685795, 5361), (0.056048914395461481, 110), (0.056053130800136831, 207), (0.056054630499794561, 4982), (0.056060678724024725, 2042), (0.05606268980219533, 4262), (0.056083249444921088, 2480), (0.056083290592064183, 3936), (0.056088763202796377, 5463), (0.056093304360714018, 2855), (0.056099340025078819, 4437), (0.056104442755913871, 3277), (0.056108412328982719, 5065), (0.05611768208701285, 4558), (0.056122067821066324, 400), (0.056126091909902261, 2158), (0.056128688085488085, 2707), (0.0561362418181253, 3108), (0.05614570485941299, 189), (0.056147108724534607, 48), (0.056157321681880361, 2771), (0.056160084894485984, 4429), (0.056165886049175967, 171), (0.056166622714708105, 4973), (0.056170999169807605, 4692), (0.056171123586826854, 2351), (0.056174601740283284, 5117), (0.056179541482368721, 4593), (0.056189306045915009, 4191), (0.056197780972865666, 2284), (0.056202000095497417, 4411), (0.056206039863325764, 3738), (0.056209918732505484, 5447), (0.056229620761058523, 4504), (0.056238605602012097, 2446), (0.056240228704925663, 3625), (0.056256165107085185, 1746), (0.056258118843901007, 485), (0.05626152269191495, 2078), (0.056264194134801826, 2871), (0.05626439276535674, 2144), (0.05627553013889252, 4691), (0.056288461096934229, 2784), (0.056297254140144616, 3317), (0.056298824768806488, 4540), (0.056301287881626097, 293), (0.056301776605553563, 4929), (0.056304087416618728, 2385), (0.056306661937653851, 4243), (0.05630693242011435, 5402), (0.056307572489741838, 4678), (0.056308361909433682, 5224), (0.056309831434305777, 945), (0.056316443240021094, 2243), (0.056318546365161988, 943), (0.056322209655074076, 2349), (0.056322423546817012, 3863), (0.056326730618254044, 4044), (0.056326872751594037, 1480), (0.056331560136683792, 4758), (0.056333982008232704, 3496), (0.056334163833097611, 43), (0.05633709060171626, 1845), (0.05634425958451883, 4320), (0.056347357924261612, 1639), (0.056348116149246064, 5109), (0.056348734313515982, 3586), (0.056352422205187047, 2156), (0.056364010219843219, 4632), (0.056369292593852247, 348), (0.056371224590002968, 1232), (0.056374504673293892, 3640), (0.056381434615454966, 427), (0.056383744090629052, 5496), (0.056383881389658545, 1303), (0.056391544314012831, 12), (0.056400963426918131, 2908), (0.056410456900117416, 3854), (0.05641430204523798, 5122), (0.056420632731691907, 5182), (0.05643129980074113, 4577), (0.056435330147528648, 1472), (0.056444732232267369, 2242), (0.05644584518491054, 271), (0.056448951315023962, 3486), (0.056459541210130755, 1332), (0.056466774387208325, 4237), (0.056481006992247854, 5072), (0.056488344617522918, 4631), (0.05648979617178148, 4765), (0.056499071246571296, 5216), (0.056512920841078111, 4809), (0.056516482094106257, 1930), (0.056530603565372727, 70), (0.056532786584205602, 2975), (0.056550034520043181, 1352), (0.056570838089823446, 5459), (0.056572887221576697, 5130), (0.056573412531022722, 1097), (0.056575222344442982, 1869), (0.056586443620050345, 3459), (0.056586443620050345, 3460), (0.056587875105827114, 2270), (0.056591024845702491, 63), (0.056596669303145032, 148), (0.056597978730272079, 2407), (0.056606444181694027, 2221), (0.056610696277072381, 1590), (0.056626093385435783, 1912), (0.056644013426893319, 4889), (0.056644983796697038, 5388), (0.056645082694450004, 1221), (0.056650029334612294, 14), (0.056652117109742862, 1780), (0.056656842059101355, 880), (0.056666567899239434, 2237), (0.056673149362091432, 1923), (0.05668106882566562, 4739), (0.056681189908328725, 3667), (0.056693537785378466, 5004), (0.05670635679321568, 2181), (0.056712155632892405, 4524), (0.056715309469332141, 2110), (0.056723017148328669, 2048), (0.056741570786052326, 909), (0.056746835601909323, 815), (0.056761475667799113, 4034), (0.056769055640661474, 3474), (0.056774582406871492, 4333), (0.056811821119954357, 3828), (0.056812917104814252, 1070), (0.056844693321062435, 3230), (0.056851576982232782, 4064), (0.056857136622664124, 4956), (0.056863935938773438, 3046), (0.0568785407927795, 2774), (0.056883696800907269, 1360), (0.056895147752953006, 4003), (0.056896504266673267, 2129), (0.056911198773753391, 2746), (0.056924925655353793, 2798), (0.056946035322561046, 2863), (0.056946695598127817, 494), (0.056948132660581838, 2717), (0.056961554520887088, 1958), (0.056962700827128267, 4049), (0.056965408368827262, 5103), (0.056965768075628156, 2366), (0.056975221041576422, 4600), (0.056983576369741815, 923), (0.05698477329478497, 1186), (0.056987416191551371, 355), (0.056994198296232319, 5389), (0.056997819033195542, 4228), (0.057002408138774614, 5409), (0.05700990563858984, 1995), (0.05701533858081579, 5365), (0.057015960770759509, 1241), (0.05701754873242354, 4173), (0.057017729579179048, 1535), (0.057018439831196477, 4713), (0.057020138344888421, 2958), (0.057021009174837614, 5126), (0.057021773429886534, 4551), (0.057022157510152133, 745), (0.057023316126790853, 5521), (0.05702389002027744, 1401), (0.057025069385180802, 1878), (0.057026495401191653, 1512), (0.057029586201570087, 1733), (0.057029611961242961, 1314), (0.057030041256461446, 4184), (0.057032065135658644, 3242), (0.057032692468879931, 5322), (0.057033266197615826, 4466), (0.057033919930867726, 683), (0.057036807563897153, 305), (0.057036923765813027, 5002), (0.057039132780006947, 853), (0.057039169868944598, 5433), (0.057039214533053398, 1591), (0.057039866140835969, 2761), (0.057042907865818671, 310), (0.057043421317018263, 23), (0.057044843872121047, 5053), (0.057045121501533839, 568), (0.057046512438792246, 3697), (0.057046691800647698, 5188), (0.057047612497810235, 2831), (0.057047639079565164, 3261), (0.057048736335533562, 2615), (0.057048748102208696, 3987), (0.057048750705440326, 192), (0.057050231090409992, 80), (0.057050603384866429, 3479), (0.057051514816542623, 3684), (0.057051906848469586, 1875), (0.057052158935521548, 1558), (0.057052444705346282, 13), (0.057052969442486563, 4627), (0.057053098459990577, 3696), (0.057054948456637014, 3938), (0.057055162765731048, 5314), (0.057055512701128464, 5304), (0.057057393814442636, 5525), (0.057058031461178632, 5374), (0.057058526153444131, 525), (0.057058999631689714, 621), (0.057059007646140088, 5318), (0.057060560699282732, 2045), (0.057061350702766696, 4331), (0.057062643526281868, 4963), (0.057062657298840871, 4083), (0.057062727147547385, 4865), (0.057064050215604671, 1275), (0.057064125558326802, 96), (0.057064772768591239, 5237), (0.057065527390107298, 5070), (0.057065931324462284, 3713), (0.057067946404598183, 4050), (0.057068499056696059, 5019), (0.057068700608429848, 651), (0.057072873418651686, 1690), (0.057073146309402051, 1602), (0.057073410519767317, 4831), (0.057073637473689653, 691), (0.057075179837848308, 4213), (0.057076151780741893, 5201), (0.05707790939350689, 4774), (0.057078205480754075, 3210), (0.057079458143767595, 5435), (0.057079633856901957, 3590), (0.057080746227869045, 3882), (0.057082906961482667, 5466), (0.05708331337562441, 1973), (0.057083906911935316, 2558), (0.057085527004851561, 3574), (0.057088970258643471, 645), (0.057089567310234027, 2481), (0.057090176578571031, 4576), (0.057093324921627719, 4993), (0.057093408150752978, 5175), (0.057093552376907442, 5031), (0.057093843388413786, 3958), (0.057093980488463383, 3908), (0.057094130563720653, 4166), (0.057094900725743247, 3824), (0.057095532940952154, 2530), (0.05709580249403029, 5414), (0.057098160477987339, 4414), (0.057099156299186007, 741), (0.057100244690647797, 3476), (0.057100797999681513, 2542), (0.057101155888208792, 1504), (0.057101301248200287, 5110), (0.057102817837110499, 3772), (0.057105390368669955, 5064), (0.057105435920315056, 4165), (0.057105490772416057, 5486), (0.057105825717799784, 3229), (0.057106182614826258, 5061), (0.057107959386543485, 1939), (0.057108594252238534, 2725), (0.057109453087308928, 646), (0.057109882481885033, 3235), (0.057112072342415769, 5132), (0.057112149147160757, 2735), (0.057112192485331136, 5473), (0.05711239216710675, 5095), (0.057112744034422396, 4509), (0.057113006425364467, 1879), (0.057114518642389249, 2207), (0.057114556187922647, 1562), (0.057115004389087565, 2739), (0.057115644148728294, 5268), (0.057116627761422949, 4434), (0.057116922443465203, 1729), (0.057116991188716125, 2569), (0.057117064654499262, 214), (0.05711796788372106, 3838), (0.057118359428885976, 4418), (0.057120152354616996, 2608), (0.057120833470177226, 5408), (0.057121540919101377, 3290), (0.057121853823766097, 2225), (0.057122747585720973, 5192), (0.057122923174594047, 4470), (0.057123259465440231, 3026), (0.057123758797952007, 2622), (0.057125442884403958, 599), (0.05712556137805281, 1177), (0.057125617252701932, 2966), (0.057126830099849597, 3215), (0.057127269180916505, 696), (0.057127277776529102, 3374), (0.057128187828079928, 2393), (0.057129158542894423, 3483), (0.05713087114092933, 4810), (0.057131906349603648, 3596), (0.057131982040816078, 5440), (0.057132423931814051, 10), (0.057133981567424635, 3173), (0.0571342971219264, 2105), (0.057134553033743422, 4139), (0.057135249216253563, 165), (0.057135644680590521, 3681), (0.057135712257901879, 5393), (0.057136413452630277, 2524), (0.057137167348822536, 1309), (0.057137567445860286, 5233), (0.057139448144393534, 5033), (0.057139958762905639, 4059), (0.057142830354471763, 881), (0.05714295594468128, 3915), (0.057144717643254142, 3747), (0.057145664128877553, 4245), (0.057145817357740707, 1766), (0.057146925868727577, 5369), (0.057147385454123463, 1396), (0.057147405829168885, 238), (0.057147568882435031, 5382), (0.057148190293123631, 4544), (0.057148679532778961, 5114), (0.057149645299082175, 3783), (0.057149782767628644, 3630), (0.05715090112383997, 1468), (0.05715119728782532, 4669), (0.057152364465277286, 1386), (0.057152701456865268, 5225), (0.0571537442708357, 2135), (0.057156403767637989, 3427), (0.057157368047284079, 1272), (0.057157445281518601, 2504), (0.057157545393465459, 5045), (0.057157799957824079, 5491), (0.057158638967542925, 166), (0.057159007304093838, 5071), (0.057160040404622629, 5429), (0.057160082795701096, 3657), (0.057160661173294776, 856), (0.057160706510265523, 643), (0.05716166515802399, 5010), (0.05716198884424583, 1388), (0.057162347822548663, 1865), (0.057162396848075385, 1685), (0.05716279645166647, 4969), (0.057162893751946123, 2004), (0.0571633928437566, 243), (0.057163739743942683, 716), (0.057163846152583034, 1533), (0.057165402248003198, 1053), (0.057165730193455923, 4756), (0.057166073404014375, 5317), (0.057166088922789071, 3809), (0.057166636910351364, 566), (0.057167294814779883, 5524), (0.057167358482289342, 1674), (0.057168734753132291, 3284), (0.057168734809504483, 4072), (0.05716913726141841, 2647), (0.057171374526786861, 1392), (0.057171374717193649, 1209), (0.057171621671053809, 3274), (0.057172396871974056, 3051), (0.057172969306959406, 3924), (0.05717334930447894, 4613), (0.057174126643120313, 2274), (0.057174682588015439, 2307), (0.057174997879298618, 3432), (0.057175088402440524, 901), (0.057176017992604508, 3166), (0.057176585561947879, 453), (0.057177812256878693, 2823), (0.057179414173047081, 4970), (0.057180018427517777, 3913), (0.057180776300816152, 5047), (0.057182380813162723, 569), (0.057182763330981504, 4623), (0.057183580261381983, 5283), (0.057184649874029006, 2220), (0.057185829768632859, 1976), (0.057186071596242817, 1948), (0.057187646832875354, 5257), (0.057187804114811447, 4098), (0.057187865270026193, 5074), (0.057188095920115964, 4185), (0.057188344354792156, 3439), (0.057191356214867706, 4535), (0.057191759919762108, 3102), (0.057191770849549357, 3585), (0.057193620435416676, 2202), (0.0571938322835727, 3268), (0.057195007836302207, 4805), (0.057195564063049299, 4707), (0.057196666272442291, 975), (0.057196671381557977, 341), (0.057197174218664028, 2106), (0.05719777428618858, 2451), (0.057197778957471392, 726), (0.057198064696383326, 4357), (0.057199035186520059, 1361), (0.057200470456944895, 5146), (0.057200485387663702, 772), (0.057201139626539187, 5127), (0.057201227693099696, 1991), (0.057201322408344212, 3181), (0.057202278876124273, 4856), (0.057202479697306449, 1542), (0.057202837443212001, 5245), (0.057203668058098539, 2722), (0.057206085270495491, 5138), (0.057206304231978339, 1460), (0.057206874865718647, 4651), (0.057207226270304432, 655), (0.057207583029872416, 3178), (0.057207960146976364, 5205), (0.057208746029375188, 3800), (0.057209166628040632, 5505), (0.057209855014430856, 2116), (0.057209944625019084, 224), (0.057210747500469082, 1349), (0.057211181636926525, 5140), (0.057211251413218596, 4073), (0.057211802531645033, 1403), (0.057212718964859161, 1351), (0.057212749312940223, 1356), (0.057212863539032523, 5096), (0.057212955102300761, 5418), (0.057213246678940385, 5337), (0.057214074957294102, 3911), (0.05721436245969172, 5101), (0.057215022012515444, 2498), (0.057217233368332884, 5235), (0.057217725286744889, 2658), (0.057217809568820235, 3425), (0.057218745222643981, 5471), (0.057219173920357497, 4921), (0.057219840492037072, 679), (0.057220613377791718, 2949), (0.057220854789951918, 1946), (0.057220900250163048, 1453), (0.057221712249695349, 2020), (0.057222030075524573, 3857), (0.057222057126913917, 3955), (0.057222180506793612, 5050), (0.057222886572060566, 3533), (0.057223081677527335, 3538), (0.057223108818994659, 616), (0.05722315591175374, 3737), (0.057223193872310167, 3859), (0.05722347930139144, 3101), (0.057223695116230405, 5085), (0.057224569872072945, 5417), (0.057224941333510221, 5419), (0.05722503044552673, 1686), (0.05722553839181263, 291), (0.057226129843900353, 916), (0.057226231515580872, 3043), (0.057226296653629688, 3611), (0.05722721279447146, 5209), (0.057229348610386234, 2328), (0.057229773914783913, 1583), (0.05722985099536694, 4287), (0.057230300503333519, 5174), (0.057230317781535762, 1900), (0.057230392774178927, 4464), (0.057230677878802552, 396), (0.057230800787085048, 4403), (0.057231067623820048, 5164), (0.057231626376321336, 4127), (0.057233126061012531, 4249), (0.057234054274392931, 3592), (0.057234155955417913, 2403), (0.057234415733937311, 1000), (0.057234599401491629, 2839), (0.057234697099731516, 5044), (0.057235057761488586, 4387), (0.057236009774060972, 5111), (0.057236293666887546, 4911), (0.057236374567425523, 1486), (0.057236603029760295, 5082), (0.057237054911600214, 796), (0.057237805773821218, 5292), (0.057238392129382629, 459), (0.057238617297817422, 1805), (0.05723875601886029, 130), (0.057238902193229614, 4671), (0.05724004130748743, 552), (0.057240738527077901, 4992), (0.05724101188058002, 1653), (0.057242442843965922, 1975), (0.057243043288951141, 2525), (0.057243251621908089, 4796), (0.057243392582800062, 137), (0.057244568981157123, 3052), (0.057244582116764961, 316), (0.057244641444742388, 2470), (0.057244676377971912, 4169), (0.057244812488251258, 3222), (0.057246140960852274, 173), (0.057246514292755277, 5105), (0.057246987799621396, 5219), (0.05724716950650037, 5189), (0.057247433051581295, 1775), (0.057249363039440518, 1128), (0.057249593415497783, 2714), (0.057249903479634275, 4323), (0.057250441757828237, 5392), (0.057251152855365021, 387), (0.057251758475774198, 5214), (0.057252034039795292, 5441), (0.057252080157706789, 2695), (0.057252100173321066, 3325), (0.057252776397536141, 5259), (0.057253014401670958, 5129), (0.057253232399654248, 4311), (0.057253766883635371, 4137), (0.057254205236916704, 187), (0.057254468549498817, 828), (0.057254485101609687, 629), (0.057254592002553256, 2685), (0.057255256779136871, 5187), (0.057255302460058631, 4256), (0.057255662594770711, 19), (0.057256901715935116, 2776), (0.057256956715546342, 685), (0.057257357676626028, 1178), (0.057258032846531318, 5313), (0.057258477879393276, 3610), (0.057261085668087693, 1165), (0.057261255597203631, 4731), (0.057261580354605851, 2130), (0.057262692146579121, 1276), (0.057263496332439913, 5293), (0.057264260272369298, 1420), (0.057264846809286632, 2359), (0.057264973802948628, 105), (0.05726503194919981, 4734), (0.057265589200044473, 644), (0.057265879404519486, 49), (0.057267217938819164, 4412), (0.057267689848548735, 208), (0.057268072338944827, 2753), (0.057268575795558226, 5118), (0.0572691306692754, 1339), (0.057271519960643009, 1618), (0.057271570472672187, 5080), (0.057271606740773674, 2028), (0.057272117765727618, 2779), (0.057272548195495779, 5171), (0.057272772043385503, 2179), (0.057273290342118019, 4107), (0.057274788150944056, 1873), (0.057275141983349695, 2475), (0.057275372420016332, 3316), (0.057275376631484617, 5068), (0.057276680093277868, 3895), (0.057276860349367513, 5390), (0.057277108140313407, 4350), (0.05727800109796706, 4379), (0.057278072760551066, 371), (0.057278240561741155, 4020), (0.057278633371780657, 1760), (0.057279573017539574, 2961), (0.057279573362822842, 4081), (0.057280488261528026, 647), (0.057280673174962868, 4838), (0.05728119820479758, 1506), (0.057281387150911731, 1443), (0.057282059907349595, 4270), (0.057282090645169995, 618), (0.057283805430001479, 2804), (0.057284817150339618, 536), (0.057284820967299574, 359), (0.057286086981264202, 5343), (0.05728636241711145, 1827), (0.057287069414784189, 2640), (0.0572871742171061, 4824), (0.057287332680195147, 1687), (0.057288371664532156, 3165), (0.057288379640720373, 3141), (0.057290120407473978, 2295), (0.057291607180175917, 847), (0.057292112998486522, 4339), (0.057292182436260851, 3373), (0.05729317535564199, 4363), (0.057294171354741567, 3168), (0.057297592326866743, 388), (0.057298640487986705, 3637), (0.057299779473671569, 2315), (0.057300988617890986, 2820), (0.057301151249089723, 116), (0.057302779757068219, 799), (0.057303425153194351, 1263), (0.057303739665283064, 2543), (0.057304482862572996, 2136), (0.057305207996381079, 5139), (0.05730655243087128, 5302), (0.057306911449933301, 128), (0.057307147879930916, 989), (0.05730754203218557, 894), (0.0573077926555009, 5428), (0.057308142489319258, 665), (0.057309904306509292, 5410), (0.0573110485058295, 1588), (0.057311557848595915, 1014), (0.057311679342786574, 2434), (0.057312709567062123, 184), (0.057312935826389758, 5176), (0.057313031924305265, 554), (0.05731720685874557, 2656), (0.057317468923440695, 1143), (0.057317528904205745, 5197), (0.057318540129941281, 467), (0.057320056458734121, 2749), (0.057320651216662084, 356), (0.057320690309945382, 1998), (0.057321580129021527, 4308), (0.057321746631093184, 2032), (0.05732197025765462, 2269), (0.057322826312823767, 636), (0.057323961078153921, 444), (0.057324380895819205, 5128), (0.057325015856557672, 3197), (0.057326462307675248, 2721), (0.057327458642939193, 706), (0.057327818169017941, 3930), (0.057328104370745203, 1607), (0.057329158857551632, 600), (0.057329679029940149, 770), (0.057330728861141378, 1350), (0.057331738263348503, 5330), (0.057332207155406038, 1864), (0.057332766927574344, 3438), (0.057333773953949188, 107), (0.057334179676939698, 2638), (0.057334318705667867, 904), (0.057334319062065695, 873), (0.057334626509115076, 1613), (0.057334627442116495, 1230), (0.057334984426025276, 5516), (0.057335190210701895, 296), (0.057335229169111171, 1475), (0.057335675127609072, 2967), (0.057335946395294657, 5231), (0.057336004157861074, 1447), (0.057336085815252479, 3994), (0.057336360969628616, 3830), (0.057336789329833014, 1668), (0.057336804075110097, 217), (0.057337760185558785, 1236), (0.05733802076458254, 3378), (0.057339577127803562, 5340), (0.057339866718114939, 3246), (0.057340292673158599, 893), (0.057340853093284502, 3060), (0.057341384503596889, 5063), (0.057344655473709039, 979), (0.057345298678422189, 2250), (0.057345787923511263, 2472), (0.057346319280245514, 2894), (0.057346678642412857, 2546), (0.05734726915861188, 3255), (0.057347304178818406, 5477), (0.057349894716756292, 833), (0.057349933281850188, 3113), (0.057350166193679337, 1296), (0.057355086499059432, 5168), (0.057356849850574154, 3421), (0.057358407755254852, 3892), (0.057358485700897369, 3328), (0.057358815414166861, 5023), (0.057358832935897171, 4449), (0.057358932208717378, 5056), (0.057358960079688069, 5483), (0.05735916319723483, 4721), (0.057359259719640288, 3044), (0.057359457310181917, 2040), (0.057359925827163045, 5218), (0.057360350753372556, 5043), (0.057362062844141005, 5383), (0.057362882872365226, 4290), (0.057363006853273529, 5373), (0.057363762878348185, 2112), (0.057364106866696359, 1233), (0.057364153741777738, 885), (0.057364569616311881, 3437), (0.057364844530083822, 5057), (0.057365054307302168, 2603), (0.05736568838429848, 156), (0.057365984099298037, 335), (0.057368091805196857, 5376), (0.057368198509738247, 5455), (0.057368221625678478, 4369), (0.057368300458822866, 3420), (0.057368772479399796, 4373), (0.05736932221612645, 959), (0.057369793517691975, 3534), (0.057370322091037332, 3874), (0.057370866635600787, 3238), (0.057371205376796366, 1525), (0.057371219848355755, 438), (0.057372356720300929, 56), (0.057373470811238302, 106), (0.057373546977848425, 3053), (0.057374527129439787, 117), (0.057374774022762032, 164), (0.057374945328987736, 4393), (0.057375555648830165, 4648), (0.057375993639562126, 4842), (0.057376709798323822, 204), (0.05737700151227472, 5290), (0.057378035481102783, 2782), (0.057378699276406556, 3458), (0.057379243179435303, 2440), (0.057379275274367911, 3873), (0.05737973874160817, 2433), (0.057381430080178188, 319), (0.05738219740487896, 2681), (0.057382535296361385, 3017), (0.057382968627422676, 2680), (0.057383945123140129, 3714), (0.057383975457395021, 4495), (0.057384362689008962, 3118), (0.057385460660302742, 5212), (0.057385667087359107, 2829), (0.057386599015438439, 109), (0.057387275662712532, 1966), (0.057387936835401165, 352), (0.057389833233674505, 545), (0.057390320566381672, 4197), (0.057391820568683541, 1158), (0.057392575877682692, 5177), (0.057392824050893, 3716), (0.057393096741222033, 5097), (0.057397396807218851, 2340), (0.057398214826761121, 152), (0.057400178848241501, 5331), (0.057401116493386944, 5335), (0.057401739871859543, 2011), (0.057401989254890762, 3337), (0.057402074290324699, 2248), (0.057403990800159378, 797), (0.057404747566063515, 2535), (0.057405385922443798, 1197), (0.057405507070766484, 3985), (0.057409511070431733, 1079), (0.057410991109073231, 363), (0.057413646908548735, 4200), (0.057413860910286052, 4499), (0.057414873183095259, 1818), (0.057414928715945251, 4953), (0.057415269880115381, 4268), (0.057415461716306085, 3342), (0.057418067820685322, 3448), (0.057418235217538499, 4710), (0.057419359353182021, 2694), (0.057419442084771434, 307), (0.057421680212035184, 3494), (0.057423866185779875, 3568), (0.057424618259464238, 3345), (0.057425147090936018, 4665), (0.057425868527497578, 1305), (0.057426108717907424, 2833), (0.057426216271186013, 2176), (0.057426225744907196, 5037), (0.057426353351446302, 5151), (0.057427047179389644, 2113), (0.057427605880457394, 2087), (0.057429083041025987, 5444), (0.05743207718946787, 2251), (0.057437094734091615, 5090), (0.057437825995970741, 5308), (0.057440466118429907, 2574), (0.057441077656253857, 1730), (0.057444554599596798, 3038), (0.057444902946230503, 2799), (0.057445162064485619, 3396), (0.057445305087602046, 2557), (0.057446260536054172, 3174), (0.057447044232335716, 4628), (0.057447801160190104, 67), (0.057448421505579966, 5306), (0.057449832479406153, 3291), (0.057450417753174471, 5274), (0.057450526399363974, 3077), (0.057450875485776674, 531), (0.057451694454089604, 1790), (0.057453641967173959, 5107), (0.057453989051952668, 4510), (0.057455886204025593, 5264), (0.057457557432875263, 3927), (0.057458852545743663, 3340), (0.057460808965875146, 3433), (0.057463757351379451, 1915), (0.057464126564129907, 69), (0.057465947190475195, 405), (0.057466305859181409, 1101), (0.057466934781767565, 115), (0.057467775716501086, 2454), (0.057469632300469663, 2621), (0.057469886783167203, 3116), (0.057470386226891018, 5404), (0.057472106763269276, 4862), (0.057472860848478233, 1404), (0.057473906260776253, 4472), (0.057474773527721436, 755), (0.057474865981369964, 2177), (0.057476948871878944, 1545), (0.057477784498767413, 4529), (0.057478815292313426, 5494), (0.057479024619121667, 120), (0.057480664537905894, 3635), (0.057481113949245564, 1682), (0.057482238591401114, 5081), (0.057482526597831506, 3154), (0.057483559852822844, 5075), (0.057484448208416958, 5380), (0.057484986598540094, 4564), (0.057485641135453659, 5079), (0.057487107393747357, 2675), (0.057487531297856984, 1932), (0.05748876140635046, 3371), (0.057489991301446976, 1599), (0.057490741921026933, 5354), (0.057491698044383061, 1808), (0.057492997997427152, 5420), (0.057497618599543637, 2821), (0.057497618599543637, 2822), (0.057497974809034708, 4897), (0.057499474109121283, 2511), (0.057501763156685592, 2474), (0.057506572565827085, 5147), (0.05750658341620879, 4674), (0.057507034602618752, 15), (0.057507294421502146, 2157), (0.057507660961712281, 3066), (0.057508092991911543, 3306), (0.057509122781812784, 4195), (0.057511679187055319, 2253), (0.057512202587169554, 3191), (0.057512709595670203, 5384), (0.057515411313073757, 5173), (0.057515725634813726, 2565), (0.057516314975354643, 1781), (0.057519539140637468, 2682), (0.057520471886564541, 4178), (0.057520981681017304, 4078), (0.057521294888692696, 1582), (0.057522330662292606, 5077), (0.057523018939222327, 1913), (0.057524469733495898, 1993), (0.057527282534007504, 1136), (0.057530670526589896, 2029), (0.057530913158950737, 1610), (0.05753193554382123, 2579), (0.057533648832674825, 1750), (0.05753393673326429, 1880), (0.05753484007472133, 4163), (0.057537274509070653, 4441), (0.057537436462182588, 725), (0.057538083549408911, 5398), (0.057539179065957506, 2355), (0.057540155010375557, 4666), (0.057542242448431973, 407), (0.057542877478248225, 4047), (0.057547175750590498, 4313), (0.057548335792136966, 2408), (0.057549046018849442, 4383), (0.057549265434709208, 1098), (0.05754989904576098, 1326), (0.057550425670563829, 690), (0.057550761436676187, 5281), (0.057551394798288379, 4461), (0.057551973683589761, 4318), (0.057552221232085733, 3068), (0.057554367573659386, 5035), (0.057554790597120632, 4512), (0.057557499138384753, 2286), (0.057558149953767603, 5387), (0.057558453508578925, 5054), (0.057558498785883462, 1814), (0.057560800062510659, 879), (0.05756099840927318, 811), (0.057562236780436614, 385), (0.057562390677269551, 3169), (0.057562830341273005, 5149), (0.057563928181150005, 969), (0.057566062082452719, 5425), (0.057567045315785062, 2121), (0.057567159489759483, 2920), (0.057567449169073574, 58), (0.057570606081420117, 906), (0.057572674757006892, 1527), (0.057573204043371365, 2517), (0.057574889763135892, 1295), (0.057575591108771182, 4167), (0.057576108024268435, 1328), (0.057576281868777147, 1942), (0.057577125283782199, 1521), (0.057577347502271552, 5352), (0.057577804182050392, 3829), (0.057578139194293942, 5395), (0.05757950272605359, 2955), (0.057580605643604885, 1513), (0.057582325996246533, 892), (0.0575825377750699, 1111), (0.057583115897000846, 997), (0.0575846752485338, 221), (0.057585504607812261, 5347), (0.057587034027226487, 3996), (0.057587285840526858, 3400), (0.05758915727991757, 653), (0.057589392734139787, 1154), (0.057589392970873982, 2629), (0.057589660264063564, 2429), (0.057590935917396321, 4855), (0.057592840842316105, 4508), (0.057592868695214176, 2271), (0.057593634300093656, 623), (0.057599437724854291, 4588), (0.057600729932776804, 1683), (0.057601760850065235, 3884), (0.057602532136356216, 4858), (0.05760326165860815, 1772), (0.057604744554198464, 2916), (0.057605262641569434, 2327), (0.057605810624959224, 1812), (0.057606037186435803, 5411), (0.057607423289591828, 3200), (0.057607919405530887, 5040), (0.057608850464622885, 83), (0.057609639290965679, 2547), (0.057611996557869916, 3081), (0.057612220280516505, 4212), (0.057616782223515822, 705), (0.057616965593879077, 5502), (0.057618167638741835, 2399), (0.057618802267625419, 2264), (0.05761884804164611, 3323), (0.057619551548509833, 4656), (0.057620339017303596, 1949), (0.057620829832548064, 2413), (0.057621016140577956, 2118), (0.057621059637047459, 2575), (0.057622232986478422, 2389), (0.057623374461487915, 4760), (0.057623646773683417, 3656), (0.057624931280763618, 3336), (0.057629942678582062, 524), (0.057634017017951088, 4283), (0.057638263368534032, 2100), (0.057639342014374387, 5181), (0.057640572287607057, 2082), (0.057640839528887024, 195), (0.057641639875472744, 1091), (0.057642406478219006, 4330), (0.057643276893132915, 3609), (0.057644164602605449, 3600), (0.057644339740631607, 2731), (0.057644991995062435, 765), (0.057645224971882049, 3966), (0.057646789647050514, 4419), (0.057650301452970676, 1325), (0.05765066495905781, 2965), (0.057653030050553999, 374), (0.057656533357455006, 3825), (0.057657894711159216, 3392), (0.057658980655434462, 220), (0.057659333742894212, 2780), (0.057661173950562049, 2789), (0.057661778520512554, 2913), (0.057662221445939361, 5493), (0.057662606201127668, 654), (0.057665579627566493, 2576), (0.057665972730195719, 3984), (0.057667535209237349, 351), (0.05767082001419753, 3456), (0.057672172686426437, 2729), (0.057673740159358541, 2502), (0.057674926687177816, 3390), (0.057677796968736574, 622), (0.05767803655086215, 161), (0.057681899900828448, 242), (0.057684542272476817, 872), (0.05768582588051422, 3080), (0.057686999978635529, 4877), (0.057687094275266179, 520), (0.057687908128456006, 2379), (0.057688614449809078, 4630), (0.057689503174862183, 4863), (0.057689955716580414, 4996), (0.057693009392296941, 4176), (0.057694969629691027, 3417), (0.057695713825322618, 1856), (0.057696179589576194, 2025), (0.057696272437134731, 4364), (0.057697437702649443, 163), (0.057703920339841126, 2257), (0.057704097121770499, 1312), (0.057704605760789639, 4117), (0.057705644065054761, 3516), (0.057706467209685947, 2788), (0.057709050793988706, 4279), (0.057709975742191347, 3834), (0.057710864042635875, 448), (0.057711224887782922, 65), (0.057711518323872134, 3904), (0.057711979978579381, 1242), (0.057712192740452785, 3718), (0.057712586387818156, 1116), (0.057712661757659336, 2635), (0.057713632310573471, 4097), (0.057713721318739072, 1675), (0.057713840120870198, 5487), (0.057714660954622375, 5515), (0.057717738221715185, 3180), (0.057719015475295725, 4767), (0.05771943942231765, 5357), (0.05771973508295928, 528), (0.057720258479366009, 5400), (0.057720374722159386, 1270), (0.057720616667422946, 4599), (0.057720716828332165, 5360), (0.057726132116817479, 292), (0.057726853334148356, 2479), (0.057726940907002595, 1115), (0.057729294325542524, 1336), (0.057729424402693637, 5280), (0.057729988772698672, 2724), (0.057731351303610914, 4968), (0.057732598464596836, 3103), (0.05773282865250328, 4155), (0.057734414302282953, 1246), (0.057734908337603461, 1121), (0.057735434450471683, 3264), (0.05773606175210657, 4899), (0.05773637013892742, 5207), (0.057736644568200678, 343), (0.057737142180192075, 62), (0.057738261738970363, 4740), (0.057739179152300313, 146), (0.057739677352582182, 4069), (0.057740136212281849, 5426), (0.057740331899952479, 1046), (0.057742588730044869, 383), (0.057743056769551222, 1462), (0.057743999314042373, 4446), (0.057744031502646266, 821), (0.057744528323920012, 3307), (0.0577448797527291, 4362), (0.057745002163262234, 1026), (0.057746953867667344, 4338), (0.057749288768362675, 5351), (0.057750012008965679, 1637), (0.0577501174887637, 5509), (0.057750321387560151, 147), (0.057750740495550491, 707), (0.057750834036495176, 1947), (0.057751401717102122, 2067), (0.057751447126841528, 4048), (0.057752378023219336, 375), (0.057752383087478473, 3899), (0.05775492049804154, 3951), (0.057755356151976571, 1168), (0.057755875821310206, 5055), (0.057757680588330529, 2832), (0.05776085120420691, 2869), (0.057761343489852547, 5519), (0.057761875942203673, 5443), (0.057765140089514347, 2940), (0.057766906633792733, 1494), (0.057767818245568175, 481), (0.057770270592506723, 803), (0.057771296762098995, 489), (0.057771364112016693, 727), (0.057774967744997678, 563), (0.057775229955348638, 1368), (0.057778101047349401, 672), (0.057778195974872291, 5464), (0.057778300887406951, 2828), (0.057778460673253221, 939), (0.057780908598095766, 4488), (0.057784003836045365, 4475), (0.057790163776125919, 1589), (0.057792411241636359, 2539), (0.057792730395470483, 2851), (0.057793778960701737, 1784), (0.057794180649478791, 3997), (0.057795912884553199, 4296), (0.057798438796513606, 5460), (0.057798520171961958, 268), (0.05780029962549172, 1608), (0.05780194749921528, 2605), (0.057802223002671724, 394), (0.057803945224839108, 5370), (0.057806202385277131, 1179), (0.057807123527499907, 3020), (0.057816147615595746, 4506), (0.057816496695279947, 1554), (0.057816919425683198, 4231), (0.057817724564963931, 5423), (0.057818812923149547, 572), (0.057819941575436164, 2805), (0.05782018572578819, 297), (0.057821488297080094, 212), (0.057822284773226817, 2689), (0.057823225667563857, 2022), (0.057825284375749429, 5145), (0.057825354643504197, 2540), (0.05782544742362037, 5221), (0.057826979140628787, 1723), (0.057827554774592227, 3211), (0.057831344811668892, 3944), (0.057833908956978854, 3355), (0.05783418322398888, 71), (0.057834510412003236, 64), (0.057836556208379873, 5125), (0.05783861814697671, 4687), (0.057838705759656481, 5137), (0.057841037696572062, 4013), (0.05784109942970992, 5424), (0.057845815742160973, 3998), (0.05784640068103028, 570), (0.057848493810185031, 3312), (0.057849429955216712, 2870), (0.057850652726784371, 1978), (0.057850705570617895, 2070), (0.057852573544620971, 2924), (0.057855237693379052, 927), (0.057857070703150167, 3604), (0.057860228632192326, 3132), (0.057861727763001414, 457), (0.057864268867808162, 2538), (0.057868324943303615, 1432), (0.057875061155917208, 2069), (0.057876365411756954, 4662), (0.057879194037252293, 2143), (0.057879793444195297, 4497), (0.057880248507844005, 1866), (0.057880661913122376, 317), (0.057882681772668025, 794), (0.05788290675654071, 1858), (0.057887536667075926, 3004), (0.057888676018622957, 1342), (0.057891474128362055, 5204), (0.057894675825180777, 159), (0.05789556471443276, 3576), (0.057896686506349215, 4688), (0.057897879909075835, 112), (0.057900470314917504, 5379), (0.057900834350623417, 2523), (0.057902887554816783, 379), (0.057903687293150596, 601), (0.057907116045894935, 5364), (0.057910168387599319, 3875), (0.057911417179298069, 1872), (0.057914067445055575, 5091), (0.057914763489359089, 4071), (0.05791691897037779, 2034), (0.05791833991558399, 4808), (0.057919020886977313, 3751), (0.057919265688551894, 3324), (0.057919815787064392, 4111), (0.057922748693723623, 2021), (0.057923756709739413, 845), (0.057923947557098183, 3531), (0.057924978459667625, 4586), (0.057925375000003998, 3964), (0.057925606468859615, 4947), (0.0579278836702996, 2692), (0.057928737090157431, 627), (0.057929060207672217, 4390), (0.057929085789511343, 378), (0.057930485876039647, 1169), (0.057933173330630749, 5468), (0.057934766720834537, 1501), (0.057936072749353647, 2171), (0.057939130123787763, 4241), (0.057939220383362085, 2382), (0.057939273056069378, 502), (0.057939313197168815, 2368), (0.057944466498262667, 1282), (0.057945465942000694, 1694), (0.057945599756920381, 2308), (0.057947836138117659, 1661), (0.057948078347088164, 228), (0.057948654184512879, 5087), (0.05795080246281923, 5277), (0.057951581745174632, 2192), (0.057954239409288441, 1018), (0.057954545186403986, 1279), (0.057957600053526556, 4425), (0.057959599536931465, 4193), (0.057962675236831532, 3631), (0.057963134788502735, 1436), (0.057964553432329938, 4737), (0.057965142243920617, 2033), (0.057966519918846333, 1009), (0.057966774329503312, 5200), (0.057966923065755113, 4215), (0.057967189697997655, 1911), (0.057967646221701814, 5401), (0.057969287276222858, 4229), (0.057970401697600607, 2387), (0.057972073674162253, 5210), (0.057974328491395576, 2478), (0.057976914740763524, 3917), (0.057977411145574163, 1609), (0.057981163793517622, 2489), (0.057982941931281638, 3218), (0.057982950303945728, 3931), (0.057983859527133336, 4082), (0.057985154470907754, 3914), (0.057986443713835531, 4440), (0.057987382178197773, 3286), (0.057988152425198052, 2152), (0.057988648967738012, 4664), (0.057988965126520332, 246), (0.05799016995419716, 5066), (0.057990659177187522, 3403), (0.057994101598192717, 177), (0.057996470214004857, 4827), (0.057997611805311024, 2950), (0.05799830088787003, 5102), (0.058000141341803327, 3263), (0.058001883652018985, 29), (0.058003139230000875, 5415), (0.058003171435988252, 560), (0.058004197463451306, 2090), (0.058004825143021944, 2703), (0.058009112102134754, 5248), (0.058010627979139619, 5279), (0.058012535044314043, 5472), (0.058014520411682424, 1444), (0.058014941618455586, 2297), (0.058015928661619032, 5497), (0.058018089872839851, 5391), (0.058019816731381964, 773), (0.058020460999840776, 2490), (0.058021786675822272, 4042), (0.058024108015387939, 3130), (0.058028379535503986, 1556), (0.058029098212180601, 2818), (0.058030118229939247, 5305), (0.058031113862499685, 1438), (0.058032058510288309, 5251), (0.058038178967829819, 5190), (0.058039284743565345, 3275), (0.058040583006404037, 2639), (0.05804234915283564, 1883), (0.058042506683298335, 4015), (0.058042811386575133, 2374), (0.058044369363973169, 896), (0.058044483363129111, 3047), (0.05804662659999895, 3143), (0.058047410026361011, 5333), (0.058048366331838928, 5273), (0.058048614980340946, 5150), (0.058050102389291675, 5341), (0.058053022918505788, 5288), (0.058053791580854525, 2199), (0.058054044351077694, 1977), (0.058054548722569196, 2560), (0.058054668205878901, 1057), (0.058058046583003169, 4826), (0.058058321867696404, 1571), (0.058059152618109129, 1003), (0.05806002153709891, 3176), (0.058060238252103991, 1190), (0.058064813882981174, 780), (0.058065605717680442, 2754), (0.058065882121786379, 4638), (0.058067049947439095, 934), (0.058068043422005118, 5287), (0.058068092957252015, 993), (0.058069743911879704, 590), (0.058072303452149421, 3956), (0.058072839725146111, 4126), (0.058074108918514479, 1902), (0.058075519006142377, 5319), (0.05808145630162119, 1229), (0.058086275781133033, 234), (0.058086286381352915, 1313), (0.058086824102002131, 2334), (0.058088625564735298, 2335), (0.058089029573186797, 2484), (0.058089326537978651, 3243), (0.058089424261779835, 4409), (0.058089633814483288, 4382), (0.05809005558709382, 4233), (0.058091022378532503, 2276), (0.058091506960314003, 245), (0.058091562406830201, 2757), (0.058091714038509372, 4004), (0.058093814263237148, 1519), (0.05809592774599192, 2892), (0.058096823558070387, 3164), (0.058099122281562304, 2553), (0.058099221796387698, 511), (0.058099636274258404, 344), (0.058100628279916633, 3111), (0.058103105520074812, 1214), (0.058104631106484027, 4505), (0.058107999001662726, 4839), (0.058108705498224465, 4281), (0.058109602187929092, 5300), (0.058110102654449103, 3558), (0.058113522142362213, 2990), (0.058115739254775638, 5492), (0.058115841413892443, 311), (0.058119247757111435, 2466), (0.058119554255172984, 1200), (0.058120514256158273, 4257), (0.058122917483302498, 4124), (0.05812300712547859, 942), (0.058124011695788971, 842), (0.058124469085143841, 5252), (0.058124746975331411, 1756), (0.058128057256417481, 2770), (0.058128344520724004, 3014), (0.058130310146673789, 429), (0.058131788576339959, 5430), (0.058137890098590758, 1375), (0.058138784013907915, 3603), (0.058140837707883954, 4248), (0.058143036524126154, 129), (0.058146542494559181, 2397), (0.058148484681568656, 4046), (0.058150383044144591, 1719), (0.058152333665099143, 5412), (0.05816242248130029, 5320), (0.058163209045100396, 1291), (0.058163671151265924, 4259), (0.058165733020647814, 1370), (0.058165862322900309, 5093), (0.058166771952614965, 274), (0.058167260393316315, 5514), (0.058167797612580147, 4845), (0.058171076135123838, 3571), (0.058171913735161097, 4955), (0.058172194808982162, 3975), (0.058172616841497229, 4822), (0.058174079648001885, 1706), (0.058176118830112145, 1464), (0.058179806302673734, 103), (0.058179870632324375, 4819), (0.058182665850396095, 3484), (0.058185217212269748, 2226), (0.058186160729013621, 202), (0.058186353462210842, 3313), (0.058188353871513172, 2272), (0.058189196634911081, 3470), (0.058191413501947967, 4061), (0.058193832667006062, 1466), (0.058195890590241793, 4892), (0.058196339335782117, 1108), (0.058198193343431952, 5198), (0.058198653512739229, 4964), (0.058199879112903051, 4321), (0.058202248781536944, 5183), (0.05820279301607989, 4037), (0.05820788717067564, 1219), (0.058208468323021539, 2439), (0.058209858821335107, 4507), (0.058214058363009781, 4408), (0.058215066056277992, 4841), (0.058215646991606924, 2006), (0.058216190942595614, 2111), (0.058220332053675855, 4224), (0.05822329462020305, 1672), (0.058225750856767185, 4766), (0.058226310487219463, 662), (0.058226619511489192, 4820), (0.058226913187850275, 76), (0.058227758258830642, 964), (0.058230343967066091, 306), (0.05823071687424837, 2602), (0.058232880832499612, 1087), (0.058233503455822143, 2561), (0.058234673804819073, 5349), (0.058235243266382304, 1173), (0.058238012086532835, 1092), (0.058238334010775154, 5481), (0.058240671413531932, 4093), (0.058241665587374057, 160), (0.058243773346257535, 3203), (0.058248144187416528, 2609), (0.058249797027898655, 1742), (0.058250433008921902, 5375), (0.058251870645091575, 4587), (0.058252108288158064, 5099), (0.058254543076722003, 4935), (0.058255570126268516, 2003), (0.058256620649127622, 603), (0.058256992690118095, 3896), (0.058257065728998705, 826), (0.05825776925649475, 5407), (0.058258945229863753, 3535), (0.05826429281415485, 4853), (0.058267720556802835, 1853), (0.058267876016689979, 2864), (0.05826857191104854, 5350), (0.058269542145496796, 733), (0.058270367468014984, 2348), (0.05827481123092168, 5316), (0.058276584692081621, 2588), (0.058276977205024817, 5036), (0.058282336484534583, 2586), (0.058285086346753889, 244), (0.058286326440120766, 1885), (0.058287494920368721, 4292), (0.058287892460941793, 295), (0.058290171304199216, 3249), (0.058291139273340321, 5284), (0.058297172906762666, 398), (0.058300236614555648, 1456), (0.058301069227763985, 4920), (0.058302367513164026, 5186), (0.058302635709084533, 44), (0.058304639250053046, 3833), (0.058304822473204468, 3447), (0.058306197534863283, 5386), (0.05830816538733187, 2719), (0.058309838718223164, 2812), (0.058310184086450528, 5131), (0.058310323081634426, 5100), (0.058310826023937098, 433), (0.058310910511436692, 2418), (0.058311319586274751, 5265), (0.058311976949263704, 757), (0.058312603737049828, 25), (0.058312973031914926, 3251), (0.058313166262114434, 3239), (0.058318110070405452, 5478), (0.0583208761972221, 4977), (0.058323181835517691, 4227), (0.058324685334534963, 1770), (0.058327354141785796, 2189), (0.058327655174173806, 4941), (0.058329335775730844, 3085), (0.058330809565101401, 1744), (0.058332964497231285, 2354), (0.058333414831268374, 2904), (0.058336241356850914, 1971), (0.05833763164909312, 3135), (0.058339152476271958, 94), (0.058343821091664951, 5030), (0.058344965145314925, 4882), (0.058345277572512226, 4135), (0.058345451364390198, 2026), (0.058346196014778424, 1194), (0.058346247846774522, 469), (0.058348568587598494, 5396), (0.058349182522851935, 2123), (0.058350394623068944, 3009), (0.058350951679173917, 2845), (0.05835105209918421, 5381), (0.058351246881429931, 529), (0.058352271706543897, 5368), (0.058352410211596997, 3723), (0.058354465684337949, 2175), (0.058355173137354575, 5104), (0.058355442475355242, 269), (0.058356984753918789, 1180), (0.058357036873859472, 1213), (0.058357379694867956, 5136), (0.058358477120386533, 613), (0.058360802091613165, 5321), (0.058362872781685574, 1039), (0.058362935742570766, 4482), (0.058374475590902503, 1665), (0.058374705702407388, 1848), (0.058375926576241265, 2417), (0.058377025642404171, 1258), (0.058378786601486689, 3455), (0.058380313118789634, 4389), (0.058381693551470847, 4380), (0.058382483714578118, 3033), (0.058385201110040121, 2131), (0.058385294041818706, 157), (0.058385680535882604, 4641), (0.05838581066568603, 3445), (0.058386069680557005, 1019), (0.058386926582508977, 3379), (0.058388297722918849, 1204), (0.058390388667005209, 5242), (0.058391887652595988, 1248), (0.058392818910529866, 4012), (0.058392985344518179, 2126), (0.058395234859280928, 1188), (0.058396146028917302, 2216), (0.05840378868398511, 2758), (0.058405190978960131, 2661), (0.058408482409189659, 1763), (0.058412548659711301, 4327), (0.058413976381909795, 4574), (0.05841752010337728, 2375), (0.058418373907752764, 4401), (0.058418867717777205, 3472), (0.058419839462371052, 4172), (0.0584274149454104, 226), (0.058428897307276413, 1671), (0.05843042576009487, 2041), (0.058430881863995136, 3193), (0.05843247329640841, 1537), (0.058432817048259394, 4053), (0.058433687584266161, 3823), (0.0584347022486797, 1348), (0.058435184011425688, 910), (0.058435528155848258, 3126), (0.058435558081554609, 5202), (0.058436711611776229, 3583), (0.058444840639381393, 4), (0.058446338281371864, 2578), (0.058449937808933108, 4913), (0.058450846853729761, 136), (0.058452720621489949, 1409), (0.058453213806037262, 5324), (0.058455443661442334, 3073), (0.058457691151380602, 1072), (0.058458804306250209, 5394), (0.058461728304218925, 5160), (0.058465659388519102, 2937), (0.058467575836369919, 5526), (0.058468641304191764, 1657), (0.058470213057620721, 4436), (0.058477414386242238, 2679), (0.058478266277190424, 4017), (0.058478470698505015, 5120), (0.05848197360193582, 5518), (0.058484053560310827, 440), (0.058486521965588088, 2230), (0.058487435036685853, 4138), (0.058488510357733239, 3040), (0.05849128257606722, 5238), (0.058492909349620641, 4244), (0.058495483779678475, 3153), (0.058495869588103322, 1274), (0.058496111102533298, 908), (0.058496556654340108, 4757), (0.058500471054721281, 3756), (0.058502338417564137, 1441), (0.058502630768873479, 3954), (0.058503987480357129, 4749), (0.058504232575233267, 3878), (0.058505102121252497, 5032), (0.058506284541975935, 122), (0.058506447588950364, 2884), (0.058506901479624347, 995), (0.058509751064687011, 1747), (0.058512426658106929, 5088), (0.058513396238318714, 2995), (0.058513418663640807, 3343), (0.058515349111537114, 3256), (0.058515887570958831, 3819), (0.058516167770772419, 2856), (0.058517902894508596, 972), (0.058519043021748623, 5206), (0.058520183121238717, 3848), (0.058520727433044498, 3365), (0.058521348266768206, 4708), (0.05852142068720944, 218), (0.058521608592959726, 4571), (0.058523784531788997, 818), (0.058526973432063464, 2541), (0.058528054043761171, 3692), (0.058529237967644566, 5272), (0.058532037921572216, 3083), (0.058532255916735387, 4647), (0.058533644547248909, 4884), (0.058534234491258309, 736), (0.058534810602975912, 4553), (0.05853553146818867, 1344), (0.05853584066170936, 4922), (0.058536449019740797, 1423), (0.05853798860393359, 1585), (0.058540748604405279, 4685), (0.058541884587165, 3805), (0.058542686829926492, 1496), (0.058544391169173426, 4252), (0.058545509225444492, 5286), (0.058548576846954498, 2037), (0.058550597139163073, 5229), (0.058552462440325165, 3570), (0.058554021596457805, 4615), (0.058555483040253417, 4859), (0.058560146550016533, 1090), (0.058561001235344898, 5485), (0.058561929075076458, 2688), (0.058561969504983075, 5336), (0.058562042206214214, 4890), (0.058562447346464722, 2901), (0.058565287101299095, 4580), (0.058567942307245366, 986), (0.058568032266435109, 1656), (0.058570912553275088, 3028), (0.058570938860004119, 3846), (0.058577011782375711, 1716), (0.058578490355865424, 4684), (0.058578493425097689, 4602), (0.058579708391047376, 399), (0.058582258149665625, 1816), (0.058582979628191034, 4480), (0.058585268753905177, 2986), (0.058585771455459706, 698), (0.058588209589881431, 5196), (0.058589988728862903, 4254), (0.058593539646850559, 1318), (0.058595463429796678, 3900), (0.058602625403495388, 5301), (0.058604920124592917, 3566), (0.058605767665328927, 1413), (0.058606395289678676, 127), (0.058607647626198002, 5449), (0.058608381905352801, 3708), (0.058609080471092749, 3725), (0.058610193609388052, 4661), (0.058610238294174839, 954), (0.058610818663115599, 4828), (0.058611399444364651, 5157), (0.058613210139295185, 1567), (0.058613388879843437, 5028), (0.058613467802008559, 3170), (0.058614972308549847, 465), (0.058615534761101949, 3762), (0.058619362419472569, 3645), (0.058621394367932712, 3234), (0.058622073579300285, 534), (0.058624590778925824, 2402), (0.058626029232137215, 5452), (0.058626569624404393, 4872), (0.058628291382000194, 5092), (0.058628789861941512, 1042), (0.058634517526120838, 2223), (0.058635502583437665, 1024), (0.05863759506281211, 1546), (0.058638819574724749, 1560), (0.058641051070733523, 3507), (0.058642235404814995, 2960), (0.058642415464176458, 279), (0.058642928045846858, 1559), (0.058643053906586515, 1317), (0.058644581218814412, 2896), (0.058647110613730312, 737), (0.058649771249146741, 2427), (0.058652439762600352, 4689), (0.058653751668746111, 4258), (0.058654407459495954, 33), (0.058655570567573298, 1321), (0.058656871612590575, 2145), (0.058656902323126543, 514), (0.058657251014732306, 3736), (0.058659179925593483, 1503), (0.05865945673229761, 3269), (0.058661072710831479, 1412), (0.058661124412843664, 1487), (0.058661334952942235, 3299), (0.058663927040561219, 686), (0.058664351149557148, 1943), (0.05866644246879827, 4846), (0.058666904317161671, 261), (0.058670551919844424, 2580), (0.058673318282295384, 1769), (0.058674683251798837, 1758), (0.058675400299775436, 1965), (0.058676983289506594, 3272), (0.058677446883110697, 499), (0.058678563604858847, 298), (0.058678966664942246, 1709), (0.058680046111858918, 4732), (0.058680198204706525, 3935), (0.058680212015992973, 393), (0.058687505419523014, 5258), (0.058691454491913354, 3311), (0.058692952214535347, 111), (0.058693053938161176, 1581), (0.058693159912087553, 1797), (0.058693618560073088, 2972), (0.058694159059764002, 1340), (0.05869541963030226, 1642), (0.058696289672014845, 2777), (0.058699147498305078, 3522), (0.058705517461499483, 2092), (0.058707226709577016, 1489), (0.058707421132551556, 5247), (0.058707421133215476, 5029), (0.05870989922396791, 381), (0.058710258514828181, 2923), (0.058712546468791676, 2219), (0.058714445472739317, 2899), (0.058715564188443245, 4123), (0.058718535334802188, 2907), (0.058719955135927801, 4575), (0.058720146448565644, 2666), (0.058720735756808223, 756), (0.058721342431208641, 2133), (0.058723010609349098, 1377), (0.058723234735861683, 5008), (0.058723381050603665, 1078), (0.058723441662298745, 978), (0.058724132823322263, 3520), (0.058725025041946544, 406), (0.058725201820466637, 454), (0.05872612675976964, 1075), (0.058729976126052304, 4491), (0.058730673075321621, 2554), (0.058732150905711294, 5523), (0.058732324095950271, 294), (0.0587327520004267, 2195), (0.05873326756500178, 1151), (0.058734600858685745, 1678), (0.058736647772597718, 2989), (0.05873821932086265, 5115), (0.05873873293388919, 2755), (0.058739139709259175, 3808), (0.058740414790777511, 4787), (0.058742190768230187, 3837), (0.058742300409077818, 5476), (0.058743572985546985, 2134), (0.058746349946003085, 1550), (0.058747260286934243, 3213), (0.058750724454725504, 4303), (0.05875682500869385, 3361), (0.058758697206483482, 5060), (0.058768101912756103, 223), (0.058771475862133417, 2858), (0.058771712949968379, 635), (0.058772256627052592, 1137), (0.058775692996813539, 3745), (0.058777404507380476, 1157), (0.058780124063974343, 829), (0.0587808731333435, 4473), (0.058782564551518424, 4917), (0.058784320674191613, 2018), (0.058786639412264141, 1266), (0.058787827925126775, 206), (0.0587892026941743, 637), (0.058789433221524905, 85), (0.058790412274863348, 3155), (0.058791108432117517, 2744), (0.05879118200797618, 2915), (0.058796243470371594, 4493), (0.058798010936511096, 5208), (0.058798818194147458, 1863), (0.058799051941006465, 3398), (0.058799647958692504, 1658), (0.058799905116885355, 420), (0.058801954781104483, 431), (0.058802554718340991, 5124), (0.058805869910268142, 3963), (0.058805928665994774, 4196), (0.058807191476032541, 4286), (0.058807688888291909, 3543), (0.058808142130324835, 2316), (0.058808205204743814, 807), (0.058808245777829844, 1383), (0.058808571398697398, 2566), (0.058809175365936085, 1979), (0.058812740914015768, 1414), (0.058812751990036327, 1102), (0.058817449091842104, 4869), (0.058819709814793633, 2589), (0.058823406911131221, 650), (0.058823884821173851, 3753), (0.058824429425339803, 1164), (0.058824528243706889, 4367), (0.05882844625791081, 2353), (0.058829923187351731, 4759), (0.058831336282487823, 5448), (0.058831630196531114, 5498), (0.058832911224418284, 519), (0.058833358813662119, 5067), (0.058834129817202478, 20), (0.058834163746192554, 1073), (0.058834387617548528, 4188), (0.058835548257297691, 5027), (0.058836314099709124, 4939), (0.058837953533341009, 3139), (0.058838053125970742, 1647), (0.058839061884568222, 2468), (0.058839144041573324, 3739), (0.058839266409208522, 4880), (0.058841852721469412, 3330), (0.058844049297579491, 1753), (0.058844668481477937, 1182), (0.058845812811860042, 2843), (0.058847265088902992, 5234), (0.058850513223731103, 779), (0.058851803974567553, 1387), (0.058852899457527565, 1854), (0.058852947458457393, 3326), (0.058859804109402315, 1281), (0.058862172277486864, 2634), (0.058865483491334969, 5442), (0.058867160564195727, 3405), (0.058868150412743563, 3981), (0.05886824253631321, 4198), (0.058870799662596424, 3939), (0.058870954207586638, 4070), (0.058873107460827842, 5405), (0.05887546311932805, 1834), (0.058877862182108831, 2201), (0.05887854003656702, 255), (0.058878815496833437, 760), (0.058879760422099504, 2058), (0.058880728872150796, 955), (0.058881052936095954, 1056), (0.058882211615921262, 1734), (0.058884633738859077, 574), (0.058886535266021972, 2278), (0.058887702528849263, 2246), (0.058887937037040122, 35), (0.058887985134492497, 2180), (0.058890347223883838, 866), (0.058894038614058876, 917), (0.058894516924728621, 2835), (0.05889553076551509, 4404), (0.058895851928871715, 4220), (0.058899372783278385, 1773), (0.05889970982421331, 4743), (0.058899938047789799, 2778), (0.05890411787425541, 3136), (0.058906201787900812, 1691), (0.0589088394272579, 2653), (0.058909069720122324, 1580), (0.058913334481167125, 2423), (0.058913497151682793, 4658), (0.058914841429738025, 667), (0.058917013414981949, 2415), (0.058918464136685375, 2459), (0.058918653125925501, 871), (0.058919456553374661, 5017), (0.058919489153490122, 2848), (0.058919600755516652, 2971), (0.058920163425508099, 1408), (0.058920588086461202, 3332), (0.058921495117489432, 3220), (0.058922024017119184, 3856), (0.058922783859891026, 3208), (0.058922915617907801, 3293), (0.058924187120340657, 2101), (0.058926095601481265, 1593), (0.05892663101363993, 500), (0.05892843111221837, 649), (0.058934263257591227, 2023), (0.058934514211259982, 1824), (0.058937899983986235, 92), (0.058939325133260369, 340), (0.058939680483780843, 3013), (0.058940957854989193, 4300), (0.058941104636261302, 2125), (0.058941142980622925, 1669), (0.058942833913492094, 1707), (0.058942874936209061, 3072), (0.05894368326218051, 5228), (0.0589447082946018, 2819), (0.058950942417186528, 2450), (0.058953823800747471, 2015), (0.058955896371540806, 4589), (0.058956226803908746, 1726), (0.058957407425488488, 4145), (0.058958196958328088, 4370), (0.058964203295778825, 5058), (0.058967499040274277, 5158), (0.05896876704966373, 4610), (0.058969284794363405, 5403), (0.058969797737932941, 2196), (0.058969891002250675, 4894), (0.05897007131919358, 3386), (0.058972150473775638, 1374), (0.058972167352403862, 1280), (0.05897241287603075, 5338), (0.058972889321682043, 2095), (0.058973009588353199, 5179), (0.058973430405229663, 262), (0.058973710044323994, 5359), (0.058974433119406096, 4940), (0.058974664810902695, 2759), (0.05898164688389948, 2711), (0.05898250416244244, 3418), (0.058983912493790938, 680), (0.058985642040846831, 51), (0.058987974211203525, 4458), (0.05898942828176653, 1023), (0.058990922841991769, 941), (0.058991393669721094, 944), (0.058991609591086076, 5195), (0.05899593684597286, 4487), (0.058996222143256435, 3119), (0.059000706396422312, 3115), (0.059000942834762531, 4118), (0.059005907024668083, 1994), (0.059006202124108294, 5211), (0.059009566261380896, 101), (0.059010595127551302, 5512), (0.059013238452449733, 2652), (0.059013320764122766, 4649), (0.059013724782698909, 277), (0.059015918194674694, 3953), (0.059018298089041424, 2346), (0.059019425103853301, 5495), (0.059019873166002823, 479), (0.059023382735338262, 1253), (0.059023514422792522, 2764), (0.059024164886702438, 5482), (0.059024916320391072, 1736), (0.05902572674693355, 1411), (0.059026541874900348, 4445), (0.059027102680432861, 564), (0.059027690651613722, 4670), (0.059030026871768553, 4144), (0.059030342209431694, 455), (0.05903176029609606, 2091), (0.059033376488040259, 2260), (0.059033704239689774, 386), (0.059035046595636319, 2917), (0.059035046595636319, 2918), (0.059035461258350921, 3887), (0.059036030695066806, 3070), (0.059036455968540763, 1041), (0.05903735152497025, 5013), (0.059038037290453975, 926), (0.059038791591095374, 2773), (0.059041254409910093, 2720), (0.059042038921526221, 2559), (0.059042154324830926, 1890), (0.059042240850770929, 2060), (0.05904416435127019, 1926), (0.059044377178989027, 5236), (0.05904485995774638, 2973), (0.059046353667227963, 5500), (0.059048514701837945, 731), (0.059049195726210695, 619), (0.059051172232961552, 5256), (0.059052838137284833, 715), (0.059053107891054009, 766), (0.059054400450902066, 2876), (0.059059551306911637, 4754), (0.059062408300439399, 2088), (0.059064118355809311, 3807), (0.059065203493998249, 2506), (0.059069998703677476, 4090), (0.059070388238636758, 303), (0.059074370978525838, 2400), (0.059078897325760209, 145), (0.059078924323018464, 2149), (0.059082372343297801, 4381), (0.059084253363810346, 3443), (0.059087825127581137, 3687), (0.059088385007263038, 587), (0.059088775694010304, 2062), (0.059090982983859557, 2406), (0.059091918167021557, 318), (0.059092420762898404, 5073), (0.05909296584842428, 5048), (0.059094202197341753, 1792), (0.059095227316744721, 2683), (0.059097965688513762, 3728), (0.059098532979209008, 3545), (0.05910169838569744, 597), (0.059102861672355463, 5178), (0.059104078955883391, 4527), (0.059104495606320813, 3502), (0.059105877958320764, 4679), (0.059111301184668875, 1029), (0.059111614580754875, 982), (0.059113126883405115, 4790), (0.059113309463219736, 5453), (0.059113445884441639, 1095), (0.059114477911052135, 719), (0.059114591573730745, 1892), (0.059115273229420097, 3190), (0.059115456195878546, 2187), (0.059115733034217785, 1568), (0.059116366659553658, 1004), (0.059117022567247962, 3105), (0.059117854439718683, 4234), (0.059121888716979633, 3090), (0.059123191932392141, 1573), (0.059123233249130894, 3634), (0.059126830254150213, 1616), (0.059128342878849688, 4703), (0.059128901502313216, 1552), (0.059130695260521018, 758), (0.059130879276757711, 5262), (0.059135750130336187, 2526), (0.059136556967501197, 1032), (0.059140212338429629, 3575), (0.059140886621405007, 1470), (0.05914325546853582, 2301), (0.059143940607905808, 1334), (0.059144674114048154, 3387), (0.059144767352926231, 5422), (0.059145460383139128, 3179), (0.059147369864123216, 1689), (0.059148907945107423, 1918), (0.059148979319360744, 624), (0.059151027150289387, 2097), (0.059151404342959853, 3079), (0.05915522473699146, 4764), (0.059155452390478522, 5270), (0.059155600681268773, 475), (0.059156625792439417, 2877), (0.059158066812996818, 4931), (0.059160790737141263, 209), (0.059161895606947679, 1228), (0.059163985667016451, 4077), (0.059165243329855115, 2827), (0.059166366075376252, 2867), (0.059169777594267239, 2411), (0.059170531400114912, 1385), (0.05917174137600776, 280), (0.059177183437684869, 4415), (0.059177462121511384, 3106), (0.059177479546855323, 4712), (0.059180775687771116, 4533), (0.05918131541478408, 4134), (0.059181368004526974, 4187), (0.059181651227984231, 863), (0.059181745982022256, 864), (0.059183111215764243, 1919), (0.059183686806947008, 2947), (0.059184389599717002, 521), (0.059186419818623763, 1884), (0.059187134414622922, 3149), (0.059188643674481699, 2959), (0.05918947590151425, 1354), (0.059189842564110841, 3148), (0.059190221805233166, 4654), (0.059191877997568511, 259), (0.059194465040712102, 5345), (0.059196488742973952, 1140), (0.059197260793042557, 802), (0.059197446386193273, 5269), (0.059197676813013217, 3037), (0.059198116555148131, 2347), (0.059198431007781112, 3654), (0.059200185750895744, 2485), (0.05920426274684245, 1953), (0.059205915225068531, 5503), (0.059208994928359501, 774), (0.059209211378755226, 4697), (0.059209593937537802, 4629), (0.059209798972166154, 1652), (0.059213506308297151, 1247), (0.059214487313242824, 5275), (0.059217942241005128, 5246), (0.059220532530690768, 22), (0.059220774174330561, 1437), (0.05922134781821748, 3368), (0.059222485816781446, 1895), (0.05922282763788414, 3444), (0.059224415325265074, 1529), (0.05922717812314264, 5461), (0.059229407882727278, 3727), (0.059233726449445322, 3664), (0.05923655828907419, 1692), (0.059236867166154727, 3553), (0.05923719008868706, 2499), (0.059240797894646001, 1833), (0.059240799482399478, 2943), (0.059246678126380514, 1893), (0.059247411499412234, 1548), (0.059251450219715771, 4938), (0.059251691771627507, 4954), (0.059252320017270883, 4885), (0.059253159598383752, 3920), (0.059254065354991184, 4625), (0.059256659948791243, 2700), (0.059258358830679939, 3537), (0.059259613487735181, 4304), (0.059260180226907058, 3122), (0.059262137236990552, 1381), (0.059264023007694032, 1925), (0.059264099560922427, 2333), (0.059264622909785292, 4834), (0.059268050744522759, 1778), (0.059270512289493121, 2957), (0.059270875481851178, 4848), (0.059272275241433525, 1974), (0.059272627925523277, 2290), (0.059272814467582736, 4447), (0.059273772364839709, 1499), (0.059274009838449764, 3813), (0.059274219331986795, 1807), (0.059276035323728903, 5522), (0.059276761761986443, 844), (0.059277201208399882, 1796), (0.059277854251878717, 2146), (0.05927795656774687, 1120), (0.05927797161607487, 2985), (0.059278015706778091, 610), (0.05927872925666787, 142), (0.059278927838495581, 3078), (0.059280997282507117, 4317), (0.059282673238502989, 3430), (0.059283157933404135, 1061), (0.059283762940388167, 3804), (0.059285683666148226, 3204), (0.059286218774318646, 5039), (0.059286453482786924, 2099), (0.059286722851326204, 2669), (0.059286966821417771, 2208), (0.059289151023085657, 411), (0.059291233053043638, 490), (0.05929184161689538, 2927), (0.059291864015200348, 2594), (0.059294255959525678, 1927), (0.059294662495591156, 2341), (0.059295170669715389, 4453), (0.05929606462924563, 1771), (0.059299809533819935, 1620), (0.059300142548909196, 4530), (0.059303383198393511, 702), (0.059304822576894713, 750), (0.059305002560480664, 3499), (0.059305642140815448, 1819), (0.059307353702241349, 3067), (0.059308442393757252, 1129), (0.059308599130010117, 5474), (0.059309179684792733, 1068), (0.059311221345348837, 3605), (0.05931323075905387, 4768), (0.059314072735191258, 2951), (0.059314291700509954, 5436), (0.059320237886660188, 4485), (0.059321567168167957, 3440), (0.059322325341725227, 981), (0.059323763645873571, 4204), (0.059326792719739105, 3806), (0.059330285494023215, 538), (0.059332132651276466, 4936), (0.059332643641542414, 3315), (0.059334122118286259, 3871), (0.059335388962771518, 498), (0.059339626163933776, 3639), (0.059340181804708493, 2964), (0.059343604597963201, 575), (0.059345925178898092, 3732), (0.059346262986978128, 543), (0.059346499121439439, 586), (0.059347468960136651, 4337), (0.059348077218162987, 1446), (0.059352118097144184, 402), (0.059354656873510325, 4086), (0.059355441642578825, 3722), (0.059356467790129042, 299), (0.059357930162586524, 4076), (0.059358698974677257, 3619), (0.059359474348134197, 410), (0.059362226197891492, 3201), (0.05936334834832438, 2204), (0.059363837457962816, 1323), (0.059363975034534437, 2630), (0.059364044167755918, 1320), (0.059364412784289486, 416), (0.05936474034036978, 1416), (0.059366793258885837, 2154), (0.059366853594572271, 4024), (0.059367347174840629, 3380), (0.059367452061897141, 1794), (0.059368009718464718, 2706), (0.059369029851221736, 671), (0.059369892592983101, 2501), (0.059371483261303773, 951), (0.059373370217571046, 3133), (0.059376274433732883, 1565), (0.059377645412508416, 2102), (0.059378305216072381, 1015), (0.059378708144561254, 4700), (0.059379452276132172, 2438), (0.059380429717584782, 3310), (0.059381320277490407, 5042), (0.059381742293419977, 1345), (0.059382309837172194, 3158), (0.059386242500485187, 1626), (0.059387157320765327, 5016), (0.059387553455689551, 4247), (0.059390226099982527, 1712), (0.059391724045562394, 699), (0.059391736044072149, 5296), (0.059396726672010257, 1365), (0.059401066921564008, 990), (0.059401104864884612, 4545), (0.059402547545021216, 124), (0.059404672751395715, 4223), (0.059405273591864607, 3749), (0.05940636623034147, 4045), (0.059407027520397983, 1301), (0.059407186127700351, 50), (0.059409727128438491, 2571), (0.059413252445712987, 4009), (0.059414124974402419, 430), (0.05941444446502013, 468), (0.05941478228902327, 1598), (0.059414871647177347, 2104), (0.059415993822733507, 5148), (0.059416310846105581, 3431), (0.059417886898045731, 1338), (0.059418744328523794, 1471), (0.059421199254395825, 2701), (0.059422639081256064, 1418), (0.059423318515659546, 3506), (0.059424855346174699, 956), (0.059428501897175565, 81), (0.059428627556445138, 1406), (0.059429473316499004, 834), (0.059431184875462964, 3729), (0.059431853454058312, 2167), (0.059434502917618912, 3297), (0.059435179804972295, 1278), (0.059442865865537237, 2699), (0.0594433892322212, 403), (0.059446752707444574, 3909), (0.059446819679217285, 2860), (0.059446868743478556, 3658), (0.05944755694157753, 4699), (0.059452195092834101, 4007), (0.059452769980509586, 1327), (0.059452814133096381, 1627), (0.059454281902841348, 4253), (0.059456767253180838, 3127), (0.05946306287390523, 2492), (0.059465963210024599, 3461), (0.059467124534125393, 4361), (0.059467411301920792, 5421), (0.059468204783917303, 918), (0.059477109348274181, 3990), (0.059477298737121591, 3961), (0.0594782341389598, 1933), (0.059479805466858056, 329), (0.059481370212778405, 446), (0.059483311838467258, 4961), (0.059485526657401429, 2769), (0.059487926306941136, 3843), (0.059490869537755675, 3098), (0.059496496284391201, 804), (0.059496556121097527, 912), (0.059496702394044303, 620), (0.059497087693574126, 5311), (0.059499264164029571, 4601), (0.059502865654374591, 887), (0.059506586080888435, 222), (0.059510717308831229, 4626), (0.059512312232342726, 2948), (0.059514766344546617, 3021), (0.059516562219354162, 1469), (0.059516965049634524, 868), (0.059518630276687946, 2132), (0.059524044033663702, 5520), (0.059527169616963527, 2038), (0.059527305372257963, 3335), (0.059527433637704553, 1634), (0.059529402664281091, 4265), (0.059530735523813133, 2529), (0.059531244044852723, 1835), (0.059532014151921192, 5353), (0.059532994450641509, 4724), (0.059536236356285778, 1717), (0.059537109988135856, 5339), (0.059537613478408843, 1086), (0.059538306795144005, 2564), (0.05954145511009027, 5046), (0.059541940441965154, 2889), (0.059547850261131137, 1185), (0.059552306478801831, 4372), (0.05955262815771209, 831), (0.059553053517342296, 4643), (0.059557655786575146, 4741), (0.059558821091733487, 3075), (0.059562219984562931, 2713), (0.059562879565153208, 236), (0.059565259742276527, 4033), (0.059566002496113157, 4092), (0.059566153567329264, 1997), (0.059566400753847761, 984), (0.059568537072060362, 256), (0.059569705819700093, 4301), (0.05957297655310323, 4825), (0.059573522334115087, 4914), (0.059575047034402778, 1166), (0.059575704279878496, 4128), (0.059576503705392928, 2228), (0.059579712150277672, 200), (0.059579846631768206, 5479), (0.05958031099178563, 1945), (0.059581063769137681, 1093), (0.059582744764462577, 2005), (0.059587307740374677, 1985), (0.059587394630334474, 4722), (0.05958995785197535, 2550), (0.05959110565817527, 3339), (0.059592191109635817, 2500), (0.059593606105445736, 257), (0.059596680058216847, 3065), (0.05959809514239825, 505), (0.059598643910550322, 4714), (0.05959983265921423, 1563), (0.059600573468359362, 1124), (0.059604086273161903, 4821), (0.059606295551472566, 3777), (0.059607119834389495, 3929), (0.059607349461890981, 4720), (0.059609510740772947, 820), (0.059616263510081834, 4260), (0.059624039893097162, 4100), (0.059624136791382502, 4459), (0.059624423699784802, 1455), (0.059624983066146116, 1791), (0.059628076890679664, 2853), (0.059628417641789229, 4141), (0.059630175298446608, 3221), (0.059633340027408478, 5193), (0.059634004418243208, 2224), (0.059636689694293754, 3252), (0.059637895116818863, 4891), (0.059640423522439423, 2279), (0.059641656844972177, 2194), (0.059643369270590274, 3760), (0.059643894446287149, 3279), (0.059644257562440198, 862), (0.059650149119804693, 1133), (0.059651808986415034, 3302), (0.059663071129520961, 957), (0.059663789150114721, 2633), (0.059665934092023525, 3466), (0.059665971262612603, 276), (0.059666477804788121, 1147), (0.05966914865497952, 4502), (0.059673150374871989, 5266), (0.059673887084098862, 421), (0.059675422320238945, 1972), (0.059676226782896392, 2897), (0.0596779394897861, 4289), (0.059678260645606385, 5263), (0.059680445662533263, 1010), (0.059680651519518145, 2854), (0.059680735479334349, 3321), (0.059684772581650822, 1184), (0.059684941438307187, 2737), (0.059685017233566257, 632), (0.059688341867872884, 3844), (0.059691462131734235, 4542), (0.059692921835243946, 180), (0.059695541063111063, 3703), (0.059695835697142312, 232), (0.059696424213346526, 4095), (0.059696771864574782, 678), (0.059697682569999244, 4336), (0.059697754838352268, 2902), (0.059704685542787427, 5484), (0.059705429650450371, 2726), (0.059710298195140107, 3320), (0.059711064599729177, 4609), (0.059711742603244737, 1362), (0.05971253290891082, 2016), (0.059713180717609705, 3548), (0.059713311928667703, 2888), (0.05971400983470386, 1844), (0.059715726015976654, 4785), (0.059718950484468097, 57), (0.059719880771377215, 3125), (0.05972086207383584, 4663), (0.059721003019001746, 2626), (0.059723050743421928, 4554), (0.059723174701569799, 3473), (0.059723457279032881, 1823), (0.059723593716661257, 9), (0.059723813125335097, 4645), (0.059725753003456859, 3331), (0.059729443319167824, 1245), (0.059730552346958551, 4424), (0.05973493075766869, 2583), (0.059735503490695667, 2369), (0.059737591327583064, 1617), (0.059738946039734328, 3424), (0.059739909372473261, 190), (0.0597411249162468, 4726), (0.05974124648531965, 3614), (0.059743862033228706, 921), (0.059745011329732992, 3511), (0.0597454093189249, 4900), (0.059747553531186805, 2051), (0.059749378633981401, 3855), (0.059752148924871629, 2162), (0.059757484967220949, 2740), (0.059758432461793014, 1256), (0.059759960549200998, 2391), (0.059761656940629536, 4150), (0.059762833160093121, 1399), (0.059763266500941173, 2934), (0.059765910708230841, 168), (0.059768010096089903, 4583), (0.059769290902441319, 562), (0.059770572024926062, 1483), (0.059770780817786827, 3623), (0.059775125802797903, 2993), (0.059779092914301092, 4351), (0.059779118899531129, 4716), (0.059781572916352131, 1498), (0.059784143134168827, 247), (0.059784951199868708, 4837), (0.059785945633758129, 153), (0.059788683633679889, 5454), (0.059793581355333948, 1433), (0.05979381471174381, 4471), (0.059795978282549817, 754), (0.05979654977185847, 1288), (0.059797157381852206, 2783), (0.059798231523592434, 16), (0.059800102879061449, 2808), (0.05980388892881626, 5312), (0.059804037012266519, 2718), (0.059804243751298315, 185), (0.059810961945207887, 4704), (0.05981122927415964, 2999), (0.059813527045198989, 4918), (0.059815201592137823, 2487), (0.059816120482315376, 4000), (0.059820929917814791, 3976), (0.05982129626656621, 325), (0.059823950632124548, 4607), (0.059825626625179623, 4804), (0.059826697690662387, 3995), (0.059827576953934342, 4572), (0.059827666120647119, 2443), (0.05983907210756341, 1457), (0.059840128441866335, 170), (0.059842373536140386, 4018), (0.059842537286675261, 5480), (0.059845592404013326, 4263), (0.059846765138817794, 4129), (0.059851786790271165, 3341), (0.059852579391654864, 2262), (0.059853512107057839, 2277), (0.059853949218499819, 1223), (0.059854200825589086, 39), (0.059855386225748645, 3967), (0.059858474181135268, 2674), (0.059859447598427387, 3886), (0.059860528858807882, 1069), (0.059861333064488362, 1329), (0.059864636118208192, 5024), (0.059868003372040221, 377), (0.05986803556806039, 2444), (0.059868996487853161, 3199), (0.05987200561203998, 4203), (0.059877668341722139, 3835), (0.059879215101840008, 5), (0.059881156161411583, 3209), (0.059883641550708334, 2548), (0.059884414577177095, 2593), (0.059885412687396215, 75), (0.059886561401402957, 2386), (0.059889785875371374, 2482), (0.05989116475780535, 4534), (0.059893855976334641, 4536), (0.059897096661283816, 45), (0.059897118544364227, 5240), (0.059901727697989376, 5014), (0.059902354844000957, 2914), (0.059906047401003588, 1968), (0.059910692429255577, 2405), (0.05991250868108107, 3375), (0.059915660854258486, 113), (0.059921490441091907, 4985), (0.059927013906130693, 3962), (0.059927063693061972, 4099), (0.059927733053804014, 4207), (0.059930472815775834, 2424), (0.059931609203519302, 1636), (0.059935294292568997, 3025), (0.059935846949909617, 4125), (0.059942020440872358, 983), (0.059943079324027086, 890), (0.059945683011077125, 3867), (0.059945937609292517, 2211), (0.059948375719819397, 5185), (0.059949204917050858, 3839), (0.059953530769068709, 2691), (0.059954467396742303, 3049), (0.059955838122659207, 332), (0.059958497583618459, 441), (0.059960117455901352, 1847), (0.059962440112011045, 134), (0.059967860112572283, 4174), (0.059969518497767618, 895), (0.059969952931244914, 4454), (0.059972119440697247, 3503), (0.059972720140143383, 4903), (0.059976758894502297, 578), (0.059977001428526723, 4886), (0.05998085320285159, 3512), (0.059981505887436268, 2168), (0.059982480494910555, 2169), (0.059984126112489815, 2709), (0.059991966858970694, 1597), (0.059994293283918601, 3402), (0.059996069722588238, 2191), (0.059999065126170439, 3383), (0.06000209576851194, 3676), (0.0600032094652053, 461), (0.06000410768551221, 4400), (0.06000411346161056, 3686), (0.060005892539220083, 2103), (0.060009073959358526, 4179), (0.060011253830351857, 1346), (0.060011659400751864, 1152), (0.060012736546147603, 4432), (0.060033158578388458, 1027), (0.060033700938303403, 1861), (0.060034419982915171, 2954), (0.060034738740407302, 1044), (0.060038014197874801, 3948), (0.060038194377931717, 4526), (0.060038423408047839, 2910), (0.060039936442165182, 3562), (0.060044308868209877, 3662), (0.060045178295185665, 4498), (0.060045906453524409, 3580), (0.060047904755682682, 1237), (0.060052824466206786, 2425), (0.060052948993013493, 3329), (0.060053165047111431, 432), (0.060056916895952404, 3281), (0.060058012966025934, 4521), (0.060064137867897077, 4335), (0.06006987917878067, 2217), (0.060071397742394964, 3851), (0.060072817064542122, 4277), (0.060076366740664716, 3946), (0.060078228627320117, 2817), (0.060079657883535531, 3370), (0.060083581090388, 5020), (0.060085035667044782, 2775), (0.0600851832325262, 1882), (0.06008524546852323, 2743), (0.06008779750880798, 4490), (0.060090821957913695, 366), (0.060093321847262085, 11), (0.060095132463082804, 1071), (0.060096091065743262, 3594), (0.060097003682060494, 4682), (0.06009759876605833, 338), (0.06009803632449718, 676), (0.060099676293630847, 2059), (0.060102232548483112, 4812), (0.06010352135319464, 2705), (0.060108327768199354, 5052), (0.060108928724896676, 584), (0.06010934134367147, 3563), (0.06011269760933672, 1135), (0.06011365220998359, 935), (0.060113724310747581, 729), (0.060114570324220219, 5034), (0.060114921707505695, 3146), (0.060116213815077778, 630), (0.060119439924793537, 1701), (0.06012183235293507, 5154), (0.060121843993046875, 4503), (0.060122517831906017, 3298), (0.06012306906030046, 1700), (0.060126246957563273, 5467), (0.060128312164805388, 4864), (0.060129439567887764, 769), (0.060132022147113211, 1353), (0.060132571324896057, 2255), (0.060134635834831564, 861), (0.060135768917161096, 1534), (0.060138463072933933, 1969), (0.060143339525283744, 1127), (0.060145122078936249, 5159), (0.060145872987625928, 1523), (0.060146482145151454, 3769), (0.060147544006284845, 2723), (0.060148250547197878, 822), (0.060156988766780786, 1324), (0.060163363825726728, 4305), (0.060164561896717358, 1941), (0.060173547287972973, 4565), (0.060173713674277318, 1435), (0.060174356116227359, 3093), (0.060177853700064586, 1130), (0.060190490455835431, 4055), (0.060195701004975948, 1076), (0.060196631362308364, 4210), (0.060200644619427882, 3295), (0.06020142043089078, 3495), (0.060202558793251655, 144), (0.060202856193765204, 3591), (0.060205871604151216, 2552), (0.060207909558756302, 3177), (0.060209384501399461, 3344), (0.060226190479855092, 1764), (0.060228108038186165, 4294), (0.06022816286647989, 1952), (0.060230725375400702, 2768), (0.060232868242877845, 2655), (0.060232909298545689, 4104), (0.060233362287856383, 1645), (0.060238943205172195, 771), (0.060239924044037725, 3338), (0.060240362484346853, 4537), (0.060240748100079358, 79), (0.06024305573297907, 3796), (0.060246642696549099, 1208), (0.060250142288256363, 2983), (0.060252956331221817, 3091), (0.060255701596085211, 4501), (0.060258069357661974, 1595), (0.060259749967183265, 3691), (0.060264072176322396, 2416), (0.060264504797961152, 1555), (0.06026958301397612, 2600), (0.060270142735559203, 556), (0.060271588823957736, 3644), (0.060272762194968806, 1898), (0.0602747091729555, 0), (0.060275670699142921, 762), (0.060281149428477072, 2632), (0.060292569446683569, 3521), (0.060301785278467822, 2531), (0.060304067764324384, 3086), (0.060306508400730284, 2449), (0.060310610498642531, 4904), (0.060313710483951316, 1592), (0.060315883941601561, 3414), (0.060318155867459623, 2745), (0.060325009595612614, 1804), (0.060326523004467475, 1112), (0.06032698364464182, 1293), (0.060327331911401258, 2988), (0.060327613796268297, 3546), (0.060327875909749251, 125), (0.060328126839332627, 1195), (0.060329754269176923, 970), (0.060334702687252321, 980), (0.060335047501515672, 3670), (0.060343955281732663, 3528), (0.060345670273586609, 1163), (0.060347013287318022, 2903), (0.06034787307431403, 2618), (0.060350871360238457, 3750), (0.06035421254599016, 2568), (0.06035651684019841, 4375), (0.060357597697119264, 2796), (0.060359122486540441, 1417), (0.060362690793457269, 4119), (0.060366298636160637, 3382), (0.060367650392304933, 1474), (0.060371728907123903, 3493), (0.060372058958603009, 1497), (0.06037386046415006, 4319), (0.060376411804768049, 3260), (0.060376600326347993, 5005), (0.06037823421492497, 1611), (0.06038012243944612, 423), (0.060380396315920348, 2886), (0.060384329272976822, 1145), (0.060387847945035197, 3265), (0.060387952303143436, 2409), (0.060389129277529138, 3613), (0.060389834165543305, 1205), (0.060393818472995284, 747), (0.060394070194067936, 4950), (0.060394763505434032, 1343), (0.060397097440699467, 806), (0.060398656910042765, 5015), (0.060401463305359622, 1623), (0.060401730544427518, 1048), (0.060401844135039205, 1868), (0.060402576765107394, 3700), (0.060409661498370064, 1903), (0.060414947044754641, 2493), (0.060417644426740934, 1988), (0.060423394408880324, 4374), (0.060424063724790394, 2127), (0.060429134860429938, 60), (0.060431583180818163, 3890), (0.060432403819877939, 1579), (0.060433470313341252, 4225), (0.0604377630241585, 3362), (0.060437914474294703, 3876), (0.060438511239849307, 5470), (0.060440652731892648, 1477), (0.060441727021543747, 4035), (0.060446014773680147, 1703), (0.060447810427117332, 4164), (0.060451336727906188, 1020), (0.0604520386709613, 3972), (0.060454441018691817, 1921), (0.060457162288256212, 4341), (0.060457162288256212, 4342), (0.060457201977928969, 285), (0.060459018619477327, 1757), (0.060462278406188237, 3008), (0.060462388589410124, 3683), (0.060465374248510347, 1215), (0.060466363988583086, 1536), (0.060467794573110557, 4622), (0.060468155832911777, 3183), (0.060470156769042868, 2017), (0.060471855999272829, 2595), (0.060471890226293984, 789), (0.060472620514745702, 2742), (0.060473127110604333, 2039), (0.060476159469950552, 4235), (0.060480412094169746, 753), (0.060480603675597787, 3206), (0.060482788161341984, 3743), (0.060485519434698064, 2119), (0.060485912756523118, 2477), (0.060486319241329169, 1649), (0.06048836049907428, 4079), (0.060491800388078082, 1390), (0.060495238184310067, 1378), (0.060495717099326378, 330), (0.060497471601922627, 3366), (0.06049939192943711, 364), (0.060502856958585392, 2010), (0.060504837815805165, 3532), (0.060508494502547194, 4108), (0.060509407306607532, 4181), (0.060509850780461158, 1193), (0.060513625405220088, 1984), (0.060515177873828221, 4030), (0.060516678855729575, 1394), (0.060516771630587281, 3094), (0.060516856729603233, 1052), (0.060517137113850525, 4817), (0.060517914886349847, 409), (0.060521434688123259, 4085), (0.060522403433358817, 2613), (0.060524760874495022, 1574), (0.060526796442657571, 4829), (0.060527308115647549, 2582), (0.060527532356677176, 2120), (0.060528411181511511, 435), (0.060530680961692125, 4101), (0.060532835692086874, 798), (0.060538022800162412, 947), (0.060538203824325364, 720), (0.060538246277742007, 3811), (0.060538282139596201, 2350), (0.060558053429499395, 928), (0.060558199270938272, 4152), (0.06056373684424423, 2009), (0.06056755972095982, 3797), (0.060571145490311985, 4570), (0.060575287519388218, 5153), (0.060577800257845794, 3711), (0.060582066432787171, 450), (0.060584381475558356, 1904), (0.060585770308867054, 3152), (0.060587475809208938, 1538), (0.060590516627901665, 449), (0.060591825643105737, 4582), (0.060594088861983482, 1935), (0.060594169613948916, 5084), (0.060594722250316362, 4422), (0.060596764579494165, 4786), (0.060598134331798656, 5416), (0.060598233785652773, 1625), (0.060598854210762318, 4062), (0.060599414425214625, 2801), (0.060600143136409712, 1459), (0.060600818823586984, 4543), (0.060601011852258892, 1297), (0.060601332676028886, 3660), (0.060601517992177216, 4269), (0.060603438389468252, 594), (0.060609482413994178, 2064), (0.060610827628945069, 493), (0.060614871610040588, 249), (0.060624024517277782, 4642), (0.060626762065025909, 985), (0.060627109739128104, 3184), (0.060629325516724272, 3250), (0.060632939372976785, 1005), (0.06063317570458919, 4517), (0.060639690301308759, 2310), (0.06064227656609026, 2637), (0.060642856539269201, 539), (0.060644284904174166, 1789), (0.060648426383028309, 3377), (0.060652367735703552, 4280), (0.060655679557367503, 3198), (0.060656432838381125, 2545), (0.060661910100706214, 1277), (0.060663812460279895, 3160), (0.060667650119557971, 640), (0.060668790457085932, 2331), (0.060677868517621372, 3024), (0.06067885922740076, 2809), (0.060679657497568429, 3648), (0.060681040529367243, 4397), (0.060686443989108559, 4780), (0.060686603642095417, 314), (0.060688424666298944, 2122), (0.060688726042597022, 4240), (0.060688733265941215, 3926), (0.060695309859188293, 2467), (0.060696664768354704, 4151), (0.060701890718337245, 3565), (0.060701911144243684, 3620), (0.060702389558005637, 2659), (0.060703531170255232, 1103), (0.060705650257531642, 2464), (0.060707497691129313, 1606), (0.060712447760995381, 839), (0.060716664331809729, 4967), (0.060722552717468709, 4624), (0.060722901446729843, 4705), (0.060726788719169679, 4948), (0.060726820379771902, 2591), (0.060729512737789572, 3557), (0.060730719316139603, 3016), (0.060732532940436956, 2052), (0.060733738150922978, 1372), (0.060735147687794484, 4394), (0.060736606391742554, 3960), (0.060737953618189705, 4295), (0.06073973857449684, 2197), (0.060743586358408506, 1960), (0.0607491563722879, 1544), (0.060751376106646722, 2266), (0.060753277496008069, 3032), (0.060753787333561918, 3488), (0.060753842897339691, 4040), (0.060754201062184945, 4005), (0.060754451188917605, 2885), (0.060754570294805431, 1681), (0.060758437263917907, 4094), (0.06076204271867023, 1096), (0.060764913827870894, 5399), (0.060771325769004306, 4981), (0.060774667576198795, 682), (0.060776559629006868, 287), (0.060777400569268218, 2716), (0.0607775663575452, 932), (0.060781591018025861, 1964), (0.060783673675913585, 149), (0.060784610475109482, 2165), (0.0607856512548548, 3906), (0.060788737326676001, 2426), (0.060789913505585803, 1367), (0.060790402572229466, 2147), (0.060792142628444151, 2671), (0.060793482067189465, 3389), (0.060794957496099748, 664), (0.060797060457907864, 3388), (0.060797154254046935, 2356), (0.060801189274120107, 2651), (0.060802452356685563, 4423), (0.06080282576022724, 5427), (0.060804153584009327, 800), (0.060804438142470121, 744), (0.060806462885647526, 1660), (0.060807904548354504, 308), (0.060808025193258397, 230), (0.060813237423325173, 2321), (0.060823662036603533, 3074), (0.060830826823713019, 345), (0.060831661322454142, 4723), (0.06083450641371841, 1989), (0.060841465817755007, 4130), (0.060841723395037094, 2360), (0.060841803300722447, 131), (0.06084658750323229, 84), (0.060847151698395802, 4122), (0.060848029656388844, 4604), (0.060848926953107958, 1566), (0.06084922548902201, 4413), (0.060853590438401169, 1745), (0.060855275080653477, 3288), (0.060856171379017103, 93), (0.06085833996035727, 1243), (0.06085850377868196, 4888), (0.060860807815419665, 2430), (0.060861152479281477, 1741), (0.060868749621051953, 138), (0.060871739589808307, 1543), (0.060873234429348701, 3041), (0.060874962094263504, 3597), (0.060877216651568061, 3795), (0.060878730036954591, 4368), (0.06087881017753053, 2183), (0.060879352324467832, 4314), (0.060882360123829464, 4266), (0.060883026012495116, 2944), (0.060887816182391946, 4444), (0.060892914258409293, 5141), (0.060894434603653201, 4873), (0.06090987393717149, 1518), (0.060914125651638208, 786), (0.060917558365209248, 2551), (0.060918198557694127, 3883), (0.060919305050992682, 1125), (0.060922839909652575, 924), (0.060926294179977199, 3649), (0.060935823454232707, 2160), (0.060936262892926446, 4717), (0.06094299470000266, 2890), (0.06094330075327288, 3237), (0.060944644351458029, 3752), (0.060950879637718211, 3870), (0.060954425696510897, 1851), (0.060956872340368985, 2824), (0.060959264164478187, 1505), (0.060962556723146745, 2273), (0.060967211462254291, 4696), (0.06096734700891155, 1881), (0.06096981914057651, 5372), (0.060970853458140829, 4180), (0.060975916288042518, 3061), (0.060978612107086917, 2234), (0.060978761409633798, 121), (0.060979997150344675, 2882), (0.060981883234773562, 1531), (0.060985373811339408, 604), (0.06098680527114627, 139), (0.060987151262472054, 2428), (0.060991980540388221, 2317), (0.060992434166165066, 4952), (0.060994236431675425, 4340), (0.060998653406592405, 4751), (0.061001753999150282, 3781), (0.061006095166995011, 4396), (0.061006254833266493, 3675), (0.061017681439740221, 3359), (0.061018085407770331, 3481), (0.061018492865636917, 2367), (0.061018693139115961, 792), (0.061018842420774086, 692), (0.061023104743292506, 3469), (0.061023394977868829, 2380), (0.061026078929621232, 1442), (0.061026465165431074, 391), (0.061029425229282085, 1220), (0.061033515486537231, 541), (0.061034054119497985, 3334), (0.061036867678397874, 4991), (0.061039578965180641, 768), (0.061041821325026731, 2512), (0.061050031634817717, 628), (0.061051811596322537, 4255), (0.061054399842590042, 1192), (0.061056813095456533, 2620), (0.061058804377986192, 3593), (0.061061200800869235, 91), (0.061061524884447105, 4789), (0.06106212165051058, 3702), (0.061071685074142797, 669), (0.061075535362449945, 1260), (0.061075584259212182, 1557), (0.061076096261307992, 21), (0.061078564289602927, 2495), (0.061079801559762566, 1684), (0.061080273073879386, 1710), (0.061081210335928803, 1201), (0.061083810379776116, 3296), (0.061085277822467567, 1117), (0.061086632993382663, 373), (0.061086831041857415, 4612), (0.061088811039775669, 1227), (0.061092118504633239, 4014), (0.061092468489322524, 1022), (0.061096021714387619, 4058), (0.061100394740052494, 2617), (0.061101463688114546, 4906), (0.061101649114341954, 108), (0.061101851064711755, 3088), (0.061106070116405738, 118), (0.061106154426013269, 5142), (0.061110376489382778, 2616), (0.061110948398553654, 3919), (0.061116761897028825, 2345), (0.06112228649955552, 3422), (0.061122715275617315, 4781), (0.061122940753246299, 1615), (0.061127945220713159, 1702), (0.061129477224356001, 4148), (0.061132158105180551, 1138), (0.06113416370044495, 1217), (0.061134638987276058, 428), (0.061137744818712508, 4084), (0.06114631107430616, 4462), (0.061147826360081217, 2912), (0.061149285002677467, 633), (0.061149297977234909, 3134), (0.061155535683473039, 1055), (0.061156379676115022, 1224), (0.061160305281241951, 4463), (0.061165182667368312, 4851), (0.061167518762622615, 526), (0.061169976547702544, 1907), (0.061171001563014575, 3567), (0.061173234004809209, 4001), (0.06117424308726379, 2519), (0.061177571779392245, 608), (0.061187830920999581, 3540), (0.061187998859319324, 1867), (0.06119719040283593, 265), (0.06120705987102866, 2471), (0.061212281684048457, 1234), (0.061215734373417638, 843), (0.061218576522224621, 2140), (0.061223074950628412, 4559), (0.061227065119909371, 4568), (0.061233634278628685, 1786), (0.061243533385315678, 2741), (0.06124821949208567, 4541), (0.061248328598398821, 940), (0.061250720208026098, 3151), (0.061251426702600434, 1670), (0.06125732262572537, 1699), (0.06126445891098551, 816), (0.061266065591171474, 971), (0.061266746176976132, 3257), (0.061269665102125379, 1897), (0.061272031454914853, 3849), (0.061273150264725698, 2128), (0.061273740371458614, 1476), (0.061274163632284794, 3012), (0.061275233773243246, 4912), (0.061275486713356322, 3617), (0.061275903294378799, 1801), (0.061279195343241548, 1901), (0.061281507794033567, 275), (0.061297273659409304, 3097), (0.06129794226516487, 4887), (0.061312317519740034, 1837), (0.06131502451064666, 684), (0.061315882063415962, 2469), (0.061317372934197215, 2210), (0.061321608308990729, 589), (0.061327680981906788, 2031), (0.061335041064190049, 840), (0.061339546271977151, 1809), (0.061340791995967689, 1255), (0.061342377532505529, 5438), (0.061343275255551992, 4550), (0.061346355188035377, 914), (0.061346601772275695, 1752), (0.061352987816830969, 3970), (0.061355044331362317, 2696), (0.061357262819735012, 4868), (0.061357306861427714, 1806), (0.061361472441144732, 3205), (0.061365974697664194, 1347), (0.06136850219576058, 4761), (0.061370878313800385, 3449), (0.061377502994244021, 2247), (0.061380481091496408, 4619), (0.061384632983324021, 3505), (0.061388909935714817, 1813), (0.061392449851404941, 1150), (0.061395549648475427, 688), (0.061398810517465131, 300), (0.061402001842486571, 4272), (0.061403236508862868, 3050), (0.061408941189411072, 4736), (0.061410116062362116, 4516), (0.061410909011088075, 2155), (0.061413665766715482, 2404), (0.061415560567386521, 216), (0.061417378342151038, 3182), (0.061423837692114493, 4347), (0.061425377381916592, 4395), (0.06142973789672674, 4813), (0.061435113573961968, 162), (0.061435865152711377, 3840), (0.061436141406739683, 905), (0.061442129218929907, 2437), (0.061443182253775673, 3627), (0.061444154625475311, 3665), (0.061445713229014008, 2108), (0.061445746648671702, 414), (0.061448782586852983, 2214), (0.061448926259467518, 1081), (0.06146327196029102, 4989), (0.061464981786446188, 2697), (0.061471042141747624, 3434), (0.061473833135595998, 1451), (0.061475210335595484, 4715), (0.061475939272268056, 4452), (0.061479611230809687, 4025), (0.061479826884235256, 4801), (0.061489131906531658, 3742), (0.061491412094604091, 823), (0.061492888393490402, 2395), (0.061495689086305136, 4617), (0.061496695087680846, 169), (0.061497752524558337, 3641), (0.061497796475961604, 1540), (0.061497995548705109, 281), (0.061498019945734894, 1888), (0.061499361860611695, 3426), (0.061499464371202843, 2), (0.06149951623692327, 2083), (0.061500010851786281, 2893), (0.061506907875778428, 860), (0.061509594695833038, 4146), (0.061519962065891387, 936), (0.061520573019817164, 512), (0.061523033107675713, 1803), (0.061524409073187805, 1732), (0.061525063690483578, 3223), (0.06152555521788719, 1622), (0.061525677212248921, 1025), (0.061536378468010938, 4102), (0.061542079654018901, 4060), (0.061542383409195184, 3589), (0.061543480610297727, 1739), (0.061544277703058037, 3850), (0.061547975641882538, 4416), (0.061548105355553398, 902), (0.061548599088985606, 32), (0.061551578803385666, 4772), (0.061551990889544821, 334), (0.061553313955677036, 2732), (0.061554292673804176, 836), (0.061555237663902293, 1502), (0.061556165485105202, 196), (0.061557294667025579, 1572), (0.061557842686203131, 1333), (0.061563478088013199, 4747), (0.061564428556119377, 4106), (0.061568385612893552, 2607), (0.061578429585983779, 3699), (0.061578737887956453, 2093), (0.061587564232102689, 710), (0.061588741301722406, 1906), (0.061589361923775864, 1268), (0.061595266088265613, 4791), (0.061603620071025364, 577), (0.061608283659994684, 2599), (0.061610703252326066, 1651), (0.061631360161712438, 1990), (0.061633029752508936, 3536), (0.061634447069386339, 3058), (0.061640457123243009, 322), (0.061653741185486548, 4406), (0.061658103815035843, 855), (0.061661571684354335, 734), (0.061665764167809577, 1507), (0.06166672136943116, 4353), (0.061669267159746591, 4779), (0.061669582328187991, 2623), (0.061675577305862241, 4518), (0.061689647772115018, 1578), (0.061690199259585292, 1587), (0.061692039667488374, 2544), (0.061695891394176194, 2763), (0.061696750380854461, 326), (0.061697920284755535, 4823), (0.0616979997544604, 1514), (0.061700281196375932, 4481), (0.061703689665070179, 2173), (0.061704125286763382, 2084), (0.061714034294637024, 2047), (0.061716174959532577, 4410), (0.061718902577326991, 837), (0.061722827483345559, 1788), (0.061740781412272933, 2073), (0.0617540403365704, 1084), (0.061754265497344689, 2654), (0.061755374380425929, 2252), (0.061756347920475935, 3029), (0.06175838504572536, 4264), (0.061758540618885201, 5508), (0.061760095935825897, 1428), (0.061760413679706139, 3588), (0.061762063137023905, 1002), (0.061762296353185996, 150), (0.06177680925054839, 458), (0.061781412851006592, 3785), (0.061793314828231242, 668), (0.061810229537002132, 4455), (0.061816517739715172, 784), (0.061816600946798923, 3492), (0.061816611231025553, 3504), (0.061818793185393454, 2509), (0.061835123722820143, 1929), (0.061840433516174013, 2159), (0.0618496330178058, 4074), (0.061850971428826382, 3858), (0.06186084802396026, 4251), (0.061865821840499741, 3292), (0.061876699995971632, 4433), (0.061879311860130577, 2275), (0.061898591278906658, 3240), (0.061899180074891022, 3678), (0.061899485422750672, 1198), (0.061901325306468691, 2364), (0.061908670178526061, 4222), (0.06191523844984221, 3352), (0.061919027969750455, 4175), (0.061926976701059171, 4925), (0.061933331666816541, 4486), (0.061935601967234105, 1335), (0.061952993639489591, 1630), (0.061960984895885474, 3189), (0.061967457876353674, 857), (0.061967853797111151, 4334), (0.061968099000169773, 2800), (0.061978345419956005, 4644), (0.061993225069417977, 4794), (0.062004245232173384, 1148), (0.062013081959345968, 2555), (0.062016349181126453, 3647), (0.062043733828042, 958), (0.062044629386646122, 2597), (0.062045706507818647, 4585), (0.062049035048443939, 3244), (0.062053051020325004, 966), (0.062055645593083276, 3701), (0.062079386365638888, 1722), (0.062080217908623031, 3188), (0.062093495304372089, 4478), (0.06209420492114049, 4154), (0.062099419283329446, 3584), (0.062125121526424992, 3555), (0.062127377336802618, 2259), (0.062130687885629803, 4905), (0.062131185378544881, 4371), (0.062137584974218021, 4745), (0.062146340414168159, 4360), (0.062154478691801268, 775), (0.06215742258167304, 4183), (0.062157452610240957, 1721), (0.062159318726271215, 776), (0.062168874918037159, 2794), (0.062184770375855514, 1697), (0.062222602080143775, 2456), (0.062246257133221294, 1028), (0.062265819743786407, 3241), (0.062299153996012359, 3709), (0.062300505362814437, 3233), (0.062300920990309691, 3754), (0.062306626390782376, 2462), (0.062314745954425044, 3549), (0.062325339026842196, 320), (0.062326683065188522, 790), (0.062327846949043267, 1104), (0.062329216925287548, 2089), (0.062339669863046655, 3270), (0.062346337340184896, 1330), (0.062348816303374618, 2107), (0.06234883506166599, 3186), (0.062352175898784674, 4218), (0.06235253893844897, 3360), (0.062390623834489588, 4307), (0.062397046109460452, 4949), (0.062421516800764541, 2193), (0.062421557524597299, 2239), (0.062434369716854482, 1454), (0.06246299196345724, 612), (0.06248587518492086, 2473), (0.062486106808418554, 2371), (0.062530259821241552, 1754), (0.062561552880353588, 593), (0.06257012123338962, 2027), (0.062577426076076484, 4639), (0.062597648015998833, 2448), (0.062634542145081795, 551), (0.062644484425844582, 1410), (0.062654761526010821, 2825), (0.062663132022070606, 814), (0.062686050053356604, 4109), (0.062696246939483016, 1859), (0.062707384185167359, 4310), (0.062745301001031165, 4816), (0.062745873300008373, 2218), (0.062760681515689545, 97), (0.062761968171295812, 513), (0.062786575042540649, 4068), (0.062831662875459035, 2178), (0.062913206112100037, 1831), (0.062921006417099315, 5230), (0.062939976491652505, 4431), (0.062944975318621282, 739), (0.062996355460416015, 1008), (0.063089542900480036, 1967), (0.063098368257911569, 3435), (0.063135738500072994, 2873), (0.063147171620455175, 4852), (0.063172172104073124, 3467), (0.063183282948094457, 907), (0.063222390875966594, 1510), (0.063264917732888962, 4194), (0.063276324844256271, 2715), (0.063318700764456864, 2074), (0.063397756913287306, 3721), (0.063409584375992339, 3730), (0.063426711373907069, 3039), (0.063432400098923647, 3217), (0.063446146904121176, 3672), (0.063467183210696318, 225), (0.063473733016017803, 2055), (0.063627053610779694, 3719), (0.063646360175176858, 4291), (0.063654141628375113, 3059), (0.063682743718259396, 2942), (0.063700196613029045, 98), (0.06372826228580146, 2814), (0.063769503007633357, 1810), (0.063816533116211133, 5504), (0.063886782711852802, 615), (0.063900369211615834, 5329), (0.063932704056661446, 2978), (0.063933307200198367, 1755), (0.063943923966887931, 2536), (0.063952306432648265, 219), (0.063953563594990256, 2185), (0.063955018915959352, 550), (0.063973317341532249, 3273), (0.064009737884785062, 2377), (0.06405638733982677, 1376), (0.064067595410520387, 1171), (0.064084756064935314, 3898), (0.064085363036945051, 1445), (0.064129546688683731, 2911), (0.064181720364595893, 2612), (0.064248081952610767, 3454), (0.064294121034910695, 4673), (0.064300891677672778, 3661), (0.064306206656467094, 810), (0.064326398370708249, 4190), (0.064379580357686733, 3346), (0.064395686675091393, 4522), (0.064431303874772486, 567), (0.064507981375345178, 3561), (0.064535625823659543, 3787), (0.064556239230092641, 2520), (0.064626834350132251, 2203), (0.064682130415909644, 3527), (0.064777362481634293, 1300), (0.064815869080989033, 4205), (0.064937284000840673, 4519), (0.064946492688300897, 370), (0.064965793410249453, 3733), (0.064993182608583555, 1244), (0.065027975225653734, 1292), (0.065269173528440347, 2235), (0.065281204819076344, 1126), (0.065435613256019431, 5465), (0.065460168425681906, 5222), (0.065541506278173026, 2227), (0.06556892050880056, 1040), (0.065695950479431581, 3219), (0.065752769189831028, 2997), (0.065910903840981, 197), (0.065976783760363145, 3638), (0.066035911435499459, 1366), (0.066257512629984153, 5155), (0.066420573772440344, 95), (0.066581829233193612, 3632), (0.066905757148236211, 4681), (0.067237336660873698, 1905), (0.067414270759144121, 3000), (0.067472052002535338, 544), (0.067688395612969132, 4594), (0.067762367087012512, 4398), (0.067766600116012002, 4971), (0.067813838312857672, 3294), (0.067953668447420471, 143), (0.06795574512019624, 1650), (0.068016017719087635, 723), (0.068050833485474568, 4561), (0.068107018596818975, 673), (0.068290572019576001, 4769), (0.068377460652469288, 1896), (0.068456922943393311, 4298), (0.068579711834189136, 27), (0.068599848503748506, 3766), (0.068645806015888849, 4603), (0.068833818620090068, 998), (0.068833818620090068, 999), (0.068932866430160875, 2358), (0.068967267344708622, 372), (0.069005069751205406, 791), (0.069196935986407748, 2190), (0.069219978435641816, 1704), (0.069252964418111365, 2435), (0.069310223751858302, 1643), (0.069328321863582773, 1776), (0.069344231195948861, 1774), (0.069353986903105277, 1013), (0.069377493268965251, 3885), (0.069399448406782971, 3485), (0.069604835017044092, 4366), (0.06970531574685121, 2866), (0.069758651403965283, 1793), (0.069786075719022081, 5439), (0.069815047696054122, 3054), (0.070022974220553882, 1196), (0.07002765115373337, 4667), (0.070031072077350306, 66), (0.070092467984463613, 778), (0.070648574830597763, 1146), (0.070654334490139886, 4484), (0.070659347325307278, 5009), (0.070765074303723405, 360), (0.071112680093430969, 509), (0.071237600464577056, 3055), (0.071306838330189165, 4407), (0.07135637020794032, 4008), (0.071382848826770387, 3817), (0.072142302255724239, 1261), (0.072358252133063017, 3117), (0.07290499090142788, 4657), (0.073278075971039983, 2614), (0.073499611423187672, 1484), (0.073546758627607109, 229), (0.073567813332015966, 3869), (0.073621457677850291, 3391), (0.074157004803023285, 2974), (0.07463005026639688, 4879), (0.075011212636279884, 1310), (0.075144700881286691, 1380), (0.075316297280712055, 2330), (0.075391272042283103, 812), (0.075509004983538838, 349), (0.075535864362933317, 1631), (0.075558101770419869, 1584), (0.07573886037708813, 1206), (0.07597435557066011, 353), (0.075974552150057578, 1982), (0.076026835221455785, 1273), (0.076084888432920245, 86), (0.07626656877180224, 4378), (0.076364638822746383, 425), (0.076658873640678624, 2785), (0.076798780455527807, 3947), (0.076800605757784732, 312), (0.076949205598484824, 3724), (0.077192061215154775, 26), (0.07729291570649717, 3779), (0.077415547779857125, 1299), (0.077894796337732469, 284), (0.077936218446628319, 1284), (0.078222025511068091, 5162), (0.078360319606879961, 2861), (0.078475143435820155, 2998), (0.078949430712389301, 2343), (0.07931066146896508, 1063), (0.079486223740045894, 3949), (0.079864711871785621, 911), (0.08011490217517743, 869), (0.080335288597059198, 3468), (0.080398299794788741, 151), (0.08052431736047154, 2370), (0.081614848977170237, 4451), (0.082466330168180627, 4799), (0.083667548279437412, 2182), (0.083784767822725939, 4676), (0.083931753388173547, 1017), (0.084312735071971401, 4915), (0.084367176477433248, 4874), (0.084513198568049827, 1485), (0.084516487692620726, 37), (0.084528446703750953, 4089), (0.084592443753756782, 4854), (0.084632043536043353, 830), (0.084643938034284619, 1594), (0.084699909534133658, 3827), (0.084706723222264566, 3836), (0.084736007921618076, 3845), (0.084752126687236112, 1956), (0.084759047357662612, 4132), (0.084778429637087552, 4771), (0.084875427780361862, 4479), (0.084964304342808494, 4322), (0.085048408195533318, 408), (0.085157102016218872, 339), (0.085184102134971781, 4875), (0.085214909137282885, 5223), (0.085253452186686923, 1064), (0.085297725840590852, 3618), (0.085311114278690758, 1088), (0.085314358048497033, 1696), (0.08531815613994384, 1287), (0.085331568215690184, 2625), (0.085369215206593393, 2329), (0.085400689529820092, 2372), (0.085436185697351341, 4746), (0.085468811488270832, 1), (0.085504098186585512, 4738), (0.085532332012500212, 4933), (0.085536035104623862, 4439), (0.085562535460981012, 1251), (0.085566501516348564, 434), (0.085566650257709445, 663), (0.085568879610003007, 3064), (0.085675202389522295, 2049), (0.085680777120768686, 3245), (0.085700336387230167, 4974), (0.085756144119311969, 4105), (0.085767907869057483, 1663), (0.085769177470663649, 3826), (0.085859394605063394, 4239), (0.085862049013598063, 1415), (0.085884145406622245, 4861), (0.085888361464391452, 3802), (0.085897116665481568, 1397), (0.085920402622552502, 3087), (0.085945486649809735, 1767), (0.08596608582003501, 708), (0.086052723762935629, 1118), (0.086186645095671977, 2344), (0.086187152164025782, 996), (0.086357840915527548, 31), (0.086391583745369691, 4136), (0.086450824898390302, 3621), (0.086492452348013588, 2905), (0.086592687333864604, 4677), (0.086618220272816709, 571), (0.086632370984543475, 742), (0.08664697842455614, 2148), (0.08664956720714162, 4718), (0.08666558070744379, 4428), (0.086722294455533103, 795), (0.086725641171878309, 4468), (0.086815596139797543, 2842), (0.087218836725482515, 119), (0.08722579996655927, 2081), (0.08723759078059376, 4958), (0.08725797649570978, 73), (0.087458654612116993, 3780), (0.087567969151293959, 2931), (0.087673661488264373, 626), (0.087719674954508262, 2807), (0.087771787879374202, 2826), (0.087873663870800187, 442), (0.087890021325563242, 670), (0.087903084645986673, 5000), (0.087914204320602762, 3775), (0.08796363498312286, 2521), (0.088011019498592219, 2970), (0.088012118287732963, 350), (0.088020082683080716, 592), (0.08804303014473909, 3673), (0.088048521369481048, 535), (0.088067769756550562, 3347), (0.088073380032565624, 3741), (0.088108865014790594, 1798), (0.088129146903265398, 666), (0.088184971365964634, 3551), (0.088192276041968609, 2570), (0.088226472232187741, 3578), (0.088251875114400011, 4686), (0.088264969062686438, 1358), (0.088292888081378917, 412), (0.088317521555671435, 4489), (0.088331481492969599, 28), (0.088332398981867941, 2410), (0.088333708072011158, 634), (0.088337697198691459, 2968), (0.088370628446353475, 193), (0.088370628446353475, 194), (0.088375483032332322, 2810), (0.088386167578263522, 3770), (0.088413264073843784, 2465), (0.088469065214827391, 848), (0.088470320669754687, 3356), (0.088483656328713273, 1269), (0.088516039089528056, 1596), (0.088545714354383298, 2256), (0.088548385202739582, 3022), (0.088550050891048504, 3007), (0.088560799909735963, 3842), (0.088571917887032503, 3934), (0.088594513581264106, 2830), (0.088630290185244612, 1811), (0.088741927492168277, 1524), (0.088748064166035548, 1254), (0.088750385379805008, 1635), (0.0887598971921469, 3595), (0.088777256369585444, 4797), (0.088801136270812694, 1315), (0.088864614859115038, 4646), (0.088918600077815615, 4927), (0.088944892751232962, 4753), (0.089057554801296707, 2229), (0.089067895309304077, 4778), (0.089098601175355202, 533), (0.089120471662271161, 4402), (0.089124506733135489, 288), (0.089130475381057742, 4698), (0.089141582733870739, 3283), (0.089200647258477678, 4202), (0.089235528871416128, 3498), (0.089236576204561768, 254), (0.089307410721169975, 1109), (0.089375812600890045, 2793), (0.089420085496530924, 466), (0.089440636584246155, 2304), (0.089459960330705857, 2441), (0.089463593590076662, 4430), (0.08947160543331481, 4566), (0.089515465154430748, 3539), (0.089516299007024347, 1047), (0.089548175220602128, 4355), (0.089559225993521313, 4315), (0.08958897999404862, 3980), (0.089603712648924944, 4777), (0.089609134190491477, 832), (0.089610357487811806, 2296), (0.089638027942458384, 3880), (0.089640303446591352, 3100), (0.089651661063289534, 104), (0.089707018269607378, 4807), (0.089726175598642433, 4031), (0.08974792751989337, 4928), (0.089787122386704915, 4221), (0.089805750087077488, 2925), (0.089851373744840674, 2496), (0.090063866496567418, 2421), (0.090104067080679195, 4282), (0.090121899175328243, 443), (0.090125600149986301, 3969), (0.090174955763400858, 492), (0.090241822530538834, 240), (0.090249259515883612, 4598), (0.09026033663104939, 4988), (0.090408170697424919, 2982), (0.090435849805672333, 3305), (0.090505856556675549, 4278), (0.090590683695443361, 3034), (0.090701488142041251, 891), (0.090761866735833266, 952), (0.090768398873034603, 555), (0.090843005397712936, 3253), (0.090902960758203727, 2401), (0.090939514102537616, 1857), (0.091029906388910162, 2254), (0.091062379786779932, 1337), (0.091067146813989946, 3941), (0.091148606630878828, 140), (0.091179883782339002, 5355), (0.091667591244176561, 835), (0.092912220817756463, 4186), (0.093175104080016724, 1155), (0.093427880801790805, 3018), (0.093930762645642041, 510), (0.095416220807858221, 4041), (0.096604232484854669, 3636), (0.096697610602475517, 2792), (0.097563491626762783, 5022), (0.098570215911598105, 1058), (0.098932195816499063, 583), (0.099392342760269356, 1212), (0.099831005018084798, 1908), (0.099905128722888606, 1526), (0.10028302521186205, 874), (0.10098854609135065, 852), (0.10117180148504823, 1156), (0.10193889268942093, 4365), (0.10308300334041151, 439), (0.10311437161941561, 1852), (0.10330220934977524, 114), (0.10362263785075498, 1290), (0.10371349175075101, 1787), (0.10371525057050467, 3677), (0.10452442404068123, 5239), (0.10508301860704669, 3309), (0.10565557200801827, 1452), (0.10653319272302553, 74), (0.1066135695568269, 2664), (0.10932590994139636, 4343), (0.10989099670243616, 3036), (0.11179536162279728, 3959), (0.11193035507057614, 4385), (0.11213014734752039, 4960), (0.11296367521376591, 4672), (0.11476680455723202, 2452), (0.11486889060164721, 4500), (0.11487288372282894, 1839), (0.11511109051409872, 4483), (0.11581091262519828, 2267), (0.11655724790690657, 5215), (0.11844149061518824, 3765), (0.11913754025908599, 4653), (0.1203550916314039, 968), (0.12091162529923163, 2390), (0.12105709540425127, 1765), (0.12292127087192711, 3965), (0.12401894406544327, 4036), (0.12447088174394867, 1259), (0.12477752272542074, 1488), (0.12479821735611239, 4934), (0.12481079452825874, 2080), (0.12603438700346467, 1083), (0.12606328911526088, 948), (0.12660421860263363, 724), (0.12717432413714169, 3163), (0.13037262494792479, 282), (0.13098016741404023, 4694), (0.13213592389224357, 2209), (0.13532394255719812, 3409), (0.1372059898785675, 4299), (0.13810111761194183, 2322), (0.13901460823624603, 3129), (0.13963173707880974, 2336), (0.14630665499813722, 4531), (0.15219141609298797, 2232), (0.15943869799182456, 1439), (0.15958911178728055, 309), (0.15969757398697892, 3905), (0.15974454352732606, 2921), (0.16008730002343433, 1458), (0.16030770819258838, 4032), (0.16053863088251202, 2323), (0.16056441863831908, 2875), (0.16061170323168902, 2515), (0.16078270475096304, 4496), (0.16094700739950976, 1828), (0.16100636412379518, 3428), (0.16118411602049004, 3821), (0.16119778025052878, 5113), (0.16134127734925702, 368), (0.16145284609501978, 178), (0.16148586358104097, 2584), (0.16148964781149985, 1011), (0.16149629867863141, 2320), (0.16151616541972941, 4115), (0.16152142914290515, 1449), (0.16166247800915912, 4273), (0.16183714588874351, 3755), (0.1618960900030102, 4157), (0.16202084249099585, 1846), (0.16246135701855879, 3932), (0.16266583905209697, 1122), (0.16340386078867927, 82), (0.16388238812985467, 4668), (0.16416705823987457, 380), (0.16430294270446053, 2668), (0.16496073642071335, 4597), (0.16574106657681792, 674), (0.1680233876348233, 313), (0.17276322859143337, 1461), (0.17319817152621156, 2332), (0.17325636415991627, 4655), (0.17328454724693881, 2956), (0.17403661815181801, 4525), (0.17418835409927633, 5025), (0.17516000424285513, 3922), (0.17538956924878893, 1951), (0.17578071002130397, 2151), (0.17670704917060542, 2357), (0.20014921290496401, 4476), (0.20451124031764997, 3735), (0.21875937150998812, 4901), (0.24066818949469865, 1842), (0.26903030970906644, 3300), (0.31944676086120027, 1107), (0.4471826918878189, 5226), (0.45250752145692752, 2486)]\n"
     ]
    }
   ],
   "source": [
    "distances = []\n",
    "for i in range(len(diff)):\n",
    "    distances.append((np.sqrt(np.sum(diff[i]**2)),i))\n",
    "distances.sort()\n",
    "print distances"
   ]
  },
  {
   "cell_type": "markdown",
   "metadata": {},
   "source": [
    "To test the code above, run the following cell, which should output a value 0.0237082324496:"
   ]
  },
  {
   "cell_type": "code",
   "execution_count": 94,
   "metadata": {
    "collapsed": false
   },
   "outputs": [
    {
     "name": "stdout",
     "output_type": "stream",
     "text": [
      "0.0237082324496\n"
     ]
    }
   ],
   "source": [
    "print distances[100] # Euclidean distance between the query house and the 101th training house\n",
    "# should print 0.0237082324496"
   ]
  },
  {
   "cell_type": "markdown",
   "metadata": {},
   "source": [
    "Now you are ready to write a function that computes the distances from a query house to all training houses. The function should take two parameters: (i) the matrix of training features and (ii) the single feature vector associated with the query."
   ]
  },
  {
   "cell_type": "code",
   "execution_count": 101,
   "metadata": {
    "collapsed": true
   },
   "outputs": [],
   "source": [
    "def cal_distances(training_features, query_vector):\n",
    "    diffs = training_features - query_vector\n",
    "    distances = []\n",
    "    for i in range(len(diffs)):\n",
    "        distances.append((np.sqrt(np.sum(diff[i]**2)),i))\n",
    "    distances.sort()\n",
    "    return distances"
   ]
  },
  {
   "cell_type": "markdown",
   "metadata": {
    "collapsed": false
   },
   "source": [
    "*** QUIZ QUESTIONS ***\n",
    "\n",
    "1.  Take the query house to be third house of the test set (`features_test[2]`).  What is the index of the house in the training set that is closest to this query house?\n",
    "2.  What is the predicted value of the query house based on 1-nearest neighbor regression?"
   ]
  },
  {
   "cell_type": "code",
   "execution_count": 102,
   "metadata": {
    "collapsed": false
   },
   "outputs": [],
   "source": [
    "dist = cal_distances(features_train, features_test[2])"
   ]
  },
  {
   "cell_type": "code",
   "execution_count": 104,
   "metadata": {
    "collapsed": false
   },
   "outputs": [
    {
     "name": "stdout",
     "output_type": "stream",
     "text": [
      "(0.0038768105827755497, 3758)\n"
     ]
    }
   ],
   "source": [
    "print dist[0]"
   ]
  },
  {
   "cell_type": "code",
   "execution_count": 149,
   "metadata": {
    "collapsed": false
   },
   "outputs": [
    {
     "data": {
      "text/plain": [
       "635000"
      ]
     },
     "execution_count": 149,
     "metadata": {},
     "output_type": "execute_result"
    }
   ],
   "source": [
    "output_train[3758]"
   ]
  },
  {
   "cell_type": "markdown",
   "metadata": {},
   "source": [
    "# Perform k-nearest neighbor regression"
   ]
  },
  {
   "cell_type": "markdown",
   "metadata": {},
   "source": [
    "For k-nearest neighbors, we need to find a *set* of k houses in the training set closest to a given query house. We then make predictions based on these k nearest neighbors."
   ]
  },
  {
   "cell_type": "markdown",
   "metadata": {},
   "source": [
    "## Fetch k-nearest neighbors\n",
    "\n",
    "Using the functions above, implement a function that takes in\n",
    " * the value of k;\n",
    " * the feature matrix for the training houses; and\n",
    " * the feature vector of the query house\n",
    " \n",
    "and returns the indices of the k closest training houses. For instance, with 2-nearest neighbor, a return value of [5, 10] would indicate that the 6th and 11th training houses are closest to the query house.\n",
    "\n",
    "**Hint**: Look at the [documentation for `np.argsort`](http://docs.scipy.org/doc/numpy/reference/generated/numpy.argsort.html)."
   ]
  },
  {
   "cell_type": "code",
   "execution_count": null,
   "metadata": {
    "collapsed": true
   },
   "outputs": [],
   "source": []
  },
  {
   "cell_type": "markdown",
   "metadata": {},
   "source": [
    "*** QUIZ QUESTION ***\n",
    "\n",
    "Take the query house to be third house of the test set (`features_test[2]`).  What are the indices of the 4 training houses closest to the query house?"
   ]
  },
  {
   "cell_type": "code",
   "execution_count": 105,
   "metadata": {
    "collapsed": false
   },
   "outputs": [
    {
     "name": "stdout",
     "output_type": "stream",
     "text": [
      "[(0.0038768105827755497, 3758), (0.0045552517282034834, 3144), (0.0053065224677904385, 4208), (0.005967313292745937, 5038)]\n"
     ]
    }
   ],
   "source": [
    "print dist[0:4]"
   ]
  },
  {
   "cell_type": "markdown",
   "metadata": {},
   "source": [
    "## Make a single prediction by averaging k nearest neighbor outputs"
   ]
  },
  {
   "cell_type": "markdown",
   "metadata": {},
   "source": [
    "Now that we know how to find the k-nearest neighbors, write a function that predicts the value of a given query house. **For simplicity, take the average of the prices of the k nearest neighbors in the training set**. The function should have the following parameters:\n",
    " * the value of k;\n",
    " * the feature matrix for the training houses;\n",
    " * the output values (prices) of the training houses; and\n",
    " * the feature vector of the query house, whose price we are predicting.\n",
    " \n",
    "The function should return a predicted value of the query house.\n",
    "\n",
    "**Hint**: You can extract multiple items from a Numpy array using a list of indices. For instance, `output_train[[6, 10]]` returns the prices of the 7th and 11th training houses."
   ]
  },
  {
   "cell_type": "code",
   "execution_count": 58,
   "metadata": {
    "collapsed": false
   },
   "outputs": [
    {
     "name": "stdout",
     "output_type": "stream",
     "text": [
      "3144\n"
     ]
    }
   ],
   "source": [
    "print dist[1][1]"
   ]
  },
  {
   "cell_type": "code",
   "execution_count": 59,
   "metadata": {
    "collapsed": false
   },
   "outputs": [
    {
     "name": "stdout",
     "output_type": "stream",
     "text": [
      "[3758, 3144, 4208, 5038]\n"
     ]
    }
   ],
   "source": [
    "def getIndex(k, distance):\n",
    "    index = []\n",
    "    for i in range(k):\n",
    "        index.append(distance[i][1])\n",
    "    return index\n",
    "print getIndex(4, dist)"
   ]
  },
  {
   "cell_type": "code",
   "execution_count": 62,
   "metadata": {
    "collapsed": false
   },
   "outputs": [
    {
     "name": "stdout",
     "output_type": "stream",
     "text": [
      "923750\n"
     ]
    }
   ],
   "source": [
    "print np.sum(output_train[[getIndex(4, dist)]])/4"
   ]
  },
  {
   "cell_type": "markdown",
   "metadata": {},
   "source": [
    "*** QUIZ QUESTION ***\n",
    "\n",
    "Again taking the query house to be third house of the test set (`features_test[2]`), predict the value of the query house using k-nearest neighbors with `k=4` and the simple averaging method described and implemented above."
   ]
  },
  {
   "cell_type": "code",
   "execution_count": null,
   "metadata": {
    "collapsed": false
   },
   "outputs": [],
   "source": []
  },
  {
   "cell_type": "markdown",
   "metadata": {},
   "source": [
    "Compare this predicted value using 4-nearest neighbors to the predicted value using 1-nearest neighbor computed earlier."
   ]
  },
  {
   "cell_type": "markdown",
   "metadata": {},
   "source": [
    "## Make multiple predictions"
   ]
  },
  {
   "cell_type": "markdown",
   "metadata": {},
   "source": [
    "Write a function to predict the value of *each and every* house in a query set. (The query set can be any subset of the dataset, be it the test set or validation set.) The idea is to have a loop where we take each house in the query set as the query house and make a prediction for that specific house. The new function should take the following parameters:\n",
    " * the value of k;\n",
    " * the feature matrix for the training houses;\n",
    " * the output values (prices) of the training houses; and\n",
    " * the feature matrix for the query set.\n",
    " \n",
    "The function should return a set of predicted values, one for each house in the query set.\n",
    "\n",
    "**Hint**: To get the number of houses in the query set, use the `.shape` field of the query features matrix. See [the documentation](http://docs.scipy.org/doc/numpy-1.10.1/reference/generated/numpy.ndarray.shape.html)."
   ]
  },
  {
   "cell_type": "code",
   "execution_count": 66,
   "metadata": {
    "collapsed": false
   },
   "outputs": [
    {
     "ename": "TypeError",
     "evalue": "'tuple' object is not callable",
     "output_type": "error",
     "traceback": [
      "\u001b[1;31m---------------------------------------------------------------------------\u001b[0m",
      "\u001b[1;31mTypeError\u001b[0m                                 Traceback (most recent call last)",
      "\u001b[1;32m<ipython-input-66-49780ac51d78>\u001b[0m in \u001b[0;36m<module>\u001b[1;34m()\u001b[0m\n\u001b[1;32m----> 1\u001b[1;33m \u001b[0mfeatures_test\u001b[0m\u001b[1;33m[\u001b[0m\u001b[1;36m0\u001b[0m\u001b[1;33m]\u001b[0m\u001b[1;33m.\u001b[0m\u001b[0mshape\u001b[0m\u001b[1;33m(\u001b[0m\u001b[1;33m)\u001b[0m\u001b[1;33m\u001b[0m\u001b[0m\n\u001b[0m",
      "\u001b[1;31mTypeError\u001b[0m: 'tuple' object is not callable"
     ]
    }
   ],
   "source": [
    "features_test[0].shape()"
   ]
  },
  {
   "cell_type": "code",
   "execution_count": 157,
   "metadata": {
    "collapsed": true
   },
   "outputs": [],
   "source": [
    "def predictHousePrice(k, feature_matrix, output, query):\n",
    "    di = feature_matrix - query\n",
    "    d = []\n",
    "    for i in range(len(di)):\n",
    "        d.append((np.sqrt(np.sum(di[i]**2)),i))\n",
    "    d.sort()\n",
    "    idx = []\n",
    "    for i in range(k):\n",
    "        idx.append(d[i][1])\n",
    "    #print idx\n",
    "    return np.sum(output[[idx]])/k"
   ]
  },
  {
   "cell_type": "code",
   "execution_count": 152,
   "metadata": {
    "collapsed": false
   },
   "outputs": [
    {
     "name": "stdout",
     "output_type": "stream",
     "text": [
      "[382, 1149, 4087, 3142]\n",
      "413987\n"
     ]
    }
   ],
   "source": [
    "print predictHousePrice(4,features_train, output_train, features_test[2])"
   ]
  },
  {
   "cell_type": "code",
   "execution_count": 153,
   "metadata": {
    "collapsed": false
   },
   "outputs": [
    {
     "name": "stdout",
     "output_type": "stream",
     "text": [
      "[382]\n",
      "249000\n"
     ]
    }
   ],
   "source": [
    "print predictHousePrice(1,features_train, output_train, features_test[2])"
   ]
  },
  {
   "cell_type": "code",
   "execution_count": 114,
   "metadata": {
    "collapsed": false
   },
   "outputs": [
    {
     "data": {
      "text/plain": [
       "249000"
      ]
     },
     "execution_count": 114,
     "metadata": {},
     "output_type": "execute_result"
    }
   ],
   "source": [
    "output_train[382]"
   ]
  },
  {
   "cell_type": "markdown",
   "metadata": {},
   "source": [
    "*** QUIZ QUESTION ***\n",
    "\n",
    "Make predictions for the first 10 houses in the test set using k-nearest neighbors with `k=10`. \n",
    "\n",
    "1. What is the index of the house in this query set that has the lowest predicted value? \n",
    "2. What is the predicted value of this house?"
   ]
  },
  {
   "cell_type": "code",
   "execution_count": 119,
   "metadata": {
    "collapsed": false
   },
   "outputs": [
    {
     "name": "stdout",
     "output_type": "stream",
     "text": [
      "[(6, 332830), (2, 413987), (1, 434400), (8, 436250), (9, 454975), (3, 552750), (7, 577500), (5, 683237), (4, 869625), (0, 923750)]\n"
     ]
    }
   ],
   "source": [
    "result = []\n",
    "for i in range(10):\n",
    "    result.append((i, predictHousePrice(4,features_train, output_train, features_test[i])))\n",
    "result.sort(key= lambda x : x[1])\n",
    "print result"
   ]
  },
  {
   "cell_type": "markdown",
   "metadata": {},
   "source": [
    "## Choosing the best value of k using a validation set"
   ]
  },
  {
   "cell_type": "markdown",
   "metadata": {},
   "source": [
    "There remains a question of choosing the value of k to use in making predictions. Here, we use a validation set to choose this value. Write a loop that does the following:\n",
    "\n",
    "* For `k` in [1, 2, ..., 15]:\n",
    "    * Makes predictions for each house in the VALIDATION set using the k-nearest neighbors from the TRAINING set.\n",
    "    * Computes the RSS for these predictions on the VALIDATION set\n",
    "    * Stores the RSS computed above in `rss_all`\n",
    "* Report which `k` produced the lowest RSS on VALIDATION set."
   ]
  },
  {
   "cell_type": "markdown",
   "metadata": {},
   "source": [
    "(Depending on your computing environment, this computation may take 10-15 minutes.)"
   ]
  },
  {
   "cell_type": "code",
   "execution_count": 141,
   "metadata": {
    "collapsed": false
   },
   "outputs": [],
   "source": [
    "rss_all = []\n",
    "for k in range(1,16,1):\n",
    "    predictions = []\n",
    "    for i in range(len(features_valid)):\n",
    "        predictions.append(predictHousePrice(k,features_train, output_train, features_valid[i]))\n",
    "    rss = np.sum((predictions - output_valid)**2)\n",
    "    rss_all.append((k, rss))"
   ]
  },
  {
   "cell_type": "code",
   "execution_count": 142,
   "metadata": {
    "collapsed": false
   },
   "outputs": [
    {
     "name": "stdout",
     "output_type": "stream",
     "text": [
      "15\n"
     ]
    }
   ],
   "source": [
    "print len(rss_all)"
   ]
  },
  {
   "cell_type": "markdown",
   "metadata": {
    "collapsed": false
   },
   "source": [
    "To visualize the performance as a function of `k`, plot the RSS on the VALIDATION set for each considered `k` value:"
   ]
  },
  {
   "cell_type": "code",
   "execution_count": 143,
   "metadata": {
    "collapsed": false
   },
   "outputs": [
    {
     "name": "stdout",
     "output_type": "stream",
     "text": [
      "[(8, 67361700020962), (7, 68338327119207), (9, 68372752298062), (6, 68903117974765), (12, 69051970861756), (10, 69333569808625), (11, 69523884081979), (5, 69846516027353), (13, 70011272351177), (14, 70911557088271), (15, 71108825690268), (4, 71934811409356), (3, 72692113667429), (2, 83445073036317), (1, 105451197751561)]\n"
     ]
    }
   ],
   "source": [
    "rss_a = []\n",
    "rss_al = []\n",
    "for i in rss_all:\n",
    "    rss_a.append((i[0], np.sum(i[1])))\n",
    "for i in rss_a:\n",
    "    rss_al.append(i[1])\n",
    "rss_a.sort(key = lambda x : x[1])\n",
    "print rss_a"
   ]
  },
  {
   "cell_type": "code",
   "execution_count": 144,
   "metadata": {
    "collapsed": false
   },
   "outputs": [
    {
     "name": "stdout",
     "output_type": "stream",
     "text": [
      "15\n"
     ]
    }
   ],
   "source": [
    "print len(rss_al)"
   ]
  },
  {
   "cell_type": "code",
   "execution_count": 145,
   "metadata": {
    "collapsed": false
   },
   "outputs": [
    {
     "data": {
      "text/plain": [
       "[<matplotlib.lines.Line2D at 0x1f04cac8>]"
      ]
     },
     "execution_count": 145,
     "metadata": {},
     "output_type": "execute_result"
    },
    {
     "data": {
      "image/png": "[encoded data removed]",
      "text/plain": [
       "<matplotlib.figure.Figure at 0x1ecfb908>"
      ]
     },
     "metadata": {},
     "output_type": "display_data"
    }
   ],
   "source": [
    "import matplotlib.pyplot as plt\n",
    "%matplotlib inline\n",
    "\n",
    "kvals = range(1, 16)\n",
    "plt.plot(kvals, rss_al,'bo-')"
   ]
  },
  {
   "cell_type": "markdown",
   "metadata": {},
   "source": [
    "***QUIZ QUESTION ***\n",
    "\n",
    "What is the RSS on the TEST data using the value of k found above?  To be clear, sum over all houses in the TEST set."
   ]
  },
  {
   "cell_type": "code",
   "execution_count": 160,
   "metadata": {
    "collapsed": false
   },
   "outputs": [
    {
     "name": "stdout",
     "output_type": "stream",
     "text": [
      "133091708541571\n"
     ]
    }
   ],
   "source": [
    "pred = []\n",
    "for i in range(len(features_test)):\n",
    "    pred.append(predictHousePrice(8,features_train, output_train, features_test[i]))\n",
    "rss = np.sum((pred-output_test)**2)\n",
    "print rss"
   ]
  },
  {
   "cell_type": "code",
   "execution_count": 158,
   "metadata": {
    "collapsed": false
   },
   "outputs": [
    {
     "name": "stdout",
     "output_type": "stream",
     "text": [
      "[650000 485000 438000 ..., 336750 608500 224000]\n"
     ]
    }
   ],
   "source": [
    "print output_test"
   ]
  },
  {
   "cell_type": "code",
   "execution_count": null,
   "metadata": {
    "collapsed": true
   },
   "outputs": [],
   "source": [
    "print rss"
   ]
  },
  {
   "cell_type": "code",
   "execution_count": null,
   "metadata": {
    "collapsed": true
   },
   "outputs": [],
   "source": []
  }
 ],
 "metadata": {
  "kernelspec": {
   "display_name": "Python 2",
   "language": "python",
   "name": "python2"
  },
  "language_info": {
   "codemirror_mode": {
    "name": "ipython",
    "version": 2
   },
   "file_extension": ".py",
   "mimetype": "text/x-python",
   "name": "python",
   "nbconvert_exporter": "python",
   "pygments_lexer": "ipython2",
   "version": "2.7.10"
  }
 },
 "nbformat": 4,
 "nbformat_minor": 0
}
